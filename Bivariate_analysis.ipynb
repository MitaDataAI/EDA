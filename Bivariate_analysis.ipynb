{
 "cells": [
  {
   "cell_type": "code",
   "execution_count": 1,
   "id": "2268bb7c-38fa-4fce-a5bc-c2454ad9f407",
   "metadata": {},
   "outputs": [],
   "source": [
    "import pandas as pd\n",
    "import numpy as np\n",
    "import matplotlib.pyplot as plt\n",
    "import seaborn as sns\n",
    "import scipy.stats as st\n",
    "import ast"
   ]
  },
  {
   "cell_type": "markdown",
   "id": "409b5fb9-4d8a-4778-a0fd-7ed660c55058",
   "metadata": {},
   "source": [
    "# Bivariate analysis"
   ]
  },
  {
   "cell_type": "markdown",
   "id": "bed2372f-733d-4d31-bae0-4466f7f52b2a",
   "metadata": {},
   "source": [
    "## Minutes and n_steps"
   ]
  },
  {
   "cell_type": "markdown",
   "id": "8024ca86-bf06-4653-b5c7-a788c3870c09",
   "metadata": {},
   "source": [
    "We have seen that \"minutes\" and \"n_steps\" have nearly the simular bihaviour. It's leads us to the following question\n",
    "\n",
    "**Question**\n",
    "- Does a higher number of steps correspond to more minutes as well ?"
   ]
  },
  {
   "cell_type": "markdown",
   "id": "3738b8ea-6bd5-4e7b-b621-b6eaa4fd4bfb",
   "metadata": {},
   "source": [
    "## Load Data"
   ]
  },
  {
   "cell_type": "code",
   "execution_count": 2,
   "id": "429dd190-a04d-4218-8522-641cef87e07a",
   "metadata": {},
   "outputs": [],
   "source": [
    "df = pd.read_csv(\"recipe_raw_without_NA.csv\")"
   ]
  },
  {
   "cell_type": "code",
   "execution_count": 3,
   "id": "af9a55e0-f5e0-448c-96da-351a09df6748",
   "metadata": {},
   "outputs": [
    {
     "data": {
      "text/html": [
       "<div>\n",
       "<style scoped>\n",
       "    .dataframe tbody tr th:only-of-type {\n",
       "        vertical-align: middle;\n",
       "    }\n",
       "\n",
       "    .dataframe tbody tr th {\n",
       "        vertical-align: top;\n",
       "    }\n",
       "\n",
       "    .dataframe thead th {\n",
       "        text-align: right;\n",
       "    }\n",
       "</style>\n",
       "<table border=\"1\" class=\"dataframe\">\n",
       "  <thead>\n",
       "    <tr style=\"text-align: right;\">\n",
       "      <th></th>\n",
       "      <th>name</th>\n",
       "      <th>id</th>\n",
       "      <th>minutes</th>\n",
       "      <th>contributor_id</th>\n",
       "      <th>submitted</th>\n",
       "      <th>tags</th>\n",
       "      <th>nutrition</th>\n",
       "      <th>n_steps</th>\n",
       "      <th>steps</th>\n",
       "      <th>description</th>\n",
       "      <th>ingredients</th>\n",
       "      <th>n_ingredients</th>\n",
       "    </tr>\n",
       "  </thead>\n",
       "  <tbody>\n",
       "    <tr>\n",
       "      <th>0</th>\n",
       "      <td>arriba   baked winter squash mexican style</td>\n",
       "      <td>137739</td>\n",
       "      <td>55</td>\n",
       "      <td>47892</td>\n",
       "      <td>2005-09-16</td>\n",
       "      <td>['60-minutes-or-less', 'time-to-make', 'course...</td>\n",
       "      <td>[51.5, 0.0, 13.0, 0.0, 2.0, 0.0, 4.0]</td>\n",
       "      <td>11</td>\n",
       "      <td>['make a choice and proceed with recipe', 'dep...</td>\n",
       "      <td>autumn is my favorite time of year to cook! th...</td>\n",
       "      <td>['winter squash', 'mexican seasoning', 'mixed ...</td>\n",
       "      <td>7</td>\n",
       "    </tr>\n",
       "    <tr>\n",
       "      <th>1</th>\n",
       "      <td>a bit different  breakfast pizza</td>\n",
       "      <td>31490</td>\n",
       "      <td>30</td>\n",
       "      <td>26278</td>\n",
       "      <td>2002-06-17</td>\n",
       "      <td>['30-minutes-or-less', 'time-to-make', 'course...</td>\n",
       "      <td>[173.4, 18.0, 0.0, 17.0, 22.0, 35.0, 1.0]</td>\n",
       "      <td>9</td>\n",
       "      <td>['preheat oven to 425 degrees f', 'press dough...</td>\n",
       "      <td>this recipe calls for the crust to be prebaked...</td>\n",
       "      <td>['prepared pizza crust', 'sausage patty', 'egg...</td>\n",
       "      <td>6</td>\n",
       "    </tr>\n",
       "    <tr>\n",
       "      <th>2</th>\n",
       "      <td>all in the kitchen  chili</td>\n",
       "      <td>112140</td>\n",
       "      <td>130</td>\n",
       "      <td>196586</td>\n",
       "      <td>2005-02-25</td>\n",
       "      <td>['time-to-make', 'course', 'preparation', 'mai...</td>\n",
       "      <td>[269.8, 22.0, 32.0, 48.0, 39.0, 27.0, 5.0]</td>\n",
       "      <td>6</td>\n",
       "      <td>['brown ground beef in large pot', 'add choppe...</td>\n",
       "      <td>this modified version of 'mom's' chili was a h...</td>\n",
       "      <td>['ground beef', 'yellow onions', 'diced tomato...</td>\n",
       "      <td>13</td>\n",
       "    </tr>\n",
       "    <tr>\n",
       "      <th>3</th>\n",
       "      <td>alouette  potatoes</td>\n",
       "      <td>59389</td>\n",
       "      <td>45</td>\n",
       "      <td>68585</td>\n",
       "      <td>2003-04-14</td>\n",
       "      <td>['60-minutes-or-less', 'time-to-make', 'course...</td>\n",
       "      <td>[368.1, 17.0, 10.0, 2.0, 14.0, 8.0, 20.0]</td>\n",
       "      <td>11</td>\n",
       "      <td>['place potatoes in a large pot of lightly sal...</td>\n",
       "      <td>this is a super easy, great tasting, make ahea...</td>\n",
       "      <td>['spreadable cheese with garlic and herbs', 'n...</td>\n",
       "      <td>11</td>\n",
       "    </tr>\n",
       "    <tr>\n",
       "      <th>4</th>\n",
       "      <td>amish  tomato ketchup  for canning</td>\n",
       "      <td>44061</td>\n",
       "      <td>190</td>\n",
       "      <td>41706</td>\n",
       "      <td>2002-10-25</td>\n",
       "      <td>['weeknight', 'time-to-make', 'course', 'main-...</td>\n",
       "      <td>[352.9, 1.0, 337.0, 23.0, 3.0, 0.0, 28.0]</td>\n",
       "      <td>5</td>\n",
       "      <td>['mix all ingredients&amp; boil for 2 1 / 2 hours ...</td>\n",
       "      <td>my dh's amish mother raised him on this recipe...</td>\n",
       "      <td>['tomato juice', 'apple cider vinegar', 'sugar...</td>\n",
       "      <td>8</td>\n",
       "    </tr>\n",
       "  </tbody>\n",
       "</table>\n",
       "</div>"
      ],
      "text/plain": [
       "                                         name      id  minutes  \\\n",
       "0  arriba   baked winter squash mexican style  137739       55   \n",
       "1            a bit different  breakfast pizza   31490       30   \n",
       "2                   all in the kitchen  chili  112140      130   \n",
       "3                          alouette  potatoes   59389       45   \n",
       "4          amish  tomato ketchup  for canning   44061      190   \n",
       "\n",
       "   contributor_id   submitted  \\\n",
       "0           47892  2005-09-16   \n",
       "1           26278  2002-06-17   \n",
       "2          196586  2005-02-25   \n",
       "3           68585  2003-04-14   \n",
       "4           41706  2002-10-25   \n",
       "\n",
       "                                                tags  \\\n",
       "0  ['60-minutes-or-less', 'time-to-make', 'course...   \n",
       "1  ['30-minutes-or-less', 'time-to-make', 'course...   \n",
       "2  ['time-to-make', 'course', 'preparation', 'mai...   \n",
       "3  ['60-minutes-or-less', 'time-to-make', 'course...   \n",
       "4  ['weeknight', 'time-to-make', 'course', 'main-...   \n",
       "\n",
       "                                    nutrition  n_steps  \\\n",
       "0       [51.5, 0.0, 13.0, 0.0, 2.0, 0.0, 4.0]       11   \n",
       "1   [173.4, 18.0, 0.0, 17.0, 22.0, 35.0, 1.0]        9   \n",
       "2  [269.8, 22.0, 32.0, 48.0, 39.0, 27.0, 5.0]        6   \n",
       "3   [368.1, 17.0, 10.0, 2.0, 14.0, 8.0, 20.0]       11   \n",
       "4   [352.9, 1.0, 337.0, 23.0, 3.0, 0.0, 28.0]        5   \n",
       "\n",
       "                                               steps  \\\n",
       "0  ['make a choice and proceed with recipe', 'dep...   \n",
       "1  ['preheat oven to 425 degrees f', 'press dough...   \n",
       "2  ['brown ground beef in large pot', 'add choppe...   \n",
       "3  ['place potatoes in a large pot of lightly sal...   \n",
       "4  ['mix all ingredients& boil for 2 1 / 2 hours ...   \n",
       "\n",
       "                                         description  \\\n",
       "0  autumn is my favorite time of year to cook! th...   \n",
       "1  this recipe calls for the crust to be prebaked...   \n",
       "2  this modified version of 'mom's' chili was a h...   \n",
       "3  this is a super easy, great tasting, make ahea...   \n",
       "4  my dh's amish mother raised him on this recipe...   \n",
       "\n",
       "                                         ingredients  n_ingredients  \n",
       "0  ['winter squash', 'mexican seasoning', 'mixed ...              7  \n",
       "1  ['prepared pizza crust', 'sausage patty', 'egg...              6  \n",
       "2  ['ground beef', 'yellow onions', 'diced tomato...             13  \n",
       "3  ['spreadable cheese with garlic and herbs', 'n...             11  \n",
       "4  ['tomato juice', 'apple cider vinegar', 'sugar...              8  "
      ]
     },
     "execution_count": 3,
     "metadata": {},
     "output_type": "execute_result"
    }
   ],
   "source": [
    "df.head()"
   ]
  },
  {
   "cell_type": "markdown",
   "id": "18f3ec41-3c34-4cc1-aa9b-1b9056d3dcfb",
   "metadata": {},
   "source": [
    "## Qualitative analysis"
   ]
  },
  {
   "cell_type": "code",
   "execution_count": 4,
   "id": "f62011c8-f758-431b-b5b4-d29b3d0f085d",
   "metadata": {},
   "outputs": [],
   "source": [
    "minutes = df[\"minutes\"]\n",
    "n_steps = df[\"n_steps\"]"
   ]
  },
  {
   "cell_type": "code",
   "execution_count": 5,
   "id": "e239c37a-9184-4664-b5cb-341aecfc2613",
   "metadata": {},
   "outputs": [
    {
     "data": {
      "image/png": "[encoded data removed]",
      "text/plain": [
       "<Figure size 640x480 with 1 Axes>"
      ]
     },
     "metadata": {},
     "output_type": "display_data"
    }
   ],
   "source": [
    "fig = plt.figure()\n",
    "ax = fig.add_subplot()\n",
    "plt.title (\"Relationship between n_steps and minutes\")\n",
    "plt.xlabel(\"number of steps of cooking\")\n",
    "plt.ylabel(\"minutes of cooking\")\n",
    "plt.scatter(n_steps, minutes)\n",
    "plt.show()"
   ]
  },
  {
   "cell_type": "markdown",
   "id": "0dba0bec-b337-4ebc-a178-1efcc3364bd0",
   "metadata": {},
   "source": [
    "Our intuition is misleading. As we can see, when the number of steps increase, the time to cook doesn't follow the same direction. In fact, the opposite might true. But in this graphic, the relashionship is not clear. To better understand this,  we have to linearize the relationship. "
   ]
  },
  {
   "cell_type": "code",
   "execution_count": 6,
   "id": "9b745593-fd34-43a7-b541-cfe19575fbba",
   "metadata": {},
   "outputs": [
    {
     "name": "stderr",
     "output_type": "stream",
     "text": [
      "C:\\Users\\Mita\\anaconda3\\envs\\portofolio\\lib\\site-packages\\pandas\\core\\arraylike.py:399: RuntimeWarning: divide by zero encountered in log\n",
      "  result = getattr(ufunc, method)(*inputs, **kwargs)\n"
     ]
    }
   ],
   "source": [
    "minutes_log = np.log(minutes)"
   ]
  },
  {
   "cell_type": "markdown",
   "id": "0d7f8a10-633d-484d-b5fb-ad5e7d57c3da",
   "metadata": {},
   "source": [
    "Log 0 = undefined\n",
    "So, we have to check if we have values = 0."
   ]
  },
  {
   "cell_type": "code",
   "execution_count": 7,
   "id": "5c2049a6-6326-4e6f-9eb4-107721b8c004",
   "metadata": {},
   "outputs": [
    {
     "data": {
      "text/plain": [
       "name              429\n",
       "id                429\n",
       "minutes           429\n",
       "contributor_id    429\n",
       "submitted         429\n",
       "tags              429\n",
       "nutrition         429\n",
       "n_steps           429\n",
       "steps             429\n",
       "description       429\n",
       "ingredients       429\n",
       "n_ingredients     429\n",
       "dtype: int64"
      ]
     },
     "execution_count": 7,
     "metadata": {},
     "output_type": "execute_result"
    }
   ],
   "source": [
    "# Verify if minutes have 0 minutes\n",
    "df[minutes == 0].count()"
   ]
  },
  {
   "cell_type": "markdown",
   "id": "58d1be58-4b25-40b6-9328-13bf1c663106",
   "metadata": {},
   "source": [
    "It may mean that the recipe needs just a few seconds to cook. So, we cannot delete these observarions. We will transform then the variable \"n_steps\"."
   ]
  },
  {
   "cell_type": "code",
   "execution_count": 8,
   "id": "c35bc985-ef60-4382-aaef-3e4516dcf286",
   "metadata": {},
   "outputs": [
    {
     "name": "stderr",
     "output_type": "stream",
     "text": [
      "C:\\Users\\Mita\\anaconda3\\envs\\portofolio\\lib\\site-packages\\pandas\\core\\arraylike.py:399: RuntimeWarning: divide by zero encountered in log\n",
      "  result = getattr(ufunc, method)(*inputs, **kwargs)\n"
     ]
    }
   ],
   "source": [
    "# Log n_steps \n",
    "n_steps_log = np.log(n_steps)"
   ]
  },
  {
   "cell_type": "code",
   "execution_count": 9,
   "id": "c722bb36-1a43-4913-9378-d867e2af6dfe",
   "metadata": {},
   "outputs": [
    {
     "data": {
      "text/plain": [
       "name              1\n",
       "id                1\n",
       "minutes           1\n",
       "contributor_id    1\n",
       "submitted         1\n",
       "tags              1\n",
       "nutrition         1\n",
       "n_steps           1\n",
       "steps             1\n",
       "description       1\n",
       "ingredients       1\n",
       "n_ingredients     1\n",
       "dtype: int64"
      ]
     },
     "execution_count": 9,
     "metadata": {},
     "output_type": "execute_result"
    }
   ],
   "source": [
    "df[n_steps == 0].count()"
   ]
  },
  {
   "cell_type": "code",
   "execution_count": 10,
   "id": "865c80f4-0160-4680-923e-2bff421177ff",
   "metadata": {},
   "outputs": [],
   "source": [
    "# Delete n_steps = 0\n",
    "df = df[df[\"n_steps\"] != 0]"
   ]
  },
  {
   "cell_type": "code",
   "execution_count": 11,
   "id": "f674bae9-72ae-4233-a807-04b089ef7287",
   "metadata": {},
   "outputs": [],
   "source": [
    "n_steps = df[\"n_steps\"]\n",
    "n_steps_log = np.log(n_steps)\n",
    "minutes = df[\"minutes\"]"
   ]
  },
  {
   "cell_type": "code",
   "execution_count": 12,
   "id": "386228b1-a5f4-4381-ba51-256ad7707244",
   "metadata": {},
   "outputs": [
    {
     "data": {
      "image/png": "[encoded data removed]",
      "text/plain": [
       "<Figure size 640x480 with 1 Axes>"
      ]
     },
     "metadata": {},
     "output_type": "display_data"
    }
   ],
   "source": [
    "fig = plt.figure()\n",
    "ax = fig.add_subplot()\n",
    "plt.title (\"Relationship between n_steps_log and minutes\")\n",
    "plt.ylabel(\"number of steps of cooking\")\n",
    "plt.xlabel(\"minutes of cooking\")\n",
    "plt.scatter(minutes, n_steps_log)\n",
    "plt.show()"
   ]
  },
  {
   "cell_type": "markdown",
   "id": "bf441476-faa6-41e8-8415-c4cdfedeee91",
   "metadata": {},
   "source": [
    "We have observed a relationship, but it is not linear. In fact, we can identify three distinct clusters. The first cluster ranges from 0 to around 1200 minutes. In this group, regardless of the number of steps, the cooking time remains very low. As the cooking time increases, the number of steps tends to converge around a level between 2 and 3. This same pattern appears in the other two clusters as well.\n",
    "\n",
    "We want to test Pearson correlation anymore in order to verify if it makes the linear relashionship."
   ]
  },
  {
   "cell_type": "code",
   "execution_count": 13,
   "id": "911e0c0f-0960-4814-9561-58519fbac56f",
   "metadata": {},
   "outputs": [
    {
     "name": "stdout",
     "output_type": "stream",
     "text": [
      "0.104413079895389 0.0\n"
     ]
    }
   ],
   "source": [
    "# Pearson correlation\n",
    "r, p_value = st.pearsonr(minutes, n_steps_log)\n",
    "print(r, p_value)"
   ]
  },
  {
   "cell_type": "markdown",
   "id": "61953f8f-f508-4332-87ab-6c5413b8fc0d",
   "metadata": {},
   "source": [
    "The correlation coefficient is near to 0. It seems that there is no relationship. But the test confirm that p-value < 0.05 and H0 (no relationship) is rejected. The two results are contraire. What's wrong? \n",
    "\n",
    "P-value is sensitive to the size of the data. Here we have 226186 observations. The right idea is to say that there no linear-relationship. "
   ]
  },
  {
   "cell_type": "code",
   "execution_count": 14,
   "id": "91f5766f-3257-45dc-aec2-92d661e4281e",
   "metadata": {},
   "outputs": [
    {
     "name": "stdout",
     "output_type": "stream",
     "text": [
      "226186\n"
     ]
    }
   ],
   "source": [
    "print(df.shape[0])"
   ]
  },
  {
   "cell_type": "markdown",
   "id": "5351f409-3525-4707-a144-3e423f142b2e",
   "metadata": {},
   "source": [
    "**Conclusion : **\n",
    "\n",
    "<span style =\"color :green\">To modelize the relationship between minutes and n_steps, linear regression won't the good model. </span> "
   ]
  },
  {
   "cell_type": "markdown",
   "id": "5b045445-c7e9-49e0-857d-90049a252225",
   "metadata": {},
   "source": [
    "# ID_contributor and the minutes"
   ]
  },
  {
   "cell_type": "markdown",
   "id": "b1f059cb-3e94-4390-b419-b570fc9882d9",
   "metadata": {},
   "source": [
    "The number of contribution is not the same for all contributor. Is there a relationship between this variable and the time cooking? "
   ]
  },
  {
   "cell_type": "code",
   "execution_count": 15,
   "id": "bf0f04aa-b1a8-4e5e-805b-bd4b3e244999",
   "metadata": {},
   "outputs": [],
   "source": [
    "contributor = df[\"contributor_id\"]"
   ]
  },
  {
   "cell_type": "code",
   "execution_count": 16,
   "id": "7203bb99-cb5b-4b50-b4c0-3ab0f27c429a",
   "metadata": {},
   "outputs": [
    {
     "data": {
      "text/plain": [
       "contributor_id\n",
       "89831      3112\n",
       "37449      2482\n",
       "37779      2472\n",
       "58104      1514\n",
       "169430     1375\n",
       "           ... \n",
       "536675        1\n",
       "86961         1\n",
       "621692        1\n",
       "2930834       1\n",
       "124064        1\n",
       "Name: count, Length: 27670, dtype: int64"
      ]
     },
     "execution_count": 16,
     "metadata": {},
     "output_type": "execute_result"
    }
   ],
   "source": [
    "# Check if there are one contributor with one contribution\n",
    "contributor.value_counts()"
   ]
  },
  {
   "cell_type": "markdown",
   "id": "982e7d6b-386e-4cd2-be93-eb016c34311e",
   "metadata": {},
   "source": [
    "As we can can see, we have have at least 05 contributor with one contribution. Let's see how many are they exactly."
   ]
  },
  {
   "cell_type": "code",
   "execution_count": 17,
   "id": "0a404a8a-dac0-411c-9e66-19306dc15bc3",
   "metadata": {},
   "outputs": [
    {
     "data": {
      "text/plain": [
       "pandas.core.series.Series"
      ]
     },
     "execution_count": 17,
     "metadata": {},
     "output_type": "execute_result"
    }
   ],
   "source": [
    "type(contributor.value_counts())"
   ]
  },
  {
   "cell_type": "code",
   "execution_count": 18,
   "id": "c6b469e3-1bfd-464b-a959-0167a1d1a131",
   "metadata": {},
   "outputs": [],
   "source": [
    "contributor_value_counts = contributor.value_counts()"
   ]
  },
  {
   "cell_type": "code",
   "execution_count": 19,
   "id": "3b9589f9-edd0-46bd-b643-781c787ff387",
   "metadata": {},
   "outputs": [
    {
     "name": "stdout",
     "output_type": "stream",
     "text": [
      "There are : 7 % of contributor with one contribution\n"
     ]
    }
   ],
   "source": [
    "contributor_value_counts_percentage = ((contributor_value_counts == 1).sum() / len(df)) * 100\n",
    "print(f\"There are :\", round(contributor_value_counts_percentage), \"% of contributor with one contribution\")"
   ]
  },
  {
   "cell_type": "markdown",
   "id": "dcfccf2a-b69e-421f-b79d-760603d33c42",
   "metadata": {},
   "source": [
    "There are relatively many of them."
   ]
  },
  {
   "cell_type": "markdown",
   "id": "23c6eadc-99c4-43d7-ae17-6f429810c712",
   "metadata": {},
   "source": [
    "## Let's put the distribution of each contributor"
   ]
  },
  {
   "cell_type": "code",
   "execution_count": 20,
   "id": "22aa5079-a7ab-4977-a316-7769e536b4a8",
   "metadata": {},
   "outputs": [
    {
     "data": {
      "text/plain": [
       "contributor_id\n",
       "27                                                    [10, 105]\n",
       "1530          [40, 27, 185, 50, 30, 54, 196, 50, 115, 50, 5,...\n",
       "1531                                               [150, 85, 0]\n",
       "1533          [40, 30, 70, 45, 60, 25, 20, 5, 30, 17, 25, 26...\n",
       "1534          [0, 45, 1450, 120, 85, 32, 45, 75, 10, 0, 5, 6...\n",
       "                                    ...                        \n",
       "2002234364                                                 [45]\n",
       "2002234769                                                 [75]\n",
       "2002247884                                                [210]\n",
       "2002285039                                    [15, 35, 80, 105]\n",
       "2002289981                                                 [80]\n",
       "Name: minutes, Length: 27670, dtype: object"
      ]
     },
     "execution_count": 20,
     "metadata": {},
     "output_type": "execute_result"
    }
   ],
   "source": [
    "# Let's group values by list\n",
    "group_by_contributor_minutes_df = df.groupby('contributor_id')['minutes'].apply(list)\n",
    "group_by_contributor_minutes_df"
   ]
  },
  {
   "cell_type": "code",
   "execution_count": 21,
   "id": "e7329279-0127-4a02-86cd-20b57a3a5e07",
   "metadata": {},
   "outputs": [],
   "source": [
    "group_by_contributor_minutes_df = pd.concat([contributor_value_counts, group_by_contributor_minutes_df], axis=1)"
   ]
  },
  {
   "cell_type": "code",
   "execution_count": 22,
   "id": "8b7b0d24-607e-4eb1-afe1-8ab72d72d2bb",
   "metadata": {},
   "outputs": [
    {
     "data": {
      "text/html": [
       "<div>\n",
       "<style scoped>\n",
       "    .dataframe tbody tr th:only-of-type {\n",
       "        vertical-align: middle;\n",
       "    }\n",
       "\n",
       "    .dataframe tbody tr th {\n",
       "        vertical-align: top;\n",
       "    }\n",
       "\n",
       "    .dataframe thead th {\n",
       "        text-align: right;\n",
       "    }\n",
       "</style>\n",
       "<table border=\"1\" class=\"dataframe\">\n",
       "  <thead>\n",
       "    <tr style=\"text-align: right;\">\n",
       "      <th></th>\n",
       "      <th>count</th>\n",
       "      <th>minutes</th>\n",
       "    </tr>\n",
       "    <tr>\n",
       "      <th>contributor_id</th>\n",
       "      <th></th>\n",
       "      <th></th>\n",
       "    </tr>\n",
       "  </thead>\n",
       "  <tbody>\n",
       "    <tr>\n",
       "      <th>89831</th>\n",
       "      <td>3112</td>\n",
       "      <td>[15, 300, 345, 80, 50, 1440, 5, 70, 70, 10, 45...</td>\n",
       "    </tr>\n",
       "    <tr>\n",
       "      <th>37449</th>\n",
       "      <td>2482</td>\n",
       "      <td>[5, 50, 10, 40, 15, 12, 40, 110, 30, 15, 17, 2...</td>\n",
       "    </tr>\n",
       "    <tr>\n",
       "      <th>37779</th>\n",
       "      <td>2472</td>\n",
       "      <td>[105, 10, 35, 40, 80, 60, 15, 20, 75, 10, 150,...</td>\n",
       "    </tr>\n",
       "    <tr>\n",
       "      <th>58104</th>\n",
       "      <td>1514</td>\n",
       "      <td>[15, 5, 60, 40, 13, 55, 20, 10, 30, 60, 30, 60...</td>\n",
       "    </tr>\n",
       "    <tr>\n",
       "      <th>169430</th>\n",
       "      <td>1375</td>\n",
       "      <td>[30, 2880, 3, 5, 25, 45, 275, 75, 30, 5, 3, 10...</td>\n",
       "    </tr>\n",
       "  </tbody>\n",
       "</table>\n",
       "</div>"
      ],
      "text/plain": [
       "                count                                            minutes\n",
       "contributor_id                                                          \n",
       "89831            3112  [15, 300, 345, 80, 50, 1440, 5, 70, 70, 10, 45...\n",
       "37449            2482  [5, 50, 10, 40, 15, 12, 40, 110, 30, 15, 17, 2...\n",
       "37779            2472  [105, 10, 35, 40, 80, 60, 15, 20, 75, 10, 150,...\n",
       "58104            1514  [15, 5, 60, 40, 13, 55, 20, 10, 30, 60, 30, 60...\n",
       "169430           1375  [30, 2880, 3, 5, 25, 45, 275, 75, 30, 5, 3, 10..."
      ]
     },
     "execution_count": 22,
     "metadata": {},
     "output_type": "execute_result"
    }
   ],
   "source": [
    "group_by_contributor_minutes_df.head()"
   ]
  },
  {
   "cell_type": "code",
   "execution_count": 23,
   "id": "f4614e2e-b948-4fd5-a143-08fd04eed08e",
   "metadata": {},
   "outputs": [],
   "source": [
    "minutes_trend_list = []\n",
    "# H0 : Distribution is normal\n",
    "# H1 : Not normal\n",
    "for i in group_by_contributor_minutes_df[\"minutes\"] : \n",
    "    if len(i) > 20 :\n",
    "        stat, p = st.normaltest(i)\n",
    "        if p <= 0.05 : # We can reject H0, mean is correct trend measure\n",
    "            minutes_trend_list.append(np.median(i))\n",
    "        else :\n",
    "                minutes_trend_list.append(np.mean(i))\n",
    "    else :\n",
    "        minutes_trend_list.append(np.mean(i))"
   ]
  },
  {
   "cell_type": "code",
   "execution_count": 24,
   "id": "f05faae4-cb68-4b73-9531-9d7785669b40",
   "metadata": {},
   "outputs": [],
   "source": [
    "group_by_contributor_minutes_df[\"trend_minutes\"] = minutes_trend_list"
   ]
  },
  {
   "cell_type": "code",
   "execution_count": 25,
   "id": "6176c623-ff19-4657-9cf8-e0b256a2b641",
   "metadata": {},
   "outputs": [
    {
     "data": {
      "text/html": [
       "<div>\n",
       "<style scoped>\n",
       "    .dataframe tbody tr th:only-of-type {\n",
       "        vertical-align: middle;\n",
       "    }\n",
       "\n",
       "    .dataframe tbody tr th {\n",
       "        vertical-align: top;\n",
       "    }\n",
       "\n",
       "    .dataframe thead th {\n",
       "        text-align: right;\n",
       "    }\n",
       "</style>\n",
       "<table border=\"1\" class=\"dataframe\">\n",
       "  <thead>\n",
       "    <tr style=\"text-align: right;\">\n",
       "      <th></th>\n",
       "      <th>count</th>\n",
       "      <th>minutes</th>\n",
       "      <th>trend_minutes</th>\n",
       "    </tr>\n",
       "    <tr>\n",
       "      <th>contributor_id</th>\n",
       "      <th></th>\n",
       "      <th></th>\n",
       "      <th></th>\n",
       "    </tr>\n",
       "  </thead>\n",
       "  <tbody>\n",
       "    <tr>\n",
       "      <th>89831</th>\n",
       "      <td>3112</td>\n",
       "      <td>[15, 300, 345, 80, 50, 1440, 5, 70, 70, 10, 45...</td>\n",
       "      <td>50.0</td>\n",
       "    </tr>\n",
       "    <tr>\n",
       "      <th>37449</th>\n",
       "      <td>2482</td>\n",
       "      <td>[5, 50, 10, 40, 15, 12, 40, 110, 30, 15, 17, 2...</td>\n",
       "      <td>30.0</td>\n",
       "    </tr>\n",
       "    <tr>\n",
       "      <th>37779</th>\n",
       "      <td>2472</td>\n",
       "      <td>[105, 10, 35, 40, 80, 60, 15, 20, 75, 10, 150,...</td>\n",
       "      <td>50.0</td>\n",
       "    </tr>\n",
       "    <tr>\n",
       "      <th>58104</th>\n",
       "      <td>1514</td>\n",
       "      <td>[15, 5, 60, 40, 13, 55, 20, 10, 30, 60, 30, 60...</td>\n",
       "      <td>25.0</td>\n",
       "    </tr>\n",
       "    <tr>\n",
       "      <th>169430</th>\n",
       "      <td>1375</td>\n",
       "      <td>[30, 2880, 3, 5, 25, 45, 275, 75, 30, 5, 3, 10...</td>\n",
       "      <td>31.0</td>\n",
       "    </tr>\n",
       "    <tr>\n",
       "      <th>...</th>\n",
       "      <td>...</td>\n",
       "      <td>...</td>\n",
       "      <td>...</td>\n",
       "    </tr>\n",
       "    <tr>\n",
       "      <th>536675</th>\n",
       "      <td>1</td>\n",
       "      <td>[45]</td>\n",
       "      <td>45.0</td>\n",
       "    </tr>\n",
       "    <tr>\n",
       "      <th>86961</th>\n",
       "      <td>1</td>\n",
       "      <td>[35]</td>\n",
       "      <td>35.0</td>\n",
       "    </tr>\n",
       "    <tr>\n",
       "      <th>621692</th>\n",
       "      <td>1</td>\n",
       "      <td>[35]</td>\n",
       "      <td>35.0</td>\n",
       "    </tr>\n",
       "    <tr>\n",
       "      <th>2930834</th>\n",
       "      <td>1</td>\n",
       "      <td>[80]</td>\n",
       "      <td>80.0</td>\n",
       "    </tr>\n",
       "    <tr>\n",
       "      <th>124064</th>\n",
       "      <td>1</td>\n",
       "      <td>[75]</td>\n",
       "      <td>75.0</td>\n",
       "    </tr>\n",
       "  </tbody>\n",
       "</table>\n",
       "<p>27670 rows × 3 columns</p>\n",
       "</div>"
      ],
      "text/plain": [
       "                count                                            minutes  \\\n",
       "contributor_id                                                             \n",
       "89831            3112  [15, 300, 345, 80, 50, 1440, 5, 70, 70, 10, 45...   \n",
       "37449            2482  [5, 50, 10, 40, 15, 12, 40, 110, 30, 15, 17, 2...   \n",
       "37779            2472  [105, 10, 35, 40, 80, 60, 15, 20, 75, 10, 150,...   \n",
       "58104            1514  [15, 5, 60, 40, 13, 55, 20, 10, 30, 60, 30, 60...   \n",
       "169430           1375  [30, 2880, 3, 5, 25, 45, 275, 75, 30, 5, 3, 10...   \n",
       "...               ...                                                ...   \n",
       "536675              1                                               [45]   \n",
       "86961               1                                               [35]   \n",
       "621692              1                                               [35]   \n",
       "2930834             1                                               [80]   \n",
       "124064              1                                               [75]   \n",
       "\n",
       "                trend_minutes  \n",
       "contributor_id                 \n",
       "89831                    50.0  \n",
       "37449                    30.0  \n",
       "37779                    50.0  \n",
       "58104                    25.0  \n",
       "169430                   31.0  \n",
       "...                       ...  \n",
       "536675                   45.0  \n",
       "86961                    35.0  \n",
       "621692                   35.0  \n",
       "2930834                  80.0  \n",
       "124064                   75.0  \n",
       "\n",
       "[27670 rows x 3 columns]"
      ]
     },
     "execution_count": 25,
     "metadata": {},
     "output_type": "execute_result"
    }
   ],
   "source": [
    "group_by_contributor_minutes_df"
   ]
  },
  {
   "cell_type": "markdown",
   "id": "98effd67-866d-4507-b8bd-0c4a8b403342",
   "metadata": {},
   "source": [
    "## Analys the relationship between count and trend_minutes"
   ]
  },
  {
   "cell_type": "code",
   "execution_count": 26,
   "id": "aabef951-5aa5-4645-a60b-938b03bc5afd",
   "metadata": {},
   "outputs": [
    {
     "name": "stderr",
     "output_type": "stream",
     "text": [
      "C:\\Users\\Mita\\anaconda3\\envs\\portofolio\\lib\\site-packages\\pandas\\core\\arraylike.py:399: RuntimeWarning: divide by zero encountered in log\n",
      "  result = getattr(ufunc, method)(*inputs, **kwargs)\n"
     ]
    }
   ],
   "source": [
    "X = group_by_contributor_minutes_df[\"count\"]\n",
    "X_log = np.log(X)\n",
    "Y = group_by_contributor_minutes_df[\"trend_minutes\"]\n",
    "Y_log = np.log(Y)"
   ]
  },
  {
   "cell_type": "code",
   "execution_count": 27,
   "id": "ab3c21d9-0b96-480c-8d13-fbc0416c870a",
   "metadata": {},
   "outputs": [
    {
     "data": {
      "image/png": "[encoded data removed]",
      "text/plain": [
       "<Figure size 640x480 with 3 Axes>"
      ]
     },
     "metadata": {},
     "output_type": "display_data"
    }
   ],
   "source": [
    "fig = plt.figure()\n",
    "\n",
    "ax1 = fig.add_subplot(1,3,1)\n",
    "plt.scatter(X, Y)\n",
    "plt.xlabel(\"number of recipe\")\n",
    "plt.ylabel(\"minutes\")\n",
    "plt.title(\"original\")\n",
    "\n",
    "ax2 = fig.add_subplot(1,3,2)\n",
    "plt.scatter(X_log, Y)\n",
    "plt.title(\"X_log\")\n",
    "plt.xlabel(\"log(Number of recipes)\")\n",
    "plt.ylabel(\"minutes\")\n",
    "\n",
    "ax3 = fig.add_subplot(1,3,3)\n",
    "plt.scatter(X_log, Y_log)\n",
    "plt.title(\"X_log, Y_log\")\n",
    "plt.xlabel(\"log(Number of recipes)\")\n",
    "plt.ylabel(\"log(Minutes)\")\n",
    "\n",
    "plt.subplots_adjust(wspace=0.55)\n",
    "\n",
    "plt.show()"
   ]
  },
  {
   "cell_type": "markdown",
   "id": "61f90545-cd07-4987-a6e6-35d3c8358340",
   "metadata": {},
   "source": [
    "There appears to be a weak decreasing relationship: as the number of recipes increases, the duration tends to decrease, although the data is highly dispersed."
   ]
  },
  {
   "cell_type": "markdown",
   "id": "84bf23e7-28bd-4187-a961-4a794540ced6",
   "metadata": {},
   "source": [
    "## Nutrition and ingredients"
   ]
  },
  {
   "cell_type": "markdown",
   "id": "09e72cea-c3de-4f35-a745-33fae606485b",
   "metadata": {},
   "source": [
    "Each nutrition list reflect each ingredient list?"
   ]
  },
  {
   "cell_type": "code",
   "execution_count": 28,
   "id": "ea90ad65-7e93-407a-896c-d781ff6dee91",
   "metadata": {},
   "outputs": [],
   "source": [
    "# Let's verify with the 05 recipe\n",
    "df_05_recipe = df[:5]"
   ]
  },
  {
   "cell_type": "code",
   "execution_count": 29,
   "id": "0f57588d-9e20-4703-85ce-ead845b185e1",
   "metadata": {},
   "outputs": [
    {
     "data": {
      "text/html": [
       "<div>\n",
       "<style scoped>\n",
       "    .dataframe tbody tr th:only-of-type {\n",
       "        vertical-align: middle;\n",
       "    }\n",
       "\n",
       "    .dataframe tbody tr th {\n",
       "        vertical-align: top;\n",
       "    }\n",
       "\n",
       "    .dataframe thead th {\n",
       "        text-align: right;\n",
       "    }\n",
       "</style>\n",
       "<table border=\"1\" class=\"dataframe\">\n",
       "  <thead>\n",
       "    <tr style=\"text-align: right;\">\n",
       "      <th></th>\n",
       "      <th>name</th>\n",
       "      <th>id</th>\n",
       "      <th>minutes</th>\n",
       "      <th>contributor_id</th>\n",
       "      <th>submitted</th>\n",
       "      <th>tags</th>\n",
       "      <th>nutrition</th>\n",
       "      <th>n_steps</th>\n",
       "      <th>steps</th>\n",
       "      <th>description</th>\n",
       "      <th>ingredients</th>\n",
       "      <th>n_ingredients</th>\n",
       "    </tr>\n",
       "  </thead>\n",
       "  <tbody>\n",
       "    <tr>\n",
       "      <th>0</th>\n",
       "      <td>arriba   baked winter squash mexican style</td>\n",
       "      <td>137739</td>\n",
       "      <td>55</td>\n",
       "      <td>47892</td>\n",
       "      <td>2005-09-16</td>\n",
       "      <td>['60-minutes-or-less', 'time-to-make', 'course...</td>\n",
       "      <td>[51.5, 0.0, 13.0, 0.0, 2.0, 0.0, 4.0]</td>\n",
       "      <td>11</td>\n",
       "      <td>['make a choice and proceed with recipe', 'dep...</td>\n",
       "      <td>autumn is my favorite time of year to cook! th...</td>\n",
       "      <td>['winter squash', 'mexican seasoning', 'mixed ...</td>\n",
       "      <td>7</td>\n",
       "    </tr>\n",
       "    <tr>\n",
       "      <th>1</th>\n",
       "      <td>a bit different  breakfast pizza</td>\n",
       "      <td>31490</td>\n",
       "      <td>30</td>\n",
       "      <td>26278</td>\n",
       "      <td>2002-06-17</td>\n",
       "      <td>['30-minutes-or-less', 'time-to-make', 'course...</td>\n",
       "      <td>[173.4, 18.0, 0.0, 17.0, 22.0, 35.0, 1.0]</td>\n",
       "      <td>9</td>\n",
       "      <td>['preheat oven to 425 degrees f', 'press dough...</td>\n",
       "      <td>this recipe calls for the crust to be prebaked...</td>\n",
       "      <td>['prepared pizza crust', 'sausage patty', 'egg...</td>\n",
       "      <td>6</td>\n",
       "    </tr>\n",
       "    <tr>\n",
       "      <th>2</th>\n",
       "      <td>all in the kitchen  chili</td>\n",
       "      <td>112140</td>\n",
       "      <td>130</td>\n",
       "      <td>196586</td>\n",
       "      <td>2005-02-25</td>\n",
       "      <td>['time-to-make', 'course', 'preparation', 'mai...</td>\n",
       "      <td>[269.8, 22.0, 32.0, 48.0, 39.0, 27.0, 5.0]</td>\n",
       "      <td>6</td>\n",
       "      <td>['brown ground beef in large pot', 'add choppe...</td>\n",
       "      <td>this modified version of 'mom's' chili was a h...</td>\n",
       "      <td>['ground beef', 'yellow onions', 'diced tomato...</td>\n",
       "      <td>13</td>\n",
       "    </tr>\n",
       "    <tr>\n",
       "      <th>3</th>\n",
       "      <td>alouette  potatoes</td>\n",
       "      <td>59389</td>\n",
       "      <td>45</td>\n",
       "      <td>68585</td>\n",
       "      <td>2003-04-14</td>\n",
       "      <td>['60-minutes-or-less', 'time-to-make', 'course...</td>\n",
       "      <td>[368.1, 17.0, 10.0, 2.0, 14.0, 8.0, 20.0]</td>\n",
       "      <td>11</td>\n",
       "      <td>['place potatoes in a large pot of lightly sal...</td>\n",
       "      <td>this is a super easy, great tasting, make ahea...</td>\n",
       "      <td>['spreadable cheese with garlic and herbs', 'n...</td>\n",
       "      <td>11</td>\n",
       "    </tr>\n",
       "    <tr>\n",
       "      <th>4</th>\n",
       "      <td>amish  tomato ketchup  for canning</td>\n",
       "      <td>44061</td>\n",
       "      <td>190</td>\n",
       "      <td>41706</td>\n",
       "      <td>2002-10-25</td>\n",
       "      <td>['weeknight', 'time-to-make', 'course', 'main-...</td>\n",
       "      <td>[352.9, 1.0, 337.0, 23.0, 3.0, 0.0, 28.0]</td>\n",
       "      <td>5</td>\n",
       "      <td>['mix all ingredients&amp; boil for 2 1 / 2 hours ...</td>\n",
       "      <td>my dh's amish mother raised him on this recipe...</td>\n",
       "      <td>['tomato juice', 'apple cider vinegar', 'sugar...</td>\n",
       "      <td>8</td>\n",
       "    </tr>\n",
       "  </tbody>\n",
       "</table>\n",
       "</div>"
      ],
      "text/plain": [
       "                                         name      id  minutes  \\\n",
       "0  arriba   baked winter squash mexican style  137739       55   \n",
       "1            a bit different  breakfast pizza   31490       30   \n",
       "2                   all in the kitchen  chili  112140      130   \n",
       "3                          alouette  potatoes   59389       45   \n",
       "4          amish  tomato ketchup  for canning   44061      190   \n",
       "\n",
       "   contributor_id   submitted  \\\n",
       "0           47892  2005-09-16   \n",
       "1           26278  2002-06-17   \n",
       "2          196586  2005-02-25   \n",
       "3           68585  2003-04-14   \n",
       "4           41706  2002-10-25   \n",
       "\n",
       "                                                tags  \\\n",
       "0  ['60-minutes-or-less', 'time-to-make', 'course...   \n",
       "1  ['30-minutes-or-less', 'time-to-make', 'course...   \n",
       "2  ['time-to-make', 'course', 'preparation', 'mai...   \n",
       "3  ['60-minutes-or-less', 'time-to-make', 'course...   \n",
       "4  ['weeknight', 'time-to-make', 'course', 'main-...   \n",
       "\n",
       "                                    nutrition  n_steps  \\\n",
       "0       [51.5, 0.0, 13.0, 0.0, 2.0, 0.0, 4.0]       11   \n",
       "1   [173.4, 18.0, 0.0, 17.0, 22.0, 35.0, 1.0]        9   \n",
       "2  [269.8, 22.0, 32.0, 48.0, 39.0, 27.0, 5.0]        6   \n",
       "3   [368.1, 17.0, 10.0, 2.0, 14.0, 8.0, 20.0]       11   \n",
       "4   [352.9, 1.0, 337.0, 23.0, 3.0, 0.0, 28.0]        5   \n",
       "\n",
       "                                               steps  \\\n",
       "0  ['make a choice and proceed with recipe', 'dep...   \n",
       "1  ['preheat oven to 425 degrees f', 'press dough...   \n",
       "2  ['brown ground beef in large pot', 'add choppe...   \n",
       "3  ['place potatoes in a large pot of lightly sal...   \n",
       "4  ['mix all ingredients& boil for 2 1 / 2 hours ...   \n",
       "\n",
       "                                         description  \\\n",
       "0  autumn is my favorite time of year to cook! th...   \n",
       "1  this recipe calls for the crust to be prebaked...   \n",
       "2  this modified version of 'mom's' chili was a h...   \n",
       "3  this is a super easy, great tasting, make ahea...   \n",
       "4  my dh's amish mother raised him on this recipe...   \n",
       "\n",
       "                                         ingredients  n_ingredients  \n",
       "0  ['winter squash', 'mexican seasoning', 'mixed ...              7  \n",
       "1  ['prepared pizza crust', 'sausage patty', 'egg...              6  \n",
       "2  ['ground beef', 'yellow onions', 'diced tomato...             13  \n",
       "3  ['spreadable cheese with garlic and herbs', 'n...             11  \n",
       "4  ['tomato juice', 'apple cider vinegar', 'sugar...              8  "
      ]
     },
     "execution_count": 29,
     "metadata": {},
     "output_type": "execute_result"
    }
   ],
   "source": [
    "df_05_recipe"
   ]
  },
  {
   "cell_type": "code",
   "execution_count": 30,
   "id": "4dd32e28-0875-4a53-bab2-2036e19675bc",
   "metadata": {},
   "outputs": [],
   "source": [
    "#Transform the sublist in nutrition and ingredients to make calcul\n",
    "nutrition_05 = df_05_recipe [\"nutrition\"]\n",
    "ingredients_05 = df_05_recipe [\"ingredients\"]"
   ]
  },
  {
   "cell_type": "code",
   "execution_count": 31,
   "id": "3eefee3b-942e-40fa-9b6c-efc4248e5775",
   "metadata": {},
   "outputs": [
    {
     "data": {
      "text/plain": [
       "0         [51.5, 0.0, 13.0, 0.0, 2.0, 0.0, 4.0]\n",
       "1     [173.4, 18.0, 0.0, 17.0, 22.0, 35.0, 1.0]\n",
       "2    [269.8, 22.0, 32.0, 48.0, 39.0, 27.0, 5.0]\n",
       "3     [368.1, 17.0, 10.0, 2.0, 14.0, 8.0, 20.0]\n",
       "4     [352.9, 1.0, 337.0, 23.0, 3.0, 0.0, 28.0]\n",
       "Name: nutrition, dtype: object"
      ]
     },
     "execution_count": 31,
     "metadata": {},
     "output_type": "execute_result"
    }
   ],
   "source": [
    "nutrition_05"
   ]
  },
  {
   "cell_type": "code",
   "execution_count": 32,
   "id": "8d80aad5-bbaf-4011-bf63-0cd8038868c5",
   "metadata": {},
   "outputs": [],
   "source": [
    "# Verification\n",
    "nutrition_05_equal_to_ingredients_05 = 0\n",
    "nutrition_05_not_equal_to_ingredients_05 = 0\n",
    "for list_1, list_2 in zip(nutrition_05, ingredients_05) : \n",
    "        if len(list_1) == len(list_2) :\n",
    "            nutrition_05_equal_to_ingredients_05 += 1\n",
    "        else :\n",
    "            nutrition_05_not_equal_to_ingredients_05 += 1"
   ]
  },
  {
   "cell_type": "code",
   "execution_count": 33,
   "id": "24b2c325-441d-4e67-bf9a-7d4cbb020143",
   "metadata": {},
   "outputs": [
    {
     "name": "stdout",
     "output_type": "stream",
     "text": [
      "0\n",
      "5\n"
     ]
    }
   ],
   "source": [
    "print(nutrition_05_equal_to_ingredients_05)\n",
    "print(nutrition_05_not_equal_to_ingredients_05)"
   ]
  },
  {
   "cell_type": "code",
   "execution_count": 34,
   "id": "6f1a2888-6447-46c5-bfa3-051293a93278",
   "metadata": {},
   "outputs": [],
   "source": [
    "# Scalability\n",
    "nutrition = df[\"nutrition\"]\n",
    "ingredients = df[\"ingredients\"]\n",
    "\n",
    "nutrition_equal_to_ingredients = 0\n",
    "nutrition_not_equal_to_ingredients = 0\n",
    "\n",
    "for list_1, list_2 in zip(nutrition, ingredients) :\n",
    "    if len(list_1) == len(list_2) : \n",
    "        nutrition_equal_to_ingredients += 1\n",
    "    else : \n",
    "        nutrition_not_equal_to_ingredients += 1"
   ]
  },
  {
   "cell_type": "code",
   "execution_count": 35,
   "id": "9e2b3008-46a3-4612-a57e-55b6f683285d",
   "metadata": {},
   "outputs": [
    {
     "name": "stdout",
     "output_type": "stream",
     "text": [
      "the number of observation where length of nutrition is equal to length of ingredients : 346\n",
      "the rest : 225840\n"
     ]
    }
   ],
   "source": [
    "print(\"the number of observation where length of nutrition is equal to length of ingredients :\", nutrition_equal_to_ingredients)\n",
    "print(\"the rest :\", nutrition_not_equal_to_ingredients)"
   ]
  },
  {
   "cell_type": "markdown",
   "id": "b3772da2-ac86-440d-8216-b77c75525902",
   "metadata": {},
   "source": [
    "In that case, the nutrition is not related of which ingredients.\n",
    "\n",
    "What we can do? Let's see if the more we have a lot of ingredient, the more we have a great nutrition."
   ]
  },
  {
   "cell_type": "code",
   "execution_count": 36,
   "id": "d2ee35ec-bfec-4e09-80a1-5eddcc639f2f",
   "metadata": {},
   "outputs": [],
   "source": [
    "# Let's create a variable of sum of nutrition\n",
    "nutritition_sum = []\n",
    "nutrition = nutrition.apply(ast.literal_eval)\n",
    "\n",
    "for list in nutrition : \n",
    "        nutritition_sum.append(np.sum(list))"
   ]
  },
  {
   "cell_type": "code",
   "execution_count": 37,
   "id": "b1ff8660-fab6-4926-a754-a3c5b2de730a",
   "metadata": {},
   "outputs": [],
   "source": [
    "df.insert(loc = 1,column = \"nutritition_sum\", value = nutritition_sum)"
   ]
  },
  {
   "cell_type": "code",
   "execution_count": 38,
   "id": "b3869f45-e99f-4b38-a44e-cf2d406b5b50",
   "metadata": {},
   "outputs": [
    {
     "data": {
      "text/html": [
       "<div>\n",
       "<style scoped>\n",
       "    .dataframe tbody tr th:only-of-type {\n",
       "        vertical-align: middle;\n",
       "    }\n",
       "\n",
       "    .dataframe tbody tr th {\n",
       "        vertical-align: top;\n",
       "    }\n",
       "\n",
       "    .dataframe thead th {\n",
       "        text-align: right;\n",
       "    }\n",
       "</style>\n",
       "<table border=\"1\" class=\"dataframe\">\n",
       "  <thead>\n",
       "    <tr style=\"text-align: right;\">\n",
       "      <th></th>\n",
       "      <th>name</th>\n",
       "      <th>nutritition_sum</th>\n",
       "      <th>id</th>\n",
       "      <th>minutes</th>\n",
       "      <th>contributor_id</th>\n",
       "      <th>submitted</th>\n",
       "      <th>tags</th>\n",
       "      <th>nutrition</th>\n",
       "      <th>n_steps</th>\n",
       "      <th>steps</th>\n",
       "      <th>description</th>\n",
       "      <th>ingredients</th>\n",
       "      <th>n_ingredients</th>\n",
       "    </tr>\n",
       "  </thead>\n",
       "  <tbody>\n",
       "    <tr>\n",
       "      <th>0</th>\n",
       "      <td>arriba   baked winter squash mexican style</td>\n",
       "      <td>70.5</td>\n",
       "      <td>137739</td>\n",
       "      <td>55</td>\n",
       "      <td>47892</td>\n",
       "      <td>2005-09-16</td>\n",
       "      <td>['60-minutes-or-less', 'time-to-make', 'course...</td>\n",
       "      <td>[51.5, 0.0, 13.0, 0.0, 2.0, 0.0, 4.0]</td>\n",
       "      <td>11</td>\n",
       "      <td>['make a choice and proceed with recipe', 'dep...</td>\n",
       "      <td>autumn is my favorite time of year to cook! th...</td>\n",
       "      <td>['winter squash', 'mexican seasoning', 'mixed ...</td>\n",
       "      <td>7</td>\n",
       "    </tr>\n",
       "    <tr>\n",
       "      <th>1</th>\n",
       "      <td>a bit different  breakfast pizza</td>\n",
       "      <td>266.4</td>\n",
       "      <td>31490</td>\n",
       "      <td>30</td>\n",
       "      <td>26278</td>\n",
       "      <td>2002-06-17</td>\n",
       "      <td>['30-minutes-or-less', 'time-to-make', 'course...</td>\n",
       "      <td>[173.4, 18.0, 0.0, 17.0, 22.0, 35.0, 1.0]</td>\n",
       "      <td>9</td>\n",
       "      <td>['preheat oven to 425 degrees f', 'press dough...</td>\n",
       "      <td>this recipe calls for the crust to be prebaked...</td>\n",
       "      <td>['prepared pizza crust', 'sausage patty', 'egg...</td>\n",
       "      <td>6</td>\n",
       "    </tr>\n",
       "    <tr>\n",
       "      <th>2</th>\n",
       "      <td>all in the kitchen  chili</td>\n",
       "      <td>442.8</td>\n",
       "      <td>112140</td>\n",
       "      <td>130</td>\n",
       "      <td>196586</td>\n",
       "      <td>2005-02-25</td>\n",
       "      <td>['time-to-make', 'course', 'preparation', 'mai...</td>\n",
       "      <td>[269.8, 22.0, 32.0, 48.0, 39.0, 27.0, 5.0]</td>\n",
       "      <td>6</td>\n",
       "      <td>['brown ground beef in large pot', 'add choppe...</td>\n",
       "      <td>this modified version of 'mom's' chili was a h...</td>\n",
       "      <td>['ground beef', 'yellow onions', 'diced tomato...</td>\n",
       "      <td>13</td>\n",
       "    </tr>\n",
       "    <tr>\n",
       "      <th>3</th>\n",
       "      <td>alouette  potatoes</td>\n",
       "      <td>439.1</td>\n",
       "      <td>59389</td>\n",
       "      <td>45</td>\n",
       "      <td>68585</td>\n",
       "      <td>2003-04-14</td>\n",
       "      <td>['60-minutes-or-less', 'time-to-make', 'course...</td>\n",
       "      <td>[368.1, 17.0, 10.0, 2.0, 14.0, 8.0, 20.0]</td>\n",
       "      <td>11</td>\n",
       "      <td>['place potatoes in a large pot of lightly sal...</td>\n",
       "      <td>this is a super easy, great tasting, make ahea...</td>\n",
       "      <td>['spreadable cheese with garlic and herbs', 'n...</td>\n",
       "      <td>11</td>\n",
       "    </tr>\n",
       "    <tr>\n",
       "      <th>4</th>\n",
       "      <td>amish  tomato ketchup  for canning</td>\n",
       "      <td>744.9</td>\n",
       "      <td>44061</td>\n",
       "      <td>190</td>\n",
       "      <td>41706</td>\n",
       "      <td>2002-10-25</td>\n",
       "      <td>['weeknight', 'time-to-make', 'course', 'main-...</td>\n",
       "      <td>[352.9, 1.0, 337.0, 23.0, 3.0, 0.0, 28.0]</td>\n",
       "      <td>5</td>\n",
       "      <td>['mix all ingredients&amp; boil for 2 1 / 2 hours ...</td>\n",
       "      <td>my dh's amish mother raised him on this recipe...</td>\n",
       "      <td>['tomato juice', 'apple cider vinegar', 'sugar...</td>\n",
       "      <td>8</td>\n",
       "    </tr>\n",
       "    <tr>\n",
       "      <th>...</th>\n",
       "      <td>...</td>\n",
       "      <td>...</td>\n",
       "      <td>...</td>\n",
       "      <td>...</td>\n",
       "      <td>...</td>\n",
       "      <td>...</td>\n",
       "      <td>...</td>\n",
       "      <td>...</td>\n",
       "      <td>...</td>\n",
       "      <td>...</td>\n",
       "      <td>...</td>\n",
       "      <td>...</td>\n",
       "      <td>...</td>\n",
       "    </tr>\n",
       "    <tr>\n",
       "      <th>226182</th>\n",
       "      <td>zydeco soup</td>\n",
       "      <td>581.2</td>\n",
       "      <td>486161</td>\n",
       "      <td>60</td>\n",
       "      <td>227978</td>\n",
       "      <td>2012-08-29</td>\n",
       "      <td>['ham', '60-minutes-or-less', 'time-to-make', ...</td>\n",
       "      <td>[415.2, 26.0, 34.0, 26.0, 44.0, 21.0, 15.0]</td>\n",
       "      <td>7</td>\n",
       "      <td>['heat oil in a 4-quart dutch oven', 'add cele...</td>\n",
       "      <td>this is a delicious soup that i originally fou...</td>\n",
       "      <td>['celery', 'onion', 'green sweet pepper', 'gar...</td>\n",
       "      <td>22</td>\n",
       "    </tr>\n",
       "    <tr>\n",
       "      <th>226183</th>\n",
       "      <td>zydeco spice mix</td>\n",
       "      <td>76.8</td>\n",
       "      <td>493372</td>\n",
       "      <td>5</td>\n",
       "      <td>1500678</td>\n",
       "      <td>2013-01-09</td>\n",
       "      <td>['15-minutes-or-less', 'time-to-make', 'course...</td>\n",
       "      <td>[14.8, 0.0, 2.0, 58.0, 1.0, 0.0, 1.0]</td>\n",
       "      <td>1</td>\n",
       "      <td>['mix all ingredients together thoroughly']</td>\n",
       "      <td>this spice mix will make your taste buds dance!</td>\n",
       "      <td>['paprika', 'salt', 'garlic powder', 'onion po...</td>\n",
       "      <td>13</td>\n",
       "    </tr>\n",
       "    <tr>\n",
       "      <th>226184</th>\n",
       "      <td>zydeco ya ya deviled eggs</td>\n",
       "      <td>81.2</td>\n",
       "      <td>308080</td>\n",
       "      <td>40</td>\n",
       "      <td>37779</td>\n",
       "      <td>2008-06-07</td>\n",
       "      <td>['60-minutes-or-less', 'time-to-make', 'course...</td>\n",
       "      <td>[59.2, 6.0, 2.0, 3.0, 6.0, 5.0, 0.0]</td>\n",
       "      <td>7</td>\n",
       "      <td>['in a bowl , combine the mashed yolks and may...</td>\n",
       "      <td>deviled eggs, cajun-style</td>\n",
       "      <td>['hard-cooked eggs', 'mayonnaise', 'dijon must...</td>\n",
       "      <td>8</td>\n",
       "    </tr>\n",
       "    <tr>\n",
       "      <th>226185</th>\n",
       "      <td>cookies by design   cookies on a stick</td>\n",
       "      <td>304.0</td>\n",
       "      <td>298512</td>\n",
       "      <td>29</td>\n",
       "      <td>506822</td>\n",
       "      <td>2008-04-15</td>\n",
       "      <td>['30-minutes-or-less', 'time-to-make', 'course...</td>\n",
       "      <td>[188.0, 11.0, 57.0, 11.0, 7.0, 21.0, 9.0]</td>\n",
       "      <td>9</td>\n",
       "      <td>['place melted butter in a large mixing bowl a...</td>\n",
       "      <td>i've heard of the 'cookies by design' company,...</td>\n",
       "      <td>['butter', 'eagle brand condensed milk', 'ligh...</td>\n",
       "      <td>10</td>\n",
       "    </tr>\n",
       "    <tr>\n",
       "      <th>226186</th>\n",
       "      <td>cookies by design   sugar shortbread cookies</td>\n",
       "      <td>246.9</td>\n",
       "      <td>298509</td>\n",
       "      <td>20</td>\n",
       "      <td>506822</td>\n",
       "      <td>2008-04-15</td>\n",
       "      <td>['30-minutes-or-less', 'time-to-make', 'course...</td>\n",
       "      <td>[174.9, 14.0, 33.0, 4.0, 4.0, 11.0, 6.0]</td>\n",
       "      <td>5</td>\n",
       "      <td>['whip sugar and shortening in a large bowl , ...</td>\n",
       "      <td>i've heard of the 'cookies by design' company,...</td>\n",
       "      <td>['granulated sugar', 'shortening', 'eggs', 'fl...</td>\n",
       "      <td>7</td>\n",
       "    </tr>\n",
       "  </tbody>\n",
       "</table>\n",
       "<p>226186 rows × 13 columns</p>\n",
       "</div>"
      ],
      "text/plain": [
       "                                                name  nutritition_sum      id  \\\n",
       "0         arriba   baked winter squash mexican style             70.5  137739   \n",
       "1                   a bit different  breakfast pizza            266.4   31490   \n",
       "2                          all in the kitchen  chili            442.8  112140   \n",
       "3                                 alouette  potatoes            439.1   59389   \n",
       "4                 amish  tomato ketchup  for canning            744.9   44061   \n",
       "...                                              ...              ...     ...   \n",
       "226182                                   zydeco soup            581.2  486161   \n",
       "226183                              zydeco spice mix             76.8  493372   \n",
       "226184                     zydeco ya ya deviled eggs             81.2  308080   \n",
       "226185        cookies by design   cookies on a stick            304.0  298512   \n",
       "226186  cookies by design   sugar shortbread cookies            246.9  298509   \n",
       "\n",
       "        minutes  contributor_id   submitted  \\\n",
       "0            55           47892  2005-09-16   \n",
       "1            30           26278  2002-06-17   \n",
       "2           130          196586  2005-02-25   \n",
       "3            45           68585  2003-04-14   \n",
       "4           190           41706  2002-10-25   \n",
       "...         ...             ...         ...   \n",
       "226182       60          227978  2012-08-29   \n",
       "226183        5         1500678  2013-01-09   \n",
       "226184       40           37779  2008-06-07   \n",
       "226185       29          506822  2008-04-15   \n",
       "226186       20          506822  2008-04-15   \n",
       "\n",
       "                                                     tags  \\\n",
       "0       ['60-minutes-or-less', 'time-to-make', 'course...   \n",
       "1       ['30-minutes-or-less', 'time-to-make', 'course...   \n",
       "2       ['time-to-make', 'course', 'preparation', 'mai...   \n",
       "3       ['60-minutes-or-less', 'time-to-make', 'course...   \n",
       "4       ['weeknight', 'time-to-make', 'course', 'main-...   \n",
       "...                                                   ...   \n",
       "226182  ['ham', '60-minutes-or-less', 'time-to-make', ...   \n",
       "226183  ['15-minutes-or-less', 'time-to-make', 'course...   \n",
       "226184  ['60-minutes-or-less', 'time-to-make', 'course...   \n",
       "226185  ['30-minutes-or-less', 'time-to-make', 'course...   \n",
       "226186  ['30-minutes-or-less', 'time-to-make', 'course...   \n",
       "\n",
       "                                          nutrition  n_steps  \\\n",
       "0             [51.5, 0.0, 13.0, 0.0, 2.0, 0.0, 4.0]       11   \n",
       "1         [173.4, 18.0, 0.0, 17.0, 22.0, 35.0, 1.0]        9   \n",
       "2        [269.8, 22.0, 32.0, 48.0, 39.0, 27.0, 5.0]        6   \n",
       "3         [368.1, 17.0, 10.0, 2.0, 14.0, 8.0, 20.0]       11   \n",
       "4         [352.9, 1.0, 337.0, 23.0, 3.0, 0.0, 28.0]        5   \n",
       "...                                             ...      ...   \n",
       "226182  [415.2, 26.0, 34.0, 26.0, 44.0, 21.0, 15.0]        7   \n",
       "226183        [14.8, 0.0, 2.0, 58.0, 1.0, 0.0, 1.0]        1   \n",
       "226184         [59.2, 6.0, 2.0, 3.0, 6.0, 5.0, 0.0]        7   \n",
       "226185    [188.0, 11.0, 57.0, 11.0, 7.0, 21.0, 9.0]        9   \n",
       "226186     [174.9, 14.0, 33.0, 4.0, 4.0, 11.0, 6.0]        5   \n",
       "\n",
       "                                                    steps  \\\n",
       "0       ['make a choice and proceed with recipe', 'dep...   \n",
       "1       ['preheat oven to 425 degrees f', 'press dough...   \n",
       "2       ['brown ground beef in large pot', 'add choppe...   \n",
       "3       ['place potatoes in a large pot of lightly sal...   \n",
       "4       ['mix all ingredients& boil for 2 1 / 2 hours ...   \n",
       "...                                                   ...   \n",
       "226182  ['heat oil in a 4-quart dutch oven', 'add cele...   \n",
       "226183        ['mix all ingredients together thoroughly']   \n",
       "226184  ['in a bowl , combine the mashed yolks and may...   \n",
       "226185  ['place melted butter in a large mixing bowl a...   \n",
       "226186  ['whip sugar and shortening in a large bowl , ...   \n",
       "\n",
       "                                              description  \\\n",
       "0       autumn is my favorite time of year to cook! th...   \n",
       "1       this recipe calls for the crust to be prebaked...   \n",
       "2       this modified version of 'mom's' chili was a h...   \n",
       "3       this is a super easy, great tasting, make ahea...   \n",
       "4       my dh's amish mother raised him on this recipe...   \n",
       "...                                                   ...   \n",
       "226182  this is a delicious soup that i originally fou...   \n",
       "226183    this spice mix will make your taste buds dance!   \n",
       "226184                          deviled eggs, cajun-style   \n",
       "226185  i've heard of the 'cookies by design' company,...   \n",
       "226186  i've heard of the 'cookies by design' company,...   \n",
       "\n",
       "                                              ingredients  n_ingredients  \n",
       "0       ['winter squash', 'mexican seasoning', 'mixed ...              7  \n",
       "1       ['prepared pizza crust', 'sausage patty', 'egg...              6  \n",
       "2       ['ground beef', 'yellow onions', 'diced tomato...             13  \n",
       "3       ['spreadable cheese with garlic and herbs', 'n...             11  \n",
       "4       ['tomato juice', 'apple cider vinegar', 'sugar...              8  \n",
       "...                                                   ...            ...  \n",
       "226182  ['celery', 'onion', 'green sweet pepper', 'gar...             22  \n",
       "226183  ['paprika', 'salt', 'garlic powder', 'onion po...             13  \n",
       "226184  ['hard-cooked eggs', 'mayonnaise', 'dijon must...              8  \n",
       "226185  ['butter', 'eagle brand condensed milk', 'ligh...             10  \n",
       "226186  ['granulated sugar', 'shortening', 'eggs', 'fl...              7  \n",
       "\n",
       "[226186 rows x 13 columns]"
      ]
     },
     "execution_count": 38,
     "metadata": {},
     "output_type": "execute_result"
    }
   ],
   "source": [
    "df"
   ]
  },
  {
   "cell_type": "code",
   "execution_count": 39,
   "id": "000a3ffb-5801-4679-9450-c77da276a753",
   "metadata": {},
   "outputs": [],
   "source": [
    "nutrition_sum = df[\"nutritition_sum\"]\n",
    "n_ingredients = df[\"n_ingredients\"]"
   ]
  },
  {
   "cell_type": "code",
   "execution_count": 40,
   "id": "49b1fcf5-3bdf-4008-9475-fbdd4331efec",
   "metadata": {},
   "outputs": [
    {
     "name": "stdout",
     "output_type": "stream",
     "text": [
      "0.04741596399188792 9.980149029106207e-113\n"
     ]
    }
   ],
   "source": [
    "stat, pvalue = st.pearsonr(nutrition_sum, n_ingredients)\n",
    "print(stat, pvalue)"
   ]
  },
  {
   "cell_type": "code",
   "execution_count": 41,
   "id": "e34e3c9a-1d4f-4c99-a436-daffdc6a254f",
   "metadata": {},
   "outputs": [
    {
     "data": {
      "image/png": "[encoded data removed]",
      "text/plain": [
       "<Figure size 640x480 with 2 Axes>"
      ]
     },
     "metadata": {},
     "output_type": "display_data"
    }
   ],
   "source": [
    "fig = plt.figure()\n",
    "plt.suptitle(\"Distribution comparison of nutrition and number of ingredients\")\n",
    "ax1 = fig.add_subplot(1,2,1)\n",
    "sns.kdeplot(nutrition_sum)\n",
    "ax2 = fig.add_subplot(1,2,2)\n",
    "sns.kdeplot(n_ingredients)\n",
    "plt.subplots_adjust(wspace = 0.5)\n",
    "plt.show()"
   ]
  },
  {
   "cell_type": "markdown",
   "id": "3f218e1b-09d0-4dab-b3ce-2a959c64356e",
   "metadata": {},
   "source": [
    "We can see that the for of distribution are nearly the same. May be, they are correlated. Let's analyse the scatter plot."
   ]
  },
  {
   "cell_type": "code",
   "execution_count": 42,
   "id": "0e9caae8-d994-49a0-bda9-685dc3ab8119",
   "metadata": {},
   "outputs": [
    {
     "data": {
      "image/png": "[encoded data removed]",
      "text/plain": [
       "<Figure size 640x480 with 1 Axes>"
      ]
     },
     "metadata": {},
     "output_type": "display_data"
    }
   ],
   "source": [
    "fig = plt.figure()\n",
    "ax = fig.add_subplot()\n",
    "plt.title (\"Relationship between n_ingredients and nutrition\")\n",
    "plt.ylabel(\"nutrition\")\n",
    "plt.xlabel(\"number of ingredients\")\n",
    "plt.scatter(n_ingredients, nutrition_sum)\n",
    "plt.show()"
   ]
  },
  {
   "cell_type": "markdown",
   "id": "15fc56de-ff38-4a73-adc2-6bcf546f2243",
   "metadata": {},
   "source": [
    "Let's delete the one single observation very different. "
   ]
  },
  {
   "cell_type": "code",
   "execution_count": 43,
   "id": "71d28ea1-516f-4acc-bba8-c32759754db7",
   "metadata": {},
   "outputs": [
    {
     "data": {
      "text/html": [
       "<div>\n",
       "<style scoped>\n",
       "    .dataframe tbody tr th:only-of-type {\n",
       "        vertical-align: middle;\n",
       "    }\n",
       "\n",
       "    .dataframe tbody tr th {\n",
       "        vertical-align: top;\n",
       "    }\n",
       "\n",
       "    .dataframe thead th {\n",
       "        text-align: right;\n",
       "    }\n",
       "</style>\n",
       "<table border=\"1\" class=\"dataframe\">\n",
       "  <thead>\n",
       "    <tr style=\"text-align: right;\">\n",
       "      <th></th>\n",
       "      <th>name</th>\n",
       "      <th>nutritition_sum</th>\n",
       "      <th>id</th>\n",
       "      <th>minutes</th>\n",
       "      <th>contributor_id</th>\n",
       "      <th>submitted</th>\n",
       "      <th>tags</th>\n",
       "      <th>nutrition</th>\n",
       "      <th>n_steps</th>\n",
       "      <th>steps</th>\n",
       "      <th>description</th>\n",
       "      <th>ingredients</th>\n",
       "      <th>n_ingredients</th>\n",
       "    </tr>\n",
       "  </thead>\n",
       "  <tbody>\n",
       "    <tr>\n",
       "      <th>204463</th>\n",
       "      <td>tennessee moonshine</td>\n",
       "      <td>840355.2</td>\n",
       "      <td>193435</td>\n",
       "      <td>20</td>\n",
       "      <td>374913</td>\n",
       "      <td>2006-11-01</td>\n",
       "      <td>['30-minutes-or-less', 'time-to-make', 'course...</td>\n",
       "      <td>[434360.2, 1293.0, 362729.0, 1324.0, 3961.0, 5...</td>\n",
       "      <td>3</td>\n",
       "      <td>['to boiled cornmeal add yeast and lots of sug...</td>\n",
       "      <td>common moonshine recipe in tennessee</td>\n",
       "      <td>['cornmeal', 'natural bran', 'sugar', 'yeast',...</td>\n",
       "      <td>5</td>\n",
       "    </tr>\n",
       "  </tbody>\n",
       "</table>\n",
       "</div>"
      ],
      "text/plain": [
       "                       name  nutritition_sum      id  minutes  contributor_id  \\\n",
       "204463  tennessee moonshine         840355.2  193435       20          374913   \n",
       "\n",
       "         submitted                                               tags  \\\n",
       "204463  2006-11-01  ['30-minutes-or-less', 'time-to-make', 'course...   \n",
       "\n",
       "                                                nutrition  n_steps  \\\n",
       "204463  [434360.2, 1293.0, 362729.0, 1324.0, 3961.0, 5...        3   \n",
       "\n",
       "                                                    steps  \\\n",
       "204463  ['to boiled cornmeal add yeast and lots of sug...   \n",
       "\n",
       "                                 description  \\\n",
       "204463  common moonshine recipe in tennessee   \n",
       "\n",
       "                                              ingredients  n_ingredients  \n",
       "204463  ['cornmeal', 'natural bran', 'sugar', 'yeast',...              5  "
      ]
     },
     "execution_count": 43,
     "metadata": {},
     "output_type": "execute_result"
    }
   ],
   "source": [
    "# Let's see\n",
    "nutrition_maximum = df[\"nutritition_sum\"].max()\n",
    "nutrition_maximum_row = df[df[\"nutritition_sum\"] == nutrition_maximum]\n",
    "nutrition_maximum_row"
   ]
  },
  {
   "cell_type": "code",
   "execution_count": 48,
   "id": "463bc403-7b8e-4643-ae8b-598860a2cf9f",
   "metadata": {},
   "outputs": [
    {
     "name": "stdout",
     "output_type": "stream",
     "text": [
      "226186\n",
      "226186\n"
     ]
    }
   ],
   "source": [
    "print(len(df[\"nutritition_sum\"]))\n",
    "print(len(df[\"n_ingredients\"]))"
   ]
  },
  {
   "cell_type": "markdown",
   "id": "fdedf3c6-a6ef-4947-a20e-adbca9819427",
   "metadata": {},
   "source": [
    "With 5 ingredients, it is impossible to have 840355 Cal. Let's delete it."
   ]
  },
  {
   "cell_type": "code",
   "execution_count": 49,
   "id": "aef4cb8c-80f0-4966-abb7-13c90b383b39",
   "metadata": {},
   "outputs": [],
   "source": [
    "df_1 = df[df[\"nutritition_sum\"] != nutrition_maximum]"
   ]
  },
  {
   "cell_type": "code",
   "execution_count": 66,
   "id": "a01f6a59-ca47-4a4d-97f7-3368dfbaa11f",
   "metadata": {},
   "outputs": [],
   "source": [
    "n_ingredients = df_1[\"n_ingredients\"]\n",
    "n_ingredients_log = np.log(n_ingredients)\n",
    "nutritition_sum = df_1[\"nutritition_sum\"]\n",
    "n_nutritition_sum_log = np.log(nutritition_sum)"
   ]
  },
  {
   "cell_type": "code",
   "execution_count": 56,
   "id": "b1a1ae50-3f5d-4f9d-a58f-a68d0f137c66",
   "metadata": {},
   "outputs": [
    {
     "name": "stdout",
     "output_type": "stream",
     "text": [
      "226185 226185\n"
     ]
    }
   ],
   "source": [
    "print(len(n_ingredients), len(nutritition_sum))"
   ]
  },
  {
   "cell_type": "code",
   "execution_count": 70,
   "id": "798613d0-0782-4b4b-b032-454509dd9a4f",
   "metadata": {},
   "outputs": [
    {
     "data": {
      "image/png": "[encoded data removed]",
      "text/plain": [
       "<Figure size 640x480 with 2 Axes>"
      ]
     },
     "metadata": {},
     "output_type": "display_data"
    }
   ],
   "source": [
    "fig = plt.figure()\n",
    "ax1 = fig.add_subplot(1,2,1)\n",
    "plt.title (\"Relationship between n_ingredients and nutrition\")\n",
    "plt.ylabel(\"nutrition\")\n",
    "plt.ylim (top = 30000)\n",
    "plt.xlabel(\"number of ingredients\")\n",
    "plt.scatter(n_ingredients, nutritition_sum)\n",
    "ax2 = fig.add_subplot(1,2,2)\n",
    "plt.scatter(n_ingredients_log, n_nutritition_sum_log)\n",
    "plt.show()"
   ]
  },
  {
   "cell_type": "markdown",
   "id": "1440389f-7d17-4bf8-ab83-8c5b8809c417",
   "metadata": {},
   "source": [
    "The relationship is not evident."
   ]
  }
 ],
 "metadata": {
  "kernelspec": {
   "display_name": "Python (portofolio)",
   "language": "python",
   "name": "portofolio"
  },
  "language_info": {
   "codemirror_mode": {
    "name": "ipython",
    "version": 3
   },
   "file_extension": ".py",
   "mimetype": "text/x-python",
   "name": "python",
   "nbconvert_exporter": "python",
   "pygments_lexer": "ipython3",
   "version": "3.9.21"
  }
 },
 "nbformat": 4,
 "nbformat_minor": 5
}
