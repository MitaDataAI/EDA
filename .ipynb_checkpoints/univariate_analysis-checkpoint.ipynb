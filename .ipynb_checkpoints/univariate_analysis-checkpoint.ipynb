{
 "cells": [
  {
   "cell_type": "markdown",
   "id": "eeb56bdf",
   "metadata": {},
   "source": [
    "# Exploratory Data Analysis (MS Big Data and IA) \n",
    "\n",
    "For any questions on the course or this notebook: charlotte.laclau@telecom-paris.fr\n",
    "\n",
    "The purpose of this practical is to make you go through the different eda techniques presented during the course. \n",
    "We will work with this lab for several sessions. \n",
    "\n",
    "The dataset that we will consider consists of food recipes and recipe reviews covering 18 years of user interactions and uploads on Food.com (formerly GeniusKitchen). It is often used to evaluate machine learning models that perform recipe recommendations. We will mainly study two files : recipe.csv and inter.csv. \n",
    "\n",
    "## Organisation of the sessions \n",
    "\n",
    "\n",
    "This lab is splitted into several parts. The begining is well guided and has your skills improve, you'll have to be more independent. Mandatory questions are in <span style=\"color:blue\">blue</span> in the subsequent notebook. \n",
    "At the end of each part you have a small bonus section. I strongly encourage you to do them (not only for the grade but mostly to improve your python coding skills). \n",
    "\n",
    "\n",
    "## Evaluation \n",
    "\n",
    "At the end of the course, this lab with be graded. Here are some guidelines about what I expect from you. \n",
    "- At the end of our last course, you will upload your notebook along with a `requirement.txt` file on ecampus \n",
    "- Your code needs to be carefully commented \n",
    "- You have to write a few sentence commenting all the results that you obtained ! I suggest to group results and write intermediate conclusions answering the different questions. \n",
    "- I don't want to see any personalized functions or classes in the main notebook. Think modular code! If you want to write specific functions write them in some `utils.py` file. The main notebook code should be as light as possible. "
   ]
  },
  {
   "cell_type": "markdown",
   "id": "1499b457-fe24-4407-97f0-df8e5ac4c9e9",
   "metadata": {},
   "source": [
    "# Package"
   ]
  },
  {
   "cell_type": "code",
   "execution_count": 1,
   "id": "11ab5a8f-3062-481d-a8d5-68f97182493b",
   "metadata": {},
   "outputs": [],
   "source": [
    "import pandas as pd\n",
    "import numpy as np\n",
    "import matplotlib.pyplot as plt\n",
    "import seaborn as sns"
   ]
  },
  {
   "cell_type": "markdown",
   "id": "44d1f71c",
   "metadata": {},
   "source": [
    "## Part 1 - Univariate Analysis"
   ]
  },
  {
   "cell_type": "markdown",
   "id": "78c42143",
   "metadata": {},
   "source": [
    "Let us start with the recipe file that contains the reciped submitted to the website describes by several features. \n",
    "Below you'll find some code to read the data and print the first three rows. I used the `panda` library for these two steps, meaning that I will be manipulating a dataframe object. "
   ]
  },
  {
   "cell_type": "markdown",
   "id": "b0fd96e3",
   "metadata": {},
   "source": [
    "**Questions** \n",
    "- <span style=\"color:blue\">How many recipes are in the file ? </span>\n",
    "- <span style=\"color:blue\">How many variables do you have. Write the list in a md cell along with the type of the variable for each.</span>\n",
    "- <span style=\"color:blue\">Are there any missing values in your dataset?</span>"
   ]
  },
  {
   "cell_type": "code",
   "execution_count": 2,
   "id": "8bcb062c",
   "metadata": {},
   "outputs": [],
   "source": [
    "df = pd.read_csv(\"RAW_recipes.csv\")"
   ]
  },
  {
   "cell_type": "code",
   "execution_count": 3,
   "id": "cefe44df-1211-4328-9dd8-3299c934d7ff",
   "metadata": {},
   "outputs": [
    {
     "name": "stdout",
     "output_type": "stream",
     "text": [
      "number of recipe :  231637 , number of variable : 12\n"
     ]
    }
   ],
   "source": [
    "shape_recipe = np.shape(df)\n",
    "raw_recipe = shape_recipe[0]\n",
    "number_of_variable = shape_recipe[1]\n",
    "print(\"number of recipe : \", raw_recipe, \", number of variable :\", number_of_variable)"
   ]
  },
  {
   "cell_type": "code",
   "execution_count": 4,
   "id": "d0c1f2e6-4c49-478b-b178-25ff561d438c",
   "metadata": {},
   "outputs": [
    {
     "name": "stdout",
     "output_type": "stream",
     "text": [
      "percentage_of_missing_values :  2.149915600702824\n"
     ]
    }
   ],
   "source": [
    "number_of_missing_values = pd.isnull(df).sum().sum()\n",
    "percentage_of_missing_values = (number_of_missing_values / raw_recipe) * 100\n",
    "print(\"percentage_of_missing_values : \", percentage_of_missing_values)"
   ]
  },
  {
   "cell_type": "markdown",
   "id": "7c5272ab-c585-41e0-88ce-a026d32c1e76",
   "metadata": {},
   "source": [
    "Let's delete the missing values because we are here to practise the data analysis. At the end, we will use this part of missing data to make prediction. "
   ]
  },
  {
   "cell_type": "code",
   "execution_count": 5,
   "id": "c286031e-2b70-4756-b936-841876b2f21d",
   "metadata": {},
   "outputs": [],
   "source": [
    "# Drop the element at least one element is NaN\n",
    "df = df.dropna()"
   ]
  },
  {
   "cell_type": "code",
   "execution_count": 6,
   "id": "c1284598-ebc4-45cd-9b08-ff9f58ee8c23",
   "metadata": {},
   "outputs": [
    {
     "name": "stdout",
     "output_type": "stream",
     "text": [
      "0\n"
     ]
    }
   ],
   "source": [
    "number_of_missing_values = pd.isnull(df).sum().sum()\n",
    "print(number_of_missing_values)"
   ]
  },
  {
   "cell_type": "code",
   "execution_count": 7,
   "id": "4327b527-df79-4f92-80ae-3ac8c1f05de4",
   "metadata": {},
   "outputs": [
    {
     "name": "stdout",
     "output_type": "stream",
     "text": [
      "Index(['name', 'id', 'minutes', 'contributor_id', 'submitted', 'tags',\n",
      "       'nutrition', 'n_steps', 'steps', 'description', 'ingredients',\n",
      "       'n_ingredients'],\n",
      "      dtype='object')\n"
     ]
    }
   ],
   "source": [
    "print(df.columns)"
   ]
  },
  {
   "cell_type": "code",
   "execution_count": 8,
   "id": "3b8a8531-5390-46ad-ac87-af607d56e1e0",
   "metadata": {},
   "outputs": [
    {
     "data": {
      "text/plain": [
       "name              object\n",
       "id                 int64\n",
       "minutes            int64\n",
       "contributor_id     int64\n",
       "submitted         object\n",
       "tags              object\n",
       "nutrition         object\n",
       "n_steps            int64\n",
       "steps             object\n",
       "description       object\n",
       "ingredients       object\n",
       "n_ingredients      int64\n",
       "dtype: object"
      ]
     },
     "execution_count": 8,
     "metadata": {},
     "output_type": "execute_result"
    }
   ],
   "source": [
    "df.dtypes"
   ]
  },
  {
   "cell_type": "code",
   "execution_count": 9,
   "id": "a094ce5e-4c9e-4608-bb64-e51a4decf6ca",
   "metadata": {},
   "outputs": [
    {
     "data": {
      "text/plain": [
       "0         [51.5, 0.0, 13.0, 0.0, 2.0, 0.0, 4.0]\n",
       "1     [173.4, 18.0, 0.0, 17.0, 22.0, 35.0, 1.0]\n",
       "2    [269.8, 22.0, 32.0, 48.0, 39.0, 27.0, 5.0]\n",
       "3     [368.1, 17.0, 10.0, 2.0, 14.0, 8.0, 20.0]\n",
       "4     [352.9, 1.0, 337.0, 23.0, 3.0, 0.0, 28.0]\n",
       "Name: nutrition, dtype: object"
      ]
     },
     "execution_count": 9,
     "metadata": {},
     "output_type": "execute_result"
    }
   ],
   "source": [
    "df[\"nutrition\"].head()"
   ]
  },
  {
   "cell_type": "markdown",
   "id": "d9e2ad1c",
   "metadata": {},
   "source": [
    "List of variables:\n",
    "- name : nominale qualitative\n",
    "- id : nominale qualitative\n",
    "- minutes : continious\n",
    "- contributor_id : nominale qualitative\n",
    "- submitted : nominale qualitative\n",
    "- tags : nominale qualitative\n",
    "- nutrition : continious\n",
    "- n_steps : discrete\n",
    "- steps : nominale qualitative\n",
    "- description : nominale qualitative\n",
    "- ingredients : nominale qualitative\n",
    "- n_ingredients : discret"
   ]
  },
  {
   "cell_type": "markdown",
   "id": "0cf7bccd",
   "metadata": {},
   "source": [
    "### A example of univariate analysis with *minutes*\n",
    "\n",
    "Let's start by analysing the feature **minutes**. It corresponds to the number of minutes required to make a given recipe. Here a few questions to answer to \n",
    "- What is the average time required to make a recipe on the website ? \n",
    "- What are the fastest and the longest recipe, and how long do they take ? \n",
    "\n",
    "For both questions we will use some statistics including the mean, the minimum and the maximum. "
   ]
  },
  {
   "cell_type": "markdown",
   "id": "4f501680",
   "metadata": {},
   "source": [
    "Odd ? What do you think ? \n",
    "Let's convert the maximum into hours and minutes to make it easier to understand. "
   ]
  },
  {
   "cell_type": "markdown",
   "id": "4b8dd60d",
   "metadata": {},
   "source": [
    "Seems a lot ! I prefer to order in that case. Let's see what can cause this very high number by trying to answer the second question."
   ]
  },
  {
   "cell_type": "markdown",
   "id": "ab590c38",
   "metadata": {},
   "source": [
    "So the longest cooking recipe roughly takes around 4085 years to be made ... while the minumum is 0. Seems like we have some outliers. \n",
    "\n",
    "Questions\n",
    "- <span style=\"color:blue\"> Print the row(s) of the dataframe corresponding to the maximum value for minutes </span>\n",
    "- <span style=\"color:blue\"> Print the number of row(s) of the dataframe corresponding to the minimum value for minutes </span>\n",
    "- <span style=\"color:blue\"> Choose an appropriate visualisation to highlight these outliers</span>"
   ]
  },
  {
   "cell_type": "code",
   "execution_count": 10,
   "id": "a09dfa7a",
   "metadata": {},
   "outputs": [
    {
     "name": "stdout",
     "output_type": "stream",
     "text": [
      "                         name      id     minutes  contributor_id   submitted  \\\n",
      "144074  no bake granola balls  261647  2147483647          464080  2007-10-26   \n",
      "\n",
      "                                                     tags  \\\n",
      "144074  ['60-minutes-or-less', 'time-to-make', 'course...   \n",
      "\n",
      "                                          nutrition  n_steps  \\\n",
      "144074  [330.3, 23.0, 110.0, 4.0, 15.0, 24.0, 15.0]        9   \n",
      "\n",
      "                                                    steps  \\\n",
      "144074  ['preheat the oven to 350 degrees', 'spread oa...   \n",
      "\n",
      "                                              description  \\\n",
      "144074  healthy snacks that kids (and grown ups) will ...   \n",
      "\n",
      "                                              ingredients  n_ingredients  \n",
      "144074  ['rolled oats', 'unsweetened dried shredded co...              8  \n"
     ]
    }
   ],
   "source": [
    "# Your code\n",
    "minutes_maximum = df[\"minutes\"].max()\n",
    "minutes_maximum_row = df[df[\"minutes\"] == minutes_maximum]\n",
    "print(minutes_maximum_row)"
   ]
  },
  {
   "cell_type": "code",
   "execution_count": 11,
   "id": "7a80b675",
   "metadata": {},
   "outputs": [
    {
     "name": "stdout",
     "output_type": "stream",
     "text": [
      "429\n"
     ]
    }
   ],
   "source": [
    "# Your code\n",
    "minutes_minimum = df[\"minutes\"].min()\n",
    "minutes_minimum_row = df[df[\"minutes\"] == minutes_minimum]\n",
    "print(len(minutes_minimum_row))"
   ]
  },
  {
   "cell_type": "code",
   "execution_count": 12,
   "id": "788cda61-7d2d-41c1-bdea-e910e1f182be",
   "metadata": {},
   "outputs": [
    {
     "data": {
      "image/png": "[encoded data removed]",
      "text/plain": [
       "<Figure size 640x480 with 1 Axes>"
      ]
     },
     "metadata": {},
     "output_type": "display_data"
    }
   ],
   "source": [
    "# Distribution of minutes\n",
    "fig = plt.figure()\n",
    "ax = fig.add_subplot()\n",
    "plt.title(\"Disitribution of minutes\")\n",
    "plt.ylabel(\"minutes\")\n",
    "ax.boxplot(df[\"minutes\"])\n",
    "plt.show()"
   ]
  },
  {
   "cell_type": "markdown",
   "id": "ca736bc4-6d57-413e-ba67-69d9a1e86e66",
   "metadata": {},
   "source": [
    "We can't see the graphic due to the maximal value. So, let's delete it."
   ]
  },
  {
   "cell_type": "markdown",
   "id": "99089ccb-556f-4fbe-9d66-85059341be31",
   "metadata": {},
   "source": [
    "We see that there are many outliers minutes. Let's make a condition to delete them (03 days)"
   ]
  },
  {
   "cell_type": "markdown",
   "id": "ca2b3f6e",
   "metadata": {},
   "source": [
    "### Matplotlib\n",
    "\n",
    "#### Online Documentation\n",
    "\n",
    "The [matplotlib.org](https://matplotlib.org/) project website is the primary online resource for the library's documentation. It contains the example galleries, FAQs, API documentation, and tutorials.\n",
    "You can take a look at the [Gallery](https://matplotlib.org/stable/gallery/index.html) to see the variety of ways one can make figures."
   ]
  },
  {
   "cell_type": "markdown",
   "id": "d8aab21a",
   "metadata": {},
   "source": [
    "#### Basics of Matplotlib\n",
    "\n",
    "Let's start by taking a closer look at the anatomy of a Matplolib plot by answering to the following questions. \n",
    "\n",
    "1. **What exactly is a Figure?** \n",
    "\n",
    "The top level container for all the plot elements. It is the overall window or page that everything is drawn on. The Figure object is instantiated by calling the `figure()` function from the pyplot module. You can create multiple independent Figures. A Figure can have several other things in it, such as a title, which is a centered title to the figure. You’ll also find that you can add a legend and color bar, for example, to your Figure.\n",
    "\n",
    "2. **What are the Axes?** \n",
    "\n",
    "To the figure you add Axes. Axes object is the region of the image with the data space. A given figure can contain many Axes, but a given Axes object can only be in one Figure. The Axes contains two (or three in the case of 3D visualisation) Axis objects (x and y). Axes can have ticks, labels, etc. associated with it.\n",
    "\n",
    "\n",
    "**Note** We have previously imported the `pyplot` module of the `matplotlib` library under the alias `plt`.\n",
    "Pyplot provides the state-machine interface to the underlying plotting library in matplotlib. This means that figures and axes are implicitly and automatically created to achieve the desired plot. For example, calling `plot` from `pyplot` will automatically create the necessary figure and axes to achieve the desired plot."
   ]
  },
  {
   "cell_type": "markdown",
   "id": "9c106ba2",
   "metadata": {},
   "source": [
    "<img src=\"img/anatomy_01.png\" alt=\"anatomy of a figure\" />"
   ]
  },
  {
   "cell_type": "markdown",
   "id": "7561d8f4",
   "metadata": {},
   "source": [
    "Now that we have identified an abnormal values, what can we do with it? \n",
    "\n",
    "*Easy answer*: remove it ! (let's do this for now)\n",
    "\n",
    "*Fancy answer*: consider this as a missing data input and impute it (keep that for later).\n",
    "\n",
    "**Question**\n",
    "- <span style=\"color:blue\">Remove the recipe containing these abnormal values and check the new size of the data</span>\n",
    "- <span style=\"color:blue\">Plot the variable minutes with a boxplot -- this time you can try seaborn!</span>\n",
    "- <span style=\"color:blue\">Check the new maximum and minimum</span>\n",
    "- <span style=\"color:blue\">Print the 5 first observations for which abnormal values are observed. Comment</span>\n",
    "- <span style=\"color:blue\">Propose a strategy to deal with these observations.</span>\n",
    "- <span style=\"color:blue\">In total how many observations have you removed?</span>"
   ]
  },
  {
   "cell_type": "code",
   "execution_count": 13,
   "id": "1da386b9",
   "metadata": {},
   "outputs": [
    {
     "data": {
      "text/plain": [
       "<Axes: ylabel='minutes'>"
      ]
     },
     "execution_count": 13,
     "metadata": {},
     "output_type": "execute_result"
    },
    {
     "data": {
      "image/png": "[encoded data removed]",
      "text/plain": [
       "<Figure size 640x480 with 1 Axes>"
      ]
     },
     "metadata": {},
     "output_type": "display_data"
    }
   ],
   "source": [
    "# Your code\n",
    "ax = sns.boxplot(df[\"minutes\"])\n",
    "ax"
   ]
  },
  {
   "cell_type": "code",
   "execution_count": 14,
   "id": "476e326c",
   "metadata": {},
   "outputs": [],
   "source": [
    "# Your code\n",
    "df_without_missing_values = df[df[\"minutes\"] < minutes_maximum]"
   ]
  },
  {
   "cell_type": "code",
   "execution_count": 15,
   "id": "d8924c62",
   "metadata": {},
   "outputs": [
    {
     "data": {
      "text/plain": [
       "<Axes: ylabel='minutes'>"
      ]
     },
     "execution_count": 15,
     "metadata": {},
     "output_type": "execute_result"
    },
    {
     "data": {
      "image/png": "[encoded data removed]",
      "text/plain": [
       "<Figure size 640x480 with 1 Axes>"
      ]
     },
     "metadata": {},
     "output_type": "display_data"
    }
   ],
   "source": [
    "# Your code\n",
    "ax = sns.boxplot(df_without_missing_values[\"minutes\"])\n",
    "ax"
   ]
  },
  {
   "cell_type": "code",
   "execution_count": 16,
   "id": "4bc2a4f0-03ae-40fd-a698-22761bdd6e13",
   "metadata": {},
   "outputs": [],
   "source": [
    "threes_days_on_minutes = 3 * 24 * 60\n",
    "threes_days_on_minutes\n",
    "df_without_missing_values = df[df[\"minutes\"] < threes_days_on_minutes]"
   ]
  },
  {
   "cell_type": "code",
   "execution_count": 24,
   "id": "8de06e15-1b96-440b-973f-54a909a32f5d",
   "metadata": {},
   "outputs": [
    {
     "data": {
      "text/plain": [
       "np.int64(4215)"
      ]
     },
     "execution_count": 24,
     "metadata": {},
     "output_type": "execute_result"
    }
   ],
   "source": [
    "new_maximum_minutes = df_without_missing_values[\"minutes\"].max()\n",
    "new_maximum_minutes"
   ]
  },
  {
   "cell_type": "code",
   "execution_count": 29,
   "id": "25972e3b-df6a-4366-8a11-d6d503d1bf52",
   "metadata": {},
   "outputs": [
    {
     "name": "stdout",
     "output_type": "stream",
     "text": [
      "5 first observations for which abnormal values are observed :  147777    4215\n",
      "23145     4010\n",
      "104179    3915\n",
      "222818    3900\n",
      "21681     3660\n",
      "Name: minutes, dtype: int64\n"
     ]
    }
   ],
   "source": [
    "minutes_top_5 = df_without_missing_values[\"minutes\"].nlargest()\n",
    "print(\"5 first observations for which abnormal values are observed : \", minutes_top_5)"
   ]
  },
  {
   "cell_type": "markdown",
   "id": "227589bc-d728-4610-8e29-e39817ac4b9f",
   "metadata": {},
   "source": [
    "Now, we have accepted values even if we can delete them."
   ]
  },
  {
   "cell_type": "code",
   "execution_count": 30,
   "id": "b9a8b882-8a81-486f-b728-026f468fa5d0",
   "metadata": {},
   "outputs": [
    {
     "data": {
      "text/plain": [
       "(226188, 12)"
      ]
     },
     "execution_count": 30,
     "metadata": {},
     "output_type": "execute_result"
    }
   ],
   "source": [
    "df_without_missing_values.shape"
   ]
  },
  {
   "cell_type": "code",
   "execution_count": 40,
   "id": "319da954-dcea-41a9-9753-195c90316206",
   "metadata": {},
   "outputs": [
    {
     "name": "stdout",
     "output_type": "stream",
     "text": [
      "In total, we will delete :  469 observations\n"
     ]
    }
   ],
   "source": [
    "print(\"In total, we will delete : \", df.shape[0] - df_without_missing_values.shape[0], \"observations\" )"
   ]
  },
  {
   "cell_type": "code",
   "execution_count": 32,
   "id": "34c62ca6-8984-4e6a-8f90-4305803c3798",
   "metadata": {},
   "outputs": [
    {
     "data": {
      "text/plain": [
       "<Axes: ylabel='minutes'>"
      ]
     },
     "execution_count": 32,
     "metadata": {},
     "output_type": "execute_result"
    },
    {
     "data": {
      "image/png": "[encoded data removed]",
      "text/plain": [
       "<Figure size 640x480 with 1 Axes>"
      ]
     },
     "metadata": {},
     "output_type": "display_data"
    }
   ],
   "source": [
    "sns.boxplot(df_without_missing_values[\"minutes\"])"
   ]
  },
  {
   "cell_type": "markdown",
   "id": "d0e34086",
   "metadata": {},
   "source": [
    "So in this particular case, boxplot suffers from the very high standard deviation observed for the feature minutes. \n",
    "Can we come up with a better visualisation ? \n",
    "\n",
    "- **Option 1**: use a log-scale on the y axis the feature\n",
    "- **Option 2**: remove a lot of values\n",
    "\n",
    "**Questions**: \n",
    "- <span style=\"color:blue\"> Print the values of the different quartile (Q1, median and Q3). What can you conclude for this variable ? </span>\n",
    "- <span style=\"color:blue\"> Compare the mean with the median. What do you observe?</span>\n",
    "- <span style=\"color:blue\">Create a subplot with on the left the original boxplot, and on the right the same boxplot but with a log scale on the y-axis.</span> "
   ]
  },
  {
   "cell_type": "markdown",
   "id": "59391b3d",
   "metadata": {},
   "source": [
    "#### Subplots\n",
    "\n",
    "The matplotlib.pyplot.subplots method provides a way to plot multiple plots on a single figure. Given the number of rows and columns, it returns a tuple `(fig, ax`), giving a single figure `fig` with an array of axe `ax`.\n",
    "\n",
    "There is at least three different ways to create a subplot and to add plots to each created ax (dig in the documentation). \n",
    "More details on the different arguments of the `subplots` method [here](https://www.educative.io/edpresso/what-is-a-subplots-in-matplotlib)."
   ]
  },
  {
   "cell_type": "code",
   "execution_count": 42,
   "id": "dee9c2d3",
   "metadata": {},
   "outputs": [
    {
     "data": {
      "text/plain": [
       "count    2.266570e+05\n",
       "mean     9.602472e+03\n",
       "std      4.510715e+06\n",
       "min      0.000000e+00\n",
       "25%      2.000000e+01\n",
       "50%      4.000000e+01\n",
       "75%      6.500000e+01\n",
       "max      2.147484e+09\n",
       "Name: minutes, dtype: float64"
      ]
     },
     "execution_count": 42,
     "metadata": {},
     "output_type": "execute_result"
    }
   ],
   "source": [
    "# Your code\n",
    "df[\"minutes\"].describe()"
   ]
  },
  {
   "cell_type": "markdown",
   "id": "db59aef0-a83c-40fd-bd89-5e1d30cc1d17",
   "metadata": {},
   "source": [
    "The gap between Med-Q1 is near to Q3-Med. Also, the mean is greater than the median. So, the distribution is right skewed.  "
   ]
  },
  {
   "cell_type": "code",
   "execution_count": 63,
   "id": "4ec9cca1",
   "metadata": {},
   "outputs": [
    {
     "data": {
      "text/plain": [
       "Text(0.5, 1.0, 'scaling')"
      ]
     },
     "execution_count": 63,
     "metadata": {},
     "output_type": "execute_result"
    },
    {
     "data": {
      "image/png": "[encoded data removed]",
      "text/plain": [
       "<Figure size 640x480 with 2 Axes>"
      ]
     },
     "metadata": {},
     "output_type": "display_data"
    }
   ],
   "source": [
    "# Your code\n",
    "fig = plt.figure()\n",
    "fig.suptitle(\"Comparison of distribution of minutes into two graphics\")\n",
    "ax1 = fig.add_subplot(1,2,1) # nrows, ncol, the range of graphic\n",
    "ax1.boxplot(df_without_missing_values[\"minutes\"])\n",
    "plt.title(\"origin\")\n",
    "ax2 = fig.add_subplot(1,2,2)\n",
    "ax2.boxplot(df_without_missing_values[\"minutes\"])\n",
    "ax2.set_yscale('log', base = 10)\n",
    "plt.title(\"scaling\")"
   ]
  },
  {
   "cell_type": "markdown",
   "id": "3b1ab3ef",
   "metadata": {},
   "source": [
    "#### Summing-up: \n",
    "Minutes have the caracteristics bellow : \n",
    "- The major values are less than 1 minute, the dispersion is low (IQR is low) ;\n",
    "- Right skewed distribution (median < average) ; \n",
    "- Contains outliers greater than the tendancy (values > Q3) ;"
   ]
  },
  {
   "cell_type": "markdown",
   "id": "649bfb11",
   "metadata": {},
   "source": [
    "For now let's keep it this way. We will go back to this matter in the feature engineering session.\n",
    "\n",
    "Now we can complete this analysis with distribution metrics, namely the skewness and the kurtosis coefficient. "
   ]
  },
  {
   "cell_type": "markdown",
   "id": "e273c835",
   "metadata": {},
   "source": [
    "### Univariate Analysis follow-up \n",
    "\n",
    "You are now ready to propose your own analysis for the other variables. \n",
    "Consider the following variables: **contributor_id, tags, n_steps, n_ingredients and ingredients**. \n",
    "The first step is to formulate questions that you would like to answer to using these variables. \n",
    "\n",
    "For example, if we take the contributor_id, please answer the following questions using the varying tools seen during the class. \n",
    "\n",
    "**Questions**\n",
    "- <span style=\"color:blue\">How many unique contributors are there?</span> \n",
    "- <span style=\"color:blue\">Who is the contributor that posted the most recipes ? And how many recipes did that person posted ? </span>\n",
    "- <span style=\"color:blue\">What is the average number of recipes posted by users on the website ? </span>\n",
    "\n",
    "Start with these three questions, then think about questions for the remaining variables mentioned above. "
   ]
  },
  {
   "cell_type": "code",
   "execution_count": 69,
   "id": "2326d921",
   "metadata": {},
   "outputs": [
    {
     "name": "stdout",
     "output_type": "stream",
     "text": [
      "There are 27693 unique contributors.\n"
     ]
    }
   ],
   "source": [
    "unique_contributor = len(df[\"contributor_id\"].unique())\n",
    "print(\"There are\", unique_contributor,\"unique contributors.\")"
   ]
  },
  {
   "cell_type": "code",
   "execution_count": 73,
   "id": "42c35b24-e694-4322-99fe-a8b837146c5e",
   "metadata": {},
   "outputs": [
    {
     "name": "stdout",
     "output_type": "stream",
     "text": [
      "contributor_id\n",
      "89831      3118\n",
      "37449      2491\n",
      "37779      2472\n",
      "58104      1517\n",
      "169430     1378\n",
      "           ... \n",
      "67448         1\n",
      "809397        1\n",
      "1909561       1\n",
      "39070         1\n",
      "318252        1\n",
      "Name: count, Length: 27693, dtype: int64\n"
     ]
    }
   ],
   "source": [
    "contributor_number_repetition = df[\"contributor_id\"].value_counts()\n",
    "print(contributor_number_repetition)"
   ]
  },
  {
   "cell_type": "code",
   "execution_count": 76,
   "id": "1f8a1a51-5e77-4976-98c3-774c00457d21",
   "metadata": {},
   "outputs": [
    {
     "data": {
      "text/plain": [
       "contributor_id\n",
       "89831    3118\n",
       "Name: count, dtype: int64"
      ]
     },
     "execution_count": 76,
     "metadata": {},
     "output_type": "execute_result"
    }
   ],
   "source": [
    "contributor_number_repetition.nlargest(1)"
   ]
  },
  {
   "cell_type": "code",
   "execution_count": 90,
   "id": "99190495-9570-42f9-b70b-b25184595c6a",
   "metadata": {},
   "outputs": [
    {
     "name": "stdout",
     "output_type": "stream",
     "text": [
      "The contributor that post the most is :  89831 .\n",
      "He posts 3118 recipes.\n"
     ]
    }
   ],
   "source": [
    "print(\"The contributor that post the most is : \", 89831,\".\")\n",
    "print(\"He posts\", 3118 , \"recipes.\")"
   ]
  },
  {
   "cell_type": "code",
   "execution_count": 95,
   "id": "9e2230a4-fe41-4d43-a9a7-8377b26d9895",
   "metadata": {},
   "outputs": [
    {
     "name": "stdout",
     "output_type": "stream",
     "text": [
      "The average number of recipes posted is :  8.184631495323728\n"
     ]
    }
   ],
   "source": [
    "contributor_average = np.mean(contributor_number_repetition)\n",
    "print(\"The average number of recipes posted is : \", contributor_average)"
   ]
  },
  {
   "cell_type": "markdown",
   "id": "c6fc3b06-0805-4d27-8549-debfb4c54383",
   "metadata": {},
   "source": [
    "## Analyse the variable \"n_steps\""
   ]
  },
  {
   "cell_type": "markdown",
   "id": "3aaaa8a1-b014-48b3-a906-3fe38e503198",
   "metadata": {},
   "source": [
    "Missing\n",
    "Number of steps to cook"
   ]
  },
  {
   "cell_type": "code",
   "execution_count": 104,
   "id": "4c53f05f-8404-4e16-9ba1-7f96059ec7b4",
   "metadata": {},
   "outputs": [
    {
     "data": {
      "text/plain": [
       "0    11\n",
       "1     9\n",
       "2     6\n",
       "3    11\n",
       "4     5\n",
       "Name: n_steps, dtype: int64"
      ]
     },
     "execution_count": 104,
     "metadata": {},
     "output_type": "execute_result"
    }
   ],
   "source": [
    "df[\"n_steps\"].head()"
   ]
  },
  {
   "cell_type": "code",
   "execution_count": 100,
   "id": "cf24775a-fee1-486f-8bcc-5d6fbea3a192",
   "metadata": {},
   "outputs": [
    {
     "data": {
      "text/plain": [
       "\"['60-minutes-or-less', 'time-to-make', 'course', 'main-ingredient', 'cuisine', 'preparation', 'occasion', 'north-american', 'side-dishes', 'vegetables', 'mexican', 'easy', 'fall', 'holiday-event', 'vegetarian', 'winter', 'dietary', 'christmas', 'seasonal', 'squash']\""
      ]
     },
     "execution_count": 100,
     "metadata": {},
     "output_type": "execute_result"
    }
   ],
   "source": [
    "df[\"tags\"][0]"
   ]
  },
  {
   "cell_type": "code",
   "execution_count": 101,
   "id": "5215e30d-02d6-40f3-b0c0-a995241c34b9",
   "metadata": {},
   "outputs": [
    {
     "data": {
      "text/plain": [
       "\"['30-minutes-or-less', 'time-to-make', 'course', 'main-ingredient', 'cuisine', 'preparation', 'occasion', 'north-american', 'breakfast', 'main-dish', 'pork', 'american', 'oven', 'easy', 'kid-friendly', 'pizza', 'dietary', 'northeastern-united-states', 'meat', 'equipment']\""
      ]
     },
     "execution_count": 101,
     "metadata": {},
     "output_type": "execute_result"
    }
   ],
   "source": [
    "df[\"tags\"][1]"
   ]
  }
 ],
 "metadata": {
  "kernelspec": {
   "display_name": "Python (portofolio)",
   "language": "python",
   "name": "portofolio"
  },
  "language_info": {
   "codemirror_mode": {
    "name": "ipython",
    "version": 3
   },
   "file_extension": ".py",
   "mimetype": "text/x-python",
   "name": "python",
   "nbconvert_exporter": "python",
   "pygments_lexer": "ipython3",
   "version": "3.9.21"
  }
 },
 "nbformat": 4,
 "nbformat_minor": 5
}
