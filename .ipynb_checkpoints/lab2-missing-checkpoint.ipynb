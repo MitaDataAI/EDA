{
 "cells": [
  {
   "cell_type": "markdown",
   "id": "66a00433",
   "metadata": {},
   "source": [
    "# Missing Data Imputation "
   ]
  },
  {
   "cell_type": "code",
   "execution_count": 31,
   "id": "52ea662e",
   "metadata": {},
   "outputs": [],
   "source": [
    "%matplotlib inline\n",
    "import matplotlib.pyplot as plt\n",
    "\n",
    "import numpy as np\n",
    "from sklearn.preprocessing import scale\n",
    "from sklearn.experimental import enable_iterative_imputer\n",
    "from sklearn.impute import SimpleImputer, IterativeImputer\n",
    "\n",
    "import pandas as pd\n",
    "from pathlib import Path\n",
    "\n",
    "from random import sample"
   ]
  },
  {
   "cell_type": "markdown",
   "id": "e5e818dc",
   "metadata": {},
   "source": [
    "## Data loading\n",
    "\n",
    "The dataset that we will use is named `data-lab2.csv`.\n",
    "\n",
    "* Import the dataset using pandas\n",
    "* Describe statistically the different variables available \n",
    "* Print the total % of missing data over the data\n",
    "* Print the % of missing data per variable"
   ]
  },
  {
   "cell_type": "code",
   "execution_count": 10,
   "id": "7471b719-ac96-4c68-83a4-e1bfa1b88b8b",
   "metadata": {},
   "outputs": [],
   "source": [
    "data_path = Path(\"D:\\Portofolio Data science\\EDA\\data-lab2.csv\")"
   ]
  },
  {
   "cell_type": "code",
   "execution_count": 15,
   "id": "bfb4ad58",
   "metadata": {},
   "outputs": [],
   "source": [
    "df = pd.read_csv(data_path, index_col = 0 )"
   ]
  },
  {
   "cell_type": "code",
   "execution_count": 16,
   "id": "1f2ba6ff-5b9e-4a8c-a6f6-043cbb5e664b",
   "metadata": {},
   "outputs": [
    {
     "data": {
      "text/html": [
       "<div>\n",
       "<style scoped>\n",
       "    .dataframe tbody tr th:only-of-type {\n",
       "        vertical-align: middle;\n",
       "    }\n",
       "\n",
       "    .dataframe tbody tr th {\n",
       "        vertical-align: top;\n",
       "    }\n",
       "\n",
       "    .dataframe thead th {\n",
       "        text-align: right;\n",
       "    }\n",
       "</style>\n",
       "<table border=\"1\" class=\"dataframe\">\n",
       "  <thead>\n",
       "    <tr style=\"text-align: right;\">\n",
       "      <th></th>\n",
       "      <th>sex</th>\n",
       "      <th>race</th>\n",
       "      <th>educ_r</th>\n",
       "      <th>r_age</th>\n",
       "      <th>workmos</th>\n",
       "      <th>welfare</th>\n",
       "      <th>charity</th>\n",
       "      <th>ssi</th>\n",
       "      <th>earnings</th>\n",
       "      <th>police</th>\n",
       "    </tr>\n",
       "  </thead>\n",
       "  <tbody>\n",
       "    <tr>\n",
       "      <th>1</th>\n",
       "      <td>1</td>\n",
       "      <td>1.0</td>\n",
       "      <td>4.0</td>\n",
       "      <td>29.0</td>\n",
       "      <td>12</td>\n",
       "      <td>0</td>\n",
       "      <td>0</td>\n",
       "      <td>0</td>\n",
       "      <td>84.0</td>\n",
       "      <td>0.0</td>\n",
       "    </tr>\n",
       "    <tr>\n",
       "      <th>2</th>\n",
       "      <td>2</td>\n",
       "      <td>3.0</td>\n",
       "      <td>4.0</td>\n",
       "      <td>40.0</td>\n",
       "      <td>12</td>\n",
       "      <td>0</td>\n",
       "      <td>0</td>\n",
       "      <td>0</td>\n",
       "      <td>NaN</td>\n",
       "      <td>1.0</td>\n",
       "    </tr>\n",
       "    <tr>\n",
       "      <th>3</th>\n",
       "      <td>1</td>\n",
       "      <td>3.0</td>\n",
       "      <td>2.0</td>\n",
       "      <td>36.0</td>\n",
       "      <td>10</td>\n",
       "      <td>0</td>\n",
       "      <td>0</td>\n",
       "      <td>0</td>\n",
       "      <td>27.5</td>\n",
       "      <td>0.0</td>\n",
       "    </tr>\n",
       "    <tr>\n",
       "      <th>4</th>\n",
       "      <td>1</td>\n",
       "      <td>1.0</td>\n",
       "      <td>4.0</td>\n",
       "      <td>71.0</td>\n",
       "      <td>11</td>\n",
       "      <td>0</td>\n",
       "      <td>0</td>\n",
       "      <td>0</td>\n",
       "      <td>85.0</td>\n",
       "      <td>1.0</td>\n",
       "    </tr>\n",
       "    <tr>\n",
       "      <th>5</th>\n",
       "      <td>1</td>\n",
       "      <td>4.0</td>\n",
       "      <td>4.0</td>\n",
       "      <td>30.0</td>\n",
       "      <td>12</td>\n",
       "      <td>0</td>\n",
       "      <td>0</td>\n",
       "      <td>0</td>\n",
       "      <td>135.0</td>\n",
       "      <td>1.0</td>\n",
       "    </tr>\n",
       "  </tbody>\n",
       "</table>\n",
       "</div>"
      ],
      "text/plain": [
       "   sex  race  educ_r  r_age  workmos  welfare  charity  ssi  earnings  police\n",
       "1    1   1.0     4.0   29.0       12        0        0    0      84.0     0.0\n",
       "2    2   3.0     4.0   40.0       12        0        0    0       NaN     1.0\n",
       "3    1   3.0     2.0   36.0       10        0        0    0      27.5     0.0\n",
       "4    1   1.0     4.0   71.0       11        0        0    0      85.0     1.0\n",
       "5    1   4.0     4.0   30.0       12        0        0    0     135.0     1.0"
      ]
     },
     "execution_count": 16,
     "metadata": {},
     "output_type": "execute_result"
    }
   ],
   "source": [
    "df.head()"
   ]
  },
  {
   "cell_type": "code",
   "execution_count": 17,
   "id": "67fafc17",
   "metadata": {},
   "outputs": [
    {
     "data": {
      "text/html": [
       "<div>\n",
       "<style scoped>\n",
       "    .dataframe tbody tr th:only-of-type {\n",
       "        vertical-align: middle;\n",
       "    }\n",
       "\n",
       "    .dataframe tbody tr th {\n",
       "        vertical-align: top;\n",
       "    }\n",
       "\n",
       "    .dataframe thead th {\n",
       "        text-align: right;\n",
       "    }\n",
       "</style>\n",
       "<table border=\"1\" class=\"dataframe\">\n",
       "  <thead>\n",
       "    <tr style=\"text-align: right;\">\n",
       "      <th></th>\n",
       "      <th>sex</th>\n",
       "      <th>race</th>\n",
       "      <th>educ_r</th>\n",
       "      <th>r_age</th>\n",
       "      <th>workmos</th>\n",
       "      <th>welfare</th>\n",
       "      <th>charity</th>\n",
       "      <th>ssi</th>\n",
       "      <th>earnings</th>\n",
       "      <th>police</th>\n",
       "    </tr>\n",
       "  </thead>\n",
       "  <tbody>\n",
       "    <tr>\n",
       "      <th>count</th>\n",
       "      <td>1501.000000</td>\n",
       "      <td>1464.000000</td>\n",
       "      <td>1488.000000</td>\n",
       "      <td>1501.000000</td>\n",
       "      <td>1501.000000</td>\n",
       "      <td>1501.000000</td>\n",
       "      <td>1501.000000</td>\n",
       "      <td>1501.000000</td>\n",
       "      <td>1250.000000</td>\n",
       "      <td>1433.000000</td>\n",
       "    </tr>\n",
       "    <tr>\n",
       "      <th>mean</th>\n",
       "      <td>1.638241</td>\n",
       "      <td>2.161202</td>\n",
       "      <td>2.748656</td>\n",
       "      <td>41.324232</td>\n",
       "      <td>8.985343</td>\n",
       "      <td>104.702865</td>\n",
       "      <td>26.553631</td>\n",
       "      <td>208.332445</td>\n",
       "      <td>52.605431</td>\n",
       "      <td>0.658060</td>\n",
       "    </tr>\n",
       "    <tr>\n",
       "      <th>std</th>\n",
       "      <td>0.480670</td>\n",
       "      <td>0.983096</td>\n",
       "      <td>1.070481</td>\n",
       "      <td>14.842529</td>\n",
       "      <td>4.710391</td>\n",
       "      <td>715.051813</td>\n",
       "      <td>435.719940</td>\n",
       "      <td>1181.816203</td>\n",
       "      <td>124.674340</td>\n",
       "      <td>0.474525</td>\n",
       "    </tr>\n",
       "    <tr>\n",
       "      <th>min</th>\n",
       "      <td>1.000000</td>\n",
       "      <td>1.000000</td>\n",
       "      <td>1.000000</td>\n",
       "      <td>18.000000</td>\n",
       "      <td>0.000000</td>\n",
       "      <td>-9.000000</td>\n",
       "      <td>-9.000000</td>\n",
       "      <td>-9.000000</td>\n",
       "      <td>0.000000</td>\n",
       "      <td>0.000000</td>\n",
       "    </tr>\n",
       "    <tr>\n",
       "      <th>25%</th>\n",
       "      <td>1.000000</td>\n",
       "      <td>1.000000</td>\n",
       "      <td>2.000000</td>\n",
       "      <td>30.000000</td>\n",
       "      <td>7.000000</td>\n",
       "      <td>0.000000</td>\n",
       "      <td>0.000000</td>\n",
       "      <td>0.000000</td>\n",
       "      <td>5.000000</td>\n",
       "      <td>0.000000</td>\n",
       "    </tr>\n",
       "    <tr>\n",
       "      <th>50%</th>\n",
       "      <td>2.000000</td>\n",
       "      <td>2.000000</td>\n",
       "      <td>3.000000</td>\n",
       "      <td>39.000000</td>\n",
       "      <td>12.000000</td>\n",
       "      <td>0.000000</td>\n",
       "      <td>0.000000</td>\n",
       "      <td>0.000000</td>\n",
       "      <td>28.000000</td>\n",
       "      <td>1.000000</td>\n",
       "    </tr>\n",
       "    <tr>\n",
       "      <th>75%</th>\n",
       "      <td>2.000000</td>\n",
       "      <td>3.000000</td>\n",
       "      <td>4.000000</td>\n",
       "      <td>50.000000</td>\n",
       "      <td>12.000000</td>\n",
       "      <td>0.000000</td>\n",
       "      <td>0.000000</td>\n",
       "      <td>0.000000</td>\n",
       "      <td>65.000000</td>\n",
       "      <td>1.000000</td>\n",
       "    </tr>\n",
       "    <tr>\n",
       "      <th>max</th>\n",
       "      <td>2.000000</td>\n",
       "      <td>4.000000</td>\n",
       "      <td>4.000000</td>\n",
       "      <td>97.000000</td>\n",
       "      <td>12.000000</td>\n",
       "      <td>10800.000000</td>\n",
       "      <td>10800.000000</td>\n",
       "      <td>13500.000000</td>\n",
       "      <td>3250.000000</td>\n",
       "      <td>1.000000</td>\n",
       "    </tr>\n",
       "  </tbody>\n",
       "</table>\n",
       "</div>"
      ],
      "text/plain": [
       "               sex         race       educ_r        r_age      workmos  \\\n",
       "count  1501.000000  1464.000000  1488.000000  1501.000000  1501.000000   \n",
       "mean      1.638241     2.161202     2.748656    41.324232     8.985343   \n",
       "std       0.480670     0.983096     1.070481    14.842529     4.710391   \n",
       "min       1.000000     1.000000     1.000000    18.000000     0.000000   \n",
       "25%       1.000000     1.000000     2.000000    30.000000     7.000000   \n",
       "50%       2.000000     2.000000     3.000000    39.000000    12.000000   \n",
       "75%       2.000000     3.000000     4.000000    50.000000    12.000000   \n",
       "max       2.000000     4.000000     4.000000    97.000000    12.000000   \n",
       "\n",
       "            welfare       charity           ssi     earnings       police  \n",
       "count   1501.000000   1501.000000   1501.000000  1250.000000  1433.000000  \n",
       "mean     104.702865     26.553631    208.332445    52.605431     0.658060  \n",
       "std      715.051813    435.719940   1181.816203   124.674340     0.474525  \n",
       "min       -9.000000     -9.000000     -9.000000     0.000000     0.000000  \n",
       "25%        0.000000      0.000000      0.000000     5.000000     0.000000  \n",
       "50%        0.000000      0.000000      0.000000    28.000000     1.000000  \n",
       "75%        0.000000      0.000000      0.000000    65.000000     1.000000  \n",
       "max    10800.000000  10800.000000  13500.000000  3250.000000     1.000000  "
      ]
     },
     "execution_count": 17,
     "metadata": {},
     "output_type": "execute_result"
    }
   ],
   "source": [
    "df.describe()"
   ]
  },
  {
   "cell_type": "markdown",
   "id": "5a51985f-72c7-440b-bf38-387caca0454c",
   "metadata": {},
   "source": [
    "## Comment\n",
    "We have some variables (ssi, police, ...) normaly qualitative but python treat them as quantitative. \n",
    "It's not a problem untilo now. "
   ]
  },
  {
   "cell_type": "markdown",
   "id": "b627a8f2",
   "metadata": {},
   "source": [
    "## Simple imputation strategies \n",
    "\n",
    "Let us consider the case of imputing the **earnings** variable  in this dataset. \n",
    "\n",
    "* Plot the distribution of the earnings variables with a histogram\n",
    "* Describe what the function bellow is doing \n",
    "* Use the function to impute the missing variable earnings \n",
    "* Compare the distributions of the newly imputed variable and the previous one"
   ]
  },
  {
   "cell_type": "code",
   "execution_count": 50,
   "id": "27c79279-53bd-4184-968c-e7b0e9efc2e5",
   "metadata": {},
   "outputs": [],
   "source": [
    "earnings = df[\"earnings\"]"
   ]
  },
  {
   "cell_type": "code",
   "execution_count": 51,
   "id": "dbc4c773-7fca-40e7-b3da-9e31a2e9aff8",
   "metadata": {},
   "outputs": [
    {
     "data": {
      "image/png": "[encoded data removed]",
      "text/plain": [
       "<Figure size 640x480 with 1 Axes>"
      ]
     },
     "metadata": {},
     "output_type": "display_data"
    }
   ],
   "source": [
    "fig = plt.figure()\n",
    "ax = fig.add_subplot()\n",
    "plt.title (\"distribution of earnings\")\n",
    "plt.hist(earnings, bins = 100)\n",
    "plt.show()"
   ]
  },
  {
   "cell_type": "code",
   "execution_count": 52,
   "id": "0a8063e7",
   "metadata": {},
   "outputs": [],
   "source": [
    "# The next code will replace the NA values on a variable by a sample of random values\n",
    "def random_imp(a):\n",
    "    missing = a.isna()\n",
    "    n_miss = np.sum(missing)\n",
    "    obs = a[-missing]\n",
    "    imputed = np.array(a)\n",
    "    impute_values = sample(list(obs), n_miss)\n",
    "    imputed[missing]=impute_values\n",
    "    return imputed"
   ]
  },
  {
   "cell_type": "code",
   "execution_count": 53,
   "id": "b215be35-3ead-4a90-b855-9fa6943de371",
   "metadata": {},
   "outputs": [],
   "source": [
    "earnings_after_imputation = random_imp(earnings)"
   ]
  },
  {
   "cell_type": "code",
   "execution_count": 54,
   "id": "06013af5-54f4-4e16-a42b-4b5c6a9ea9a0",
   "metadata": {},
   "outputs": [],
   "source": [
    "earnings_after_imputation = pd.Series(earnings_after_imputation)"
   ]
  },
  {
   "cell_type": "code",
   "execution_count": 65,
   "id": "9a67b910-452a-48e4-8d62-dbfa819d83dd",
   "metadata": {},
   "outputs": [
    {
     "data": {
      "image/png": "[encoded data removed]",
      "text/plain": [
       "<Figure size 640x480 with 2 Axes>"
      ]
     },
     "metadata": {},
     "output_type": "display_data"
    }
   ],
   "source": [
    "# Comparison of distribution of old \"Earnings variable\" and the new\n",
    "fig = plt.figure()\n",
    "plt.suptitle(\"Comparison of distribution of old Earnings variable and the new\")\n",
    "ax1 = fig.add_subplot(1,2,1)\n",
    "plt.hist(earnings, bins = 100)\n",
    "plt.title(\"earnings with NA\")\n",
    "ax2 = fig.add_subplot(1,2,2)\n",
    "plt.hist(earnings_after_imputation, bins = 100)\n",
    "plt.title(\"earnings imputed by random\")\n",
    "plt.show()"
   ]
  },
  {
   "cell_type": "markdown",
   "id": "051cb0af",
   "metadata": {},
   "source": [
    "* What are the problems with this approach ? \n",
    "* Propose two simple alternatives and compare the obtained results \n",
    "* Create a function that encapsulate all three alternatives for imputing a variable. The choice of the strategy is a parameter of the function."
   ]
  },
  {
   "cell_type": "markdown",
   "id": "0107849b-18dd-4449-9952-5383d69690b6",
   "metadata": {},
   "source": [
    "Random values intensify the skewness of the distribution. It leads to increase \"earnings\" near zero.\n",
    "The two alternative way to impute Missing Values are : \n",
    "- Imputation by the median ;\n",
    "- Imputation by the mean."
   ]
  },
  {
   "cell_type": "code",
   "execution_count": null,
   "id": "a0fac497-dd49-4c51-91eb-3455345cc471",
   "metadata": {},
   "outputs": [],
   "source": []
  },
  {
   "cell_type": "markdown",
   "id": "a3392a21",
   "metadata": {},
   "source": [
    "## Trying some logical rules \n",
    "\n",
    "* Create a column in the data frame that indicated missingness in the earning variable \n",
    "* Check for the correlation between this new variable and the other one in the dataset \n",
    "* Can you propose a simple logical rule to impute some of the missing values based on the workmos variable?"
   ]
  },
  {
   "cell_type": "code",
   "execution_count": null,
   "id": "f606c5e7",
   "metadata": {},
   "outputs": [],
   "source": [
    "# Your answer "
   ]
  },
  {
   "cell_type": "markdown",
   "id": "24bb89ca",
   "metadata": {},
   "source": [
    "## Using Matching to impute missing values (deterministic)\n",
    "\n",
    "* Implement a function that\n",
    " * for observations with NaN retrieve the top-k closest neighbors based on some distance \n",
    " * impute the mean or the median earnings over the top-k closest neighbors\n",
    " \n",
    "Parameters: k (default=3), distance (default=euclidean), strategy (default=mean)\n",
    "\n",
    "* Impute the earnings variable and compare the results with previous imputation stragies"
   ]
  },
  {
   "cell_type": "code",
   "execution_count": null,
   "id": "406f9c80",
   "metadata": {},
   "outputs": [],
   "source": [
    "# Your answer"
   ]
  },
  {
   "cell_type": "markdown",
   "id": "9badf8bd",
   "metadata": {},
   "source": [
    "## Using Linear Regression to impute missing values (deterministic)\n",
    "\n",
    "Recall: the objective of linear regression is to model the relationship between a continuous variable $Y$ and a set of explicatives variables $X_1, \\cdots, X_d$. Linear model assumes a relationship of the following form \n",
    "$Y_i = \\theta_0 + \\theta_1X_1 + \\cdots + \\theta_dX_d$ and the objective is to estimate the $\\theta$s coefficients. \n",
    "\n",
    "One way of adressing the problem of missing data imputation is to cast the task as a linear regression problem. Here the target variable $Y$ is earnings and the $X$s are the other variables in the dataset. \n",
    "\n",
    "* Learn a linear regression model to predict earnings based on the other variables \n",
    "* Comment on the results: values of coefficients, R^2 etc. \n",
    "* Predict the earning values for all observations of the dataset\n",
    "* Imput the prediction where the earnings missing\n",
    "* Compare the final distribution with previous strategy\n",
    "* Include the strategy in your previous function"
   ]
  },
  {
   "cell_type": "code",
   "execution_count": null,
   "id": "23ecfeec",
   "metadata": {},
   "outputs": [],
   "source": [
    "## Your answer"
   ]
  },
  {
   "cell_type": "markdown",
   "id": "2ec54b3e",
   "metadata": {},
   "source": [
    "## Multiple variables imputation \n",
    "\n",
    "Let's move on to the case where multiple variables present missing values. \n",
    "To process we will introduce missing values in the age variable. \n",
    "\n",
    "* Write a function to cause approximatively 30% of the values of a variable x to be missing. Design the mechanism to be at random but not completely at random: the probability of missing age should depend on some y variable. \n",
    "* Apply the function to the age variable with a dependence on the sex.\n",
    "* Explore the iterative imputer of scikit-learn."
   ]
  },
  {
   "cell_type": "code",
   "execution_count": null,
   "id": "bf6130b7",
   "metadata": {},
   "outputs": [],
   "source": [
    "## Your answer"
   ]
  }
 ],
 "metadata": {
  "kernelspec": {
   "display_name": "Python (portofolio)",
   "language": "python",
   "name": "portofolio"
  },
  "language_info": {
   "codemirror_mode": {
    "name": "ipython",
    "version": 3
   },
   "file_extension": ".py",
   "mimetype": "text/x-python",
   "name": "python",
   "nbconvert_exporter": "python",
   "pygments_lexer": "ipython3",
   "version": "3.9.21"
  }
 },
 "nbformat": 4,
 "nbformat_minor": 5
}
