{
 "cells": [
  {
   "cell_type": "markdown",
   "id": "66a00433",
   "metadata": {},
   "source": [
    "# Missing Data Imputation "
   ]
  },
  {
   "cell_type": "code",
   "execution_count": null,
   "id": "52ea662e",
   "metadata": {},
   "outputs": [],
   "source": [
    "%matplotlib inline\n",
    "import matplotlib.pyplot as plt\n",
    "\n",
    "import numpy as np\n",
    "from sklearn.preprocessing import scale\n",
    "from sklearn.experimental import enable_iterative_imputer\n",
    "from sklearn.impute import SimpleImputer, IterativeImputer\n",
    "\n",
    "import pandas as pd\n",
    "import os"
   ]
  },
  {
   "cell_type": "markdown",
   "id": "e5e818dc",
   "metadata": {},
   "source": [
    "## Data loading\n",
    "\n",
    "The dataset that we will use is named `data-lab2.csv`.\n",
    "\n",
    "* Import the dataset using pandas\n",
    "* Describe statistically the different variables available \n",
    "* Print the total % of missing data over the data\n",
    "* Print the % of missing data per variable"
   ]
  },
  {
   "cell_type": "code",
   "execution_count": null,
   "id": "bfb4ad58",
   "metadata": {},
   "outputs": [],
   "source": [
    "df = pd.read_csv('data-lab2.csv')"
   ]
  },
  {
   "cell_type": "code",
   "execution_count": null,
   "id": "5217499b",
   "metadata": {},
   "outputs": [],
   "source": [
    "df.head()"
   ]
  },
  {
   "cell_type": "code",
   "execution_count": null,
   "id": "67fafc17",
   "metadata": {},
   "outputs": [],
   "source": [
    "df.describe()\n",
    "# What do you notice ??? (hint: type of variables)"
   ]
  },
  {
   "cell_type": "code",
   "execution_count": null,
   "id": "fcd3dc0d",
   "metadata": {},
   "outputs": [],
   "source": [
    "# Your response"
   ]
  },
  {
   "cell_type": "markdown",
   "id": "b627a8f2",
   "metadata": {},
   "source": [
    "## Simple imputation strategies \n",
    "\n",
    "Let us consider the case of imputing the **earnings** variable  in this dataset. \n",
    "\n",
    "* Plot the distribution of the earnings variables with a histogram\n",
    "* Describe what the function bellow is doing \n",
    "* Use the function to impute the missing variable earnings \n",
    "* Compare the distributions of the newly imputed variable and the previous one"
   ]
  },
  {
   "cell_type": "code",
   "execution_count": null,
   "id": "0a8063e7",
   "metadata": {},
   "outputs": [],
   "source": [
    "from random import sample\n",
    "\n",
    "def random_imp(a):\n",
    "    missing = a.isna()\n",
    "    n_miss = np.sum(missing)\n",
    "    obs = a[-missing]\n",
    "    imputed = np.array(a)\n",
    "    impute_values = sample(list(obs), n_miss)\n",
    "    imputed[missing]=impute_values\n",
    "    return imputed"
   ]
  },
  {
   "cell_type": "markdown",
   "id": "051cb0af",
   "metadata": {},
   "source": [
    "* What are the problems with this approach ? \n",
    "* Propose two simple alternatives and compare the obtained results \n",
    "* Create a function that encapsulate all three alternatives for imputing a variable. The choice of the strategy is a parameter of the function."
   ]
  },
  {
   "cell_type": "code",
   "execution_count": null,
   "id": "e94e5423",
   "metadata": {},
   "outputs": [],
   "source": [
    "# Your answer "
   ]
  },
  {
   "cell_type": "markdown",
   "id": "a3392a21",
   "metadata": {},
   "source": [
    "## Trying some logical rules \n",
    "\n",
    "* Create a column in the data frame that indicated missingness in the earning variable \n",
    "* Check for the correlation between this new variable and the other one in the dataset \n",
    "* Can you propose a simple logical rule to impute some of the missing values based on the workmos variable?"
   ]
  },
  {
   "cell_type": "code",
   "execution_count": null,
   "id": "f606c5e7",
   "metadata": {},
   "outputs": [],
   "source": [
    "# Your answer "
   ]
  },
  {
   "cell_type": "markdown",
   "id": "24bb89ca",
   "metadata": {},
   "source": [
    "## Using Matching to impute missing values (deterministic)\n",
    "\n",
    "* Implement a function that\n",
    " * for observations with NaN retrieve the top-k closest neighbors based on some distance \n",
    " * impute the mean or the median earnings over the top-k closest neighbors\n",
    " \n",
    "Parameters: k (default=3), distance (default=euclidean), strategy (default=mean)\n",
    "\n",
    "* Impute the earnings variable and compare the results with previous imputation stragies"
   ]
  },
  {
   "cell_type": "code",
   "execution_count": null,
   "id": "406f9c80",
   "metadata": {},
   "outputs": [],
   "source": [
    "# Your answer"
   ]
  },
  {
   "cell_type": "markdown",
   "id": "9badf8bd",
   "metadata": {},
   "source": [
    "## Using Linear Regression to impute missing values (deterministic)\n",
    "\n",
    "Recall: the objective of linear regression is to model the relationship between a continuous variable $Y$ and a set of explicatives variables $X_1, \\cdots, X_d$. Linear model assumes a relationship of the following form \n",
    "$Y_i = \\theta_0 + \\theta_1X_1 + \\cdots + \\theta_dX_d$ and the objective is to estimate the $\\theta$s coefficients. \n",
    "\n",
    "One way of adressing the problem of missing data imputation is to cast the task as a linear regression problem. Here the target variable $Y$ is earnings and the $X$s are the other variables in the dataset. \n",
    "\n",
    "* Learn a linear regression model to predict earnings based on the other variables \n",
    "* Comment on the results: values of coefficients, R^2 etc. \n",
    "* Predict the earning values for all observations of the dataset\n",
    "* Imput the prediction where the earnings missing\n",
    "* Compare the final distribution with previous strategy\n",
    "* Include the strategy in your previous function"
   ]
  },
  {
   "cell_type": "code",
   "execution_count": null,
   "id": "23ecfeec",
   "metadata": {},
   "outputs": [],
   "source": [
    "## Your answer"
   ]
  },
  {
   "cell_type": "markdown",
   "id": "2ec54b3e",
   "metadata": {},
   "source": [
    "## Multiple variables imputation \n",
    "\n",
    "Let's move on to the case where multiple variables present missing values. \n",
    "To process we will introduce missing values in the age variable. \n",
    "\n",
    "* Write a function to cause approximatively 30% of the values of a variable x to be missing. Design the mechanism to be at random but not completely at random: the probability of missing age should depend on some y variable. \n",
    "* Apply the function to the age variable with a dependence on the sex.\n",
    "* Explore the iterative imputer of scikit-learn."
   ]
  },
  {
   "cell_type": "code",
   "execution_count": null,
   "id": "bf6130b7",
   "metadata": {},
   "outputs": [],
   "source": [
    "## Your answer"
   ]
  }
 ],
 "metadata": {
  "kernelspec": {
   "display_name": "ms-lab-graph",
   "language": "python",
   "name": "ms-lab-graph"
  },
  "language_info": {
   "codemirror_mode": {
    "name": "ipython",
    "version": 3
   },
   "file_extension": ".py",
   "mimetype": "text/x-python",
   "name": "python",
   "nbconvert_exporter": "python",
   "pygments_lexer": "ipython3",
   "version": "3.9.12"
  }
 },
 "nbformat": 4,
 "nbformat_minor": 5
}
