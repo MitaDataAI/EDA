{
 "cells": [
  {
   "cell_type": "markdown",
   "id": "66a00433",
   "metadata": {},
   "source": [
    "# Missing Data Imputation "
   ]
  },
  {
   "cell_type": "code",
   "execution_count": 75,
   "id": "52ea662e",
   "metadata": {},
   "outputs": [],
   "source": [
    "%matplotlib inline\n",
    "import matplotlib.pyplot as plt\n",
    "import seaborn as sns\n",
    "\n",
    "import numpy as np\n",
    "from sklearn.preprocessing import scale\n",
    "from sklearn.experimental import enable_iterative_imputer\n",
    "from sklearn.impute import SimpleImputer, IterativeImputer\n",
    "\n",
    "import pandas as pd\n",
    "from pathlib import Path\n",
    "\n",
    "from random import sample\n",
    "\n",
    "import scipy.stats as st"
   ]
  },
  {
   "cell_type": "markdown",
   "id": "e5e818dc",
   "metadata": {},
   "source": [
    "## Data loading\n",
    "\n",
    "The dataset that we will use is named `data-lab2.csv`.\n",
    "\n",
    "* Import the dataset using pandas\n",
    "* Describe statistically the different variables available \n",
    "* Print the total % of missing data over the data\n",
    "* Print the % of missing data per variable"
   ]
  },
  {
   "cell_type": "code",
   "execution_count": 76,
   "id": "7471b719-ac96-4c68-83a4-e1bfa1b88b8b",
   "metadata": {},
   "outputs": [],
   "source": [
    "data_path = Path(\"D:\\Portofolio Data science\\EDA\\data-lab2.csv\")"
   ]
  },
  {
   "cell_type": "code",
   "execution_count": 77,
   "id": "bfb4ad58",
   "metadata": {},
   "outputs": [],
   "source": [
    "df = pd.read_csv(data_path, index_col = 0 )"
   ]
  },
  {
   "cell_type": "code",
   "execution_count": 78,
   "id": "1f2ba6ff-5b9e-4a8c-a6f6-043cbb5e664b",
   "metadata": {},
   "outputs": [
    {
     "data": {
      "text/html": [
       "<div>\n",
       "<style scoped>\n",
       "    .dataframe tbody tr th:only-of-type {\n",
       "        vertical-align: middle;\n",
       "    }\n",
       "\n",
       "    .dataframe tbody tr th {\n",
       "        vertical-align: top;\n",
       "    }\n",
       "\n",
       "    .dataframe thead th {\n",
       "        text-align: right;\n",
       "    }\n",
       "</style>\n",
       "<table border=\"1\" class=\"dataframe\">\n",
       "  <thead>\n",
       "    <tr style=\"text-align: right;\">\n",
       "      <th></th>\n",
       "      <th>sex</th>\n",
       "      <th>race</th>\n",
       "      <th>educ_r</th>\n",
       "      <th>r_age</th>\n",
       "      <th>workmos</th>\n",
       "      <th>welfare</th>\n",
       "      <th>charity</th>\n",
       "      <th>ssi</th>\n",
       "      <th>earnings</th>\n",
       "      <th>police</th>\n",
       "    </tr>\n",
       "  </thead>\n",
       "  <tbody>\n",
       "    <tr>\n",
       "      <th>1</th>\n",
       "      <td>1</td>\n",
       "      <td>1.0</td>\n",
       "      <td>4.0</td>\n",
       "      <td>29.0</td>\n",
       "      <td>12</td>\n",
       "      <td>0</td>\n",
       "      <td>0</td>\n",
       "      <td>0</td>\n",
       "      <td>84.0</td>\n",
       "      <td>0.0</td>\n",
       "    </tr>\n",
       "    <tr>\n",
       "      <th>2</th>\n",
       "      <td>2</td>\n",
       "      <td>3.0</td>\n",
       "      <td>4.0</td>\n",
       "      <td>40.0</td>\n",
       "      <td>12</td>\n",
       "      <td>0</td>\n",
       "      <td>0</td>\n",
       "      <td>0</td>\n",
       "      <td>NaN</td>\n",
       "      <td>1.0</td>\n",
       "    </tr>\n",
       "    <tr>\n",
       "      <th>3</th>\n",
       "      <td>1</td>\n",
       "      <td>3.0</td>\n",
       "      <td>2.0</td>\n",
       "      <td>36.0</td>\n",
       "      <td>10</td>\n",
       "      <td>0</td>\n",
       "      <td>0</td>\n",
       "      <td>0</td>\n",
       "      <td>27.5</td>\n",
       "      <td>0.0</td>\n",
       "    </tr>\n",
       "    <tr>\n",
       "      <th>4</th>\n",
       "      <td>1</td>\n",
       "      <td>1.0</td>\n",
       "      <td>4.0</td>\n",
       "      <td>71.0</td>\n",
       "      <td>11</td>\n",
       "      <td>0</td>\n",
       "      <td>0</td>\n",
       "      <td>0</td>\n",
       "      <td>85.0</td>\n",
       "      <td>1.0</td>\n",
       "    </tr>\n",
       "    <tr>\n",
       "      <th>5</th>\n",
       "      <td>1</td>\n",
       "      <td>4.0</td>\n",
       "      <td>4.0</td>\n",
       "      <td>30.0</td>\n",
       "      <td>12</td>\n",
       "      <td>0</td>\n",
       "      <td>0</td>\n",
       "      <td>0</td>\n",
       "      <td>135.0</td>\n",
       "      <td>1.0</td>\n",
       "    </tr>\n",
       "  </tbody>\n",
       "</table>\n",
       "</div>"
      ],
      "text/plain": [
       "   sex  race  educ_r  r_age  workmos  welfare  charity  ssi  earnings  police\n",
       "1    1   1.0     4.0   29.0       12        0        0    0      84.0     0.0\n",
       "2    2   3.0     4.0   40.0       12        0        0    0       NaN     1.0\n",
       "3    1   3.0     2.0   36.0       10        0        0    0      27.5     0.0\n",
       "4    1   1.0     4.0   71.0       11        0        0    0      85.0     1.0\n",
       "5    1   4.0     4.0   30.0       12        0        0    0     135.0     1.0"
      ]
     },
     "execution_count": 78,
     "metadata": {},
     "output_type": "execute_result"
    }
   ],
   "source": [
    "df.head()"
   ]
  },
  {
   "cell_type": "code",
   "execution_count": 79,
   "id": "67fafc17",
   "metadata": {},
   "outputs": [
    {
     "data": {
      "text/html": [
       "<div>\n",
       "<style scoped>\n",
       "    .dataframe tbody tr th:only-of-type {\n",
       "        vertical-align: middle;\n",
       "    }\n",
       "\n",
       "    .dataframe tbody tr th {\n",
       "        vertical-align: top;\n",
       "    }\n",
       "\n",
       "    .dataframe thead th {\n",
       "        text-align: right;\n",
       "    }\n",
       "</style>\n",
       "<table border=\"1\" class=\"dataframe\">\n",
       "  <thead>\n",
       "    <tr style=\"text-align: right;\">\n",
       "      <th></th>\n",
       "      <th>sex</th>\n",
       "      <th>race</th>\n",
       "      <th>educ_r</th>\n",
       "      <th>r_age</th>\n",
       "      <th>workmos</th>\n",
       "      <th>welfare</th>\n",
       "      <th>charity</th>\n",
       "      <th>ssi</th>\n",
       "      <th>earnings</th>\n",
       "      <th>police</th>\n",
       "    </tr>\n",
       "  </thead>\n",
       "  <tbody>\n",
       "    <tr>\n",
       "      <th>count</th>\n",
       "      <td>1501.000000</td>\n",
       "      <td>1464.000000</td>\n",
       "      <td>1488.000000</td>\n",
       "      <td>1501.000000</td>\n",
       "      <td>1501.000000</td>\n",
       "      <td>1501.000000</td>\n",
       "      <td>1501.000000</td>\n",
       "      <td>1501.000000</td>\n",
       "      <td>1250.000000</td>\n",
       "      <td>1433.000000</td>\n",
       "    </tr>\n",
       "    <tr>\n",
       "      <th>mean</th>\n",
       "      <td>1.638241</td>\n",
       "      <td>2.161202</td>\n",
       "      <td>2.748656</td>\n",
       "      <td>41.324232</td>\n",
       "      <td>8.985343</td>\n",
       "      <td>104.702865</td>\n",
       "      <td>26.553631</td>\n",
       "      <td>208.332445</td>\n",
       "      <td>52.605431</td>\n",
       "      <td>0.658060</td>\n",
       "    </tr>\n",
       "    <tr>\n",
       "      <th>std</th>\n",
       "      <td>0.480670</td>\n",
       "      <td>0.983096</td>\n",
       "      <td>1.070481</td>\n",
       "      <td>14.842529</td>\n",
       "      <td>4.710391</td>\n",
       "      <td>715.051813</td>\n",
       "      <td>435.719940</td>\n",
       "      <td>1181.816203</td>\n",
       "      <td>124.674340</td>\n",
       "      <td>0.474525</td>\n",
       "    </tr>\n",
       "    <tr>\n",
       "      <th>min</th>\n",
       "      <td>1.000000</td>\n",
       "      <td>1.000000</td>\n",
       "      <td>1.000000</td>\n",
       "      <td>18.000000</td>\n",
       "      <td>0.000000</td>\n",
       "      <td>-9.000000</td>\n",
       "      <td>-9.000000</td>\n",
       "      <td>-9.000000</td>\n",
       "      <td>0.000000</td>\n",
       "      <td>0.000000</td>\n",
       "    </tr>\n",
       "    <tr>\n",
       "      <th>25%</th>\n",
       "      <td>1.000000</td>\n",
       "      <td>1.000000</td>\n",
       "      <td>2.000000</td>\n",
       "      <td>30.000000</td>\n",
       "      <td>7.000000</td>\n",
       "      <td>0.000000</td>\n",
       "      <td>0.000000</td>\n",
       "      <td>0.000000</td>\n",
       "      <td>5.000000</td>\n",
       "      <td>0.000000</td>\n",
       "    </tr>\n",
       "    <tr>\n",
       "      <th>50%</th>\n",
       "      <td>2.000000</td>\n",
       "      <td>2.000000</td>\n",
       "      <td>3.000000</td>\n",
       "      <td>39.000000</td>\n",
       "      <td>12.000000</td>\n",
       "      <td>0.000000</td>\n",
       "      <td>0.000000</td>\n",
       "      <td>0.000000</td>\n",
       "      <td>28.000000</td>\n",
       "      <td>1.000000</td>\n",
       "    </tr>\n",
       "    <tr>\n",
       "      <th>75%</th>\n",
       "      <td>2.000000</td>\n",
       "      <td>3.000000</td>\n",
       "      <td>4.000000</td>\n",
       "      <td>50.000000</td>\n",
       "      <td>12.000000</td>\n",
       "      <td>0.000000</td>\n",
       "      <td>0.000000</td>\n",
       "      <td>0.000000</td>\n",
       "      <td>65.000000</td>\n",
       "      <td>1.000000</td>\n",
       "    </tr>\n",
       "    <tr>\n",
       "      <th>max</th>\n",
       "      <td>2.000000</td>\n",
       "      <td>4.000000</td>\n",
       "      <td>4.000000</td>\n",
       "      <td>97.000000</td>\n",
       "      <td>12.000000</td>\n",
       "      <td>10800.000000</td>\n",
       "      <td>10800.000000</td>\n",
       "      <td>13500.000000</td>\n",
       "      <td>3250.000000</td>\n",
       "      <td>1.000000</td>\n",
       "    </tr>\n",
       "  </tbody>\n",
       "</table>\n",
       "</div>"
      ],
      "text/plain": [
       "               sex         race       educ_r        r_age      workmos  \\\n",
       "count  1501.000000  1464.000000  1488.000000  1501.000000  1501.000000   \n",
       "mean      1.638241     2.161202     2.748656    41.324232     8.985343   \n",
       "std       0.480670     0.983096     1.070481    14.842529     4.710391   \n",
       "min       1.000000     1.000000     1.000000    18.000000     0.000000   \n",
       "25%       1.000000     1.000000     2.000000    30.000000     7.000000   \n",
       "50%       2.000000     2.000000     3.000000    39.000000    12.000000   \n",
       "75%       2.000000     3.000000     4.000000    50.000000    12.000000   \n",
       "max       2.000000     4.000000     4.000000    97.000000    12.000000   \n",
       "\n",
       "            welfare       charity           ssi     earnings       police  \n",
       "count   1501.000000   1501.000000   1501.000000  1250.000000  1433.000000  \n",
       "mean     104.702865     26.553631    208.332445    52.605431     0.658060  \n",
       "std      715.051813    435.719940   1181.816203   124.674340     0.474525  \n",
       "min       -9.000000     -9.000000     -9.000000     0.000000     0.000000  \n",
       "25%        0.000000      0.000000      0.000000     5.000000     0.000000  \n",
       "50%        0.000000      0.000000      0.000000    28.000000     1.000000  \n",
       "75%        0.000000      0.000000      0.000000    65.000000     1.000000  \n",
       "max    10800.000000  10800.000000  13500.000000  3250.000000     1.000000  "
      ]
     },
     "execution_count": 79,
     "metadata": {},
     "output_type": "execute_result"
    }
   ],
   "source": [
    "df.describe()"
   ]
  },
  {
   "cell_type": "markdown",
   "id": "5a51985f-72c7-440b-bf38-387caca0454c",
   "metadata": {},
   "source": [
    "## Comment\n",
    "We have some variables (ssi, police, ...) normaly qualitative but python treat them as quantitative. \n",
    "It's not a problem untilo now. "
   ]
  },
  {
   "cell_type": "markdown",
   "id": "b627a8f2",
   "metadata": {},
   "source": [
    "## Simple imputation strategies \n",
    "\n",
    "Let us consider the case of imputing the **earnings** variable  in this dataset. \n",
    "\n",
    "* Plot the distribution of the earnings variables with a histogram\n",
    "* Describe what the function bellow is doing \n",
    "* Use the function to impute the missing variable earnings \n",
    "* Compare the distributions of the newly imputed variable and the previous one"
   ]
  },
  {
   "cell_type": "code",
   "execution_count": 80,
   "id": "27c79279-53bd-4184-968c-e7b0e9efc2e5",
   "metadata": {},
   "outputs": [],
   "source": [
    "earnings = df[\"earnings\"]"
   ]
  },
  {
   "cell_type": "code",
   "execution_count": 81,
   "id": "dbc4c773-7fca-40e7-b3da-9e31a2e9aff8",
   "metadata": {},
   "outputs": [
    {
     "data": {
      "image/png": "[encoded data removed]",
      "text/plain": [
       "<Figure size 640x480 with 1 Axes>"
      ]
     },
     "metadata": {},
     "output_type": "display_data"
    }
   ],
   "source": [
    "fig = plt.figure()\n",
    "ax = fig.add_subplot()\n",
    "plt.title (\"distribution of earnings\")\n",
    "plt.hist(earnings, bins = 100)\n",
    "plt.show()"
   ]
  },
  {
   "cell_type": "code",
   "execution_count": 82,
   "id": "0a8063e7",
   "metadata": {},
   "outputs": [],
   "source": [
    "# The next code will replace the NA values on a variable by a sample of random values\n",
    "def random_imp(a):\n",
    "    missing = a.isna()\n",
    "    n_miss = np.sum(missing)\n",
    "    obs = a[-missing]\n",
    "    imputed = np.array(a)\n",
    "    impute_values = sample(list(obs), n_miss)\n",
    "    imputed[missing]=impute_values\n",
    "    return imputed"
   ]
  },
  {
   "cell_type": "code",
   "execution_count": 83,
   "id": "b215be35-3ead-4a90-b855-9fa6943de371",
   "metadata": {},
   "outputs": [],
   "source": [
    "earnings_after_imputation = random_imp(earnings)"
   ]
  },
  {
   "cell_type": "code",
   "execution_count": 84,
   "id": "06013af5-54f4-4e16-a42b-4b5c6a9ea9a0",
   "metadata": {},
   "outputs": [],
   "source": [
    "earnings_after_imputation = pd.Series(earnings_after_imputation)"
   ]
  },
  {
   "cell_type": "code",
   "execution_count": 85,
   "id": "9a67b910-452a-48e4-8d62-dbfa819d83dd",
   "metadata": {},
   "outputs": [
    {
     "data": {
      "image/png": "[encoded data removed]",
      "text/plain": [
       "<Figure size 640x480 with 2 Axes>"
      ]
     },
     "metadata": {},
     "output_type": "display_data"
    }
   ],
   "source": [
    "# Comparison of distribution of old \"Earnings variable\" and the new\n",
    "fig = plt.figure()\n",
    "plt.suptitle(\"Comparison of distribution of old Earnings variable and the new\")\n",
    "ax1 = fig.add_subplot(1,2,1)\n",
    "plt.hist(earnings, bins = 100)\n",
    "plt.title(\"earnings with NA\")\n",
    "ax2 = fig.add_subplot(1,2,2)\n",
    "plt.hist(earnings_after_imputation, bins = 100)\n",
    "plt.title(\"earnings imputed by random\")\n",
    "plt.show()"
   ]
  },
  {
   "cell_type": "markdown",
   "id": "051cb0af",
   "metadata": {},
   "source": [
    "* What are the problems with this approach ? \n",
    "* Propose two simple alternatives and compare the obtained results \n",
    "* Create a function that encapsulate all three alternatives for imputing a variable. The choice of the strategy is a parameter of the function."
   ]
  },
  {
   "cell_type": "markdown",
   "id": "0107849b-18dd-4449-9952-5383d69690b6",
   "metadata": {},
   "source": [
    "The main problem is the imputation doesn't reflect the relationship between earnings and other characteristics of the person.\n",
    "It can alson change the distribution of variable. \n",
    "The two alternative way to impute Missing Values are : \n",
    "- Imputation by the median ;\n",
    "- Imputation with mean."
   ]
  },
  {
   "cell_type": "code",
   "execution_count": 86,
   "id": "a0fac497-dd49-4c51-91eb-3455345cc471",
   "metadata": {},
   "outputs": [],
   "source": [
    "def imputation_variable (a, strategy): \n",
    "    missing = a.isna()\n",
    "    n_miss = np.sum(missing)\n",
    "    obs = a[~missing]\n",
    "    imputed = np.array(a)\n",
    "    if strategy == 'mean' : \n",
    "        imputed_values = np.mean(obs)\n",
    "        imputed[missing] = imputed_values\n",
    "    elif strategy == 'median' :\n",
    "        imputed_values = np.median(obs)\n",
    "        imputed[missing] = imputed_values\n",
    "    elif strategy == 'random' : \n",
    "        impute_values = sample(list(obs), n_miss)\n",
    "        imputed[missing]=impute_values\n",
    "    return imputed"
   ]
  },
  {
   "cell_type": "code",
   "execution_count": 87,
   "id": "49da0837-ecdd-4dfc-a893-573376308ebd",
   "metadata": {},
   "outputs": [
    {
     "name": "stdout",
     "output_type": "stream",
     "text": [
      "[ 84.         52.6054312  27.5       ... 510.         26.4\n",
      "  82.       ]\n"
     ]
    }
   ],
   "source": [
    "earnings_after_imputation_mean = imputation_variable(earnings, \"mean\")\n",
    "print(earnings_after_imputation_mean)\n",
    "earnings_after_imputation_median = imputation_variable(earnings, \"median\")\n",
    "earnings_after_imputation_random = imputation_variable(earnings, \"random\")"
   ]
  },
  {
   "cell_type": "code",
   "execution_count": 88,
   "id": "c990a374-d540-44bf-be4c-6b93790b02f0",
   "metadata": {},
   "outputs": [
    {
     "data": {
      "image/png": "[encoded data removed]",
      "text/plain": [
       "<Figure size 640x480 with 3 Axes>"
      ]
     },
     "metadata": {},
     "output_type": "display_data"
    }
   ],
   "source": [
    "# Let's compare the three solutions\n",
    "fig = plt.figure()\n",
    "ax1 = fig.add_subplot(1,3,1)\n",
    "sns.histplot(earnings_after_imputation_random)\n",
    "ax2 = fig.add_subplot(1,3,2)\n",
    "sns.histplot(earnings_after_imputation_mean)\n",
    "ax3 = fig.add_subplot(1,3,3)\n",
    "sns.histplot(earnings_after_imputation_median)\n",
    "plt.show()"
   ]
  },
  {
   "cell_type": "markdown",
   "id": "a3392a21",
   "metadata": {},
   "source": [
    "## Trying some logical rules \n",
    "\n",
    "* Create a column in the data frame that indicated missingness in the earning variable \n",
    "* Check for the correlation between this new variable and the other one in the dataset \n",
    "* Can you propose a simple logical rule to impute some of the missing values based on the workmos variable?"
   ]
  },
  {
   "cell_type": "code",
   "execution_count": 89,
   "id": "f606c5e7",
   "metadata": {},
   "outputs": [],
   "source": [
    "# Creation of dummy variable\n",
    "df['earnings_dummy'] = np.nan"
   ]
  },
  {
   "cell_type": "code",
   "execution_count": 90,
   "id": "1ac0451a-3bc5-4eb1-9538-b55907afd319",
   "metadata": {},
   "outputs": [
    {
     "data": {
      "text/plain": [
       "1        84.0\n",
       "2         NaN\n",
       "3        27.5\n",
       "4        85.0\n",
       "5       135.0\n",
       "        ...  \n",
       "1497     21.6\n",
       "1498      NaN\n",
       "1499    510.0\n",
       "1500     26.4\n",
       "1501     82.0\n",
       "Name: earnings, Length: 1501, dtype: float64"
      ]
     },
     "execution_count": 90,
     "metadata": {},
     "output_type": "execute_result"
    }
   ],
   "source": [
    "df[\"earnings\"]"
   ]
  },
  {
   "cell_type": "code",
   "execution_count": 91,
   "id": "30cef7e4-1d3d-4a28-b9f0-1a0ed4e10d01",
   "metadata": {},
   "outputs": [
    {
     "data": {
      "text/plain": [
       "1       False\n",
       "2        True\n",
       "3       False\n",
       "4       False\n",
       "5       False\n",
       "        ...  \n",
       "1497    False\n",
       "1498     True\n",
       "1499    False\n",
       "1500    False\n",
       "1501    False\n",
       "Name: earnings, Length: 1501, dtype: bool"
      ]
     },
     "execution_count": 91,
     "metadata": {},
     "output_type": "execute_result"
    }
   ],
   "source": [
    "df[\"earnings\"].isna()"
   ]
  },
  {
   "cell_type": "code",
   "execution_count": 92,
   "id": "95387980-78d4-49ab-aa8b-d45086c2c363",
   "metadata": {},
   "outputs": [],
   "source": [
    "earnings_dummy = []\n",
    "for i in earnings.isna() : \n",
    "    if i == True : \n",
    "        earnings_dummy.append(1)\n",
    "    else :\n",
    "        earnings_dummy.append(0)"
   ]
  },
  {
   "cell_type": "code",
   "execution_count": 93,
   "id": "90b78653-0da8-4534-a9e1-a6d5ca6491f9",
   "metadata": {},
   "outputs": [],
   "source": [
    "# Or (tolist() to transform into list)\n",
    "earnings_dummy = earnings.isna().astype(int).tolist()"
   ]
  },
  {
   "cell_type": "code",
   "execution_count": 94,
   "id": "f7491beb-a58b-4b56-b308-2eebdd058efe",
   "metadata": {},
   "outputs": [
    {
     "data": {
      "text/plain": [
       "[0, 1, 0, 0, 0]"
      ]
     },
     "execution_count": 94,
     "metadata": {},
     "output_type": "execute_result"
    }
   ],
   "source": [
    "earnings_dummy[:5]"
   ]
  },
  {
   "cell_type": "code",
   "execution_count": 95,
   "id": "9c2db721-cf32-4882-80e1-8b1363eb5327",
   "metadata": {},
   "outputs": [],
   "source": [
    "df['earnings_dummy'] = earnings_dummy"
   ]
  },
  {
   "cell_type": "code",
   "execution_count": 96,
   "id": "b5ce3dcf-2be6-40d7-80e9-267ea0a33830",
   "metadata": {},
   "outputs": [
    {
     "data": {
      "text/html": [
       "<div>\n",
       "<style scoped>\n",
       "    .dataframe tbody tr th:only-of-type {\n",
       "        vertical-align: middle;\n",
       "    }\n",
       "\n",
       "    .dataframe tbody tr th {\n",
       "        vertical-align: top;\n",
       "    }\n",
       "\n",
       "    .dataframe thead th {\n",
       "        text-align: right;\n",
       "    }\n",
       "</style>\n",
       "<table border=\"1\" class=\"dataframe\">\n",
       "  <thead>\n",
       "    <tr style=\"text-align: right;\">\n",
       "      <th></th>\n",
       "      <th>sex</th>\n",
       "      <th>race</th>\n",
       "      <th>educ_r</th>\n",
       "      <th>r_age</th>\n",
       "      <th>workmos</th>\n",
       "      <th>welfare</th>\n",
       "      <th>charity</th>\n",
       "      <th>ssi</th>\n",
       "      <th>earnings</th>\n",
       "      <th>police</th>\n",
       "      <th>earnings_dummy</th>\n",
       "    </tr>\n",
       "  </thead>\n",
       "  <tbody>\n",
       "    <tr>\n",
       "      <th>1</th>\n",
       "      <td>1</td>\n",
       "      <td>1.0</td>\n",
       "      <td>4.0</td>\n",
       "      <td>29.0</td>\n",
       "      <td>12</td>\n",
       "      <td>0</td>\n",
       "      <td>0</td>\n",
       "      <td>0</td>\n",
       "      <td>84.0</td>\n",
       "      <td>0.0</td>\n",
       "      <td>0</td>\n",
       "    </tr>\n",
       "    <tr>\n",
       "      <th>2</th>\n",
       "      <td>2</td>\n",
       "      <td>3.0</td>\n",
       "      <td>4.0</td>\n",
       "      <td>40.0</td>\n",
       "      <td>12</td>\n",
       "      <td>0</td>\n",
       "      <td>0</td>\n",
       "      <td>0</td>\n",
       "      <td>NaN</td>\n",
       "      <td>1.0</td>\n",
       "      <td>1</td>\n",
       "    </tr>\n",
       "    <tr>\n",
       "      <th>3</th>\n",
       "      <td>1</td>\n",
       "      <td>3.0</td>\n",
       "      <td>2.0</td>\n",
       "      <td>36.0</td>\n",
       "      <td>10</td>\n",
       "      <td>0</td>\n",
       "      <td>0</td>\n",
       "      <td>0</td>\n",
       "      <td>27.5</td>\n",
       "      <td>0.0</td>\n",
       "      <td>0</td>\n",
       "    </tr>\n",
       "    <tr>\n",
       "      <th>4</th>\n",
       "      <td>1</td>\n",
       "      <td>1.0</td>\n",
       "      <td>4.0</td>\n",
       "      <td>71.0</td>\n",
       "      <td>11</td>\n",
       "      <td>0</td>\n",
       "      <td>0</td>\n",
       "      <td>0</td>\n",
       "      <td>85.0</td>\n",
       "      <td>1.0</td>\n",
       "      <td>0</td>\n",
       "    </tr>\n",
       "    <tr>\n",
       "      <th>5</th>\n",
       "      <td>1</td>\n",
       "      <td>4.0</td>\n",
       "      <td>4.0</td>\n",
       "      <td>30.0</td>\n",
       "      <td>12</td>\n",
       "      <td>0</td>\n",
       "      <td>0</td>\n",
       "      <td>0</td>\n",
       "      <td>135.0</td>\n",
       "      <td>1.0</td>\n",
       "      <td>0</td>\n",
       "    </tr>\n",
       "  </tbody>\n",
       "</table>\n",
       "</div>"
      ],
      "text/plain": [
       "   sex  race  educ_r  r_age  workmos  welfare  charity  ssi  earnings  police  \\\n",
       "1    1   1.0     4.0   29.0       12        0        0    0      84.0     0.0   \n",
       "2    2   3.0     4.0   40.0       12        0        0    0       NaN     1.0   \n",
       "3    1   3.0     2.0   36.0       10        0        0    0      27.5     0.0   \n",
       "4    1   1.0     4.0   71.0       11        0        0    0      85.0     1.0   \n",
       "5    1   4.0     4.0   30.0       12        0        0    0     135.0     1.0   \n",
       "\n",
       "   earnings_dummy  \n",
       "1               0  \n",
       "2               1  \n",
       "3               0  \n",
       "4               0  \n",
       "5               0  "
      ]
     },
     "execution_count": 96,
     "metadata": {},
     "output_type": "execute_result"
    }
   ],
   "source": [
    "df.head()"
   ]
  },
  {
   "cell_type": "code",
   "execution_count": 97,
   "id": "8d4bef4c-2036-4cae-8887-6c36ce1d88e8",
   "metadata": {},
   "outputs": [
    {
     "name": "stdout",
     "output_type": "stream",
     "text": [
      "<pandas.core.groupby.generic.SeriesGroupBy object at 0x0000025622A8D670>\n"
     ]
    }
   ],
   "source": [
    "# Check the correlation between earnings_dummy and workmos\n",
    "grouped_r_age = df.groupby('earnings_dummy')['workmos']\n",
    "print(grouped_r_age)"
   ]
  },
  {
   "cell_type": "code",
   "execution_count": 98,
   "id": "0ab7ff32-6569-4d59-98df-88e5564e3b97",
   "metadata": {},
   "outputs": [],
   "source": [
    "group1 = grouped_r_age.get_group(1)\n",
    "group0 = grouped_r_age.get_group(0)"
   ]
  },
  {
   "cell_type": "code",
   "execution_count": 100,
   "id": "5d8ddd75-9aa2-430d-9eb0-21270525af75",
   "metadata": {},
   "outputs": [
    {
     "name": "stdout",
     "output_type": "stream",
     "text": [
      "F-statistic: 26.818433922966626\n",
      "p-value: 2.5383082781211145e-07\n"
     ]
    }
   ],
   "source": [
    "f_stat, p_val = st.f_oneway(group0, group1)\n",
    "print(\"F-statistic:\", f_stat)\n",
    "print(\"p-value:\", p_val)"
   ]
  },
  {
   "cell_type": "markdown",
   "id": "d8b2dec9-56ff-421a-aa22-366896515945",
   "metadata": {},
   "source": [
    "The mean of workmos for individuals with missing salary values is different from the mean of the other group. Therefore, it is possible to explain the missing values using workmos. This suggests that the missingness is of the type \"Missing At Random\" (MAR)."
   ]
  },
  {
   "cell_type": "markdown",
   "id": "24bb89ca",
   "metadata": {},
   "source": [
    "## Using Matching to impute missing values (deterministic)\n",
    "\n",
    "* Implement a function that\n",
    " * for observations with NaN retrieve the top-k closest neighbors based on some distance \n",
    " * impute the mean or the median earnings over the top-k closest neighbors\n",
    " \n",
    "Parameters: k (default=3), distance (default=euclidean), strategy (default=mean)\n",
    "\n",
    "* Impute the earnings variable and compare the results with previous imputation stragies"
   ]
  },
  {
   "cell_type": "code",
   "execution_count": 101,
   "id": "406f9c80",
   "metadata": {},
   "outputs": [],
   "source": [
    "# Your answer"
   ]
  },
  {
   "cell_type": "code",
   "execution_count": 102,
   "id": "0b936574-f09f-40ea-9d87-f7b21d8e07d4",
   "metadata": {},
   "outputs": [],
   "source": [
    "# The next code will replace the NA values on a variable by a sample of random values\n",
    "def random_imp(a):\n",
    "    missing = a.isna()\n",
    "    n_miss = np.sum(missing)\n",
    "    obs = a[-missing]\n",
    "    imputed = np.array(a)\n",
    "    impute_values = sample(list(obs), n_miss)\n",
    "    imputed[missing]=impute_values\n",
    "    return imputed"
   ]
  },
  {
   "cell_type": "code",
   "execution_count": 103,
   "id": "c25d3bd0-4c47-4bd9-9afd-20490b37016d",
   "metadata": {},
   "outputs": [
    {
     "name": "stdout",
     "output_type": "stream",
     "text": [
      "    Name  Age\n",
      "0    Tom   20\n",
      "1   nick   21\n",
      "2  krish   19\n",
      "3   jack   18\n"
     ]
    }
   ],
   "source": [
    "import pandas as pd\n",
    "\n",
    "# initialize data of lists.\n",
    "data = {'Name': ['Tom', 'nick', 'krish', 'jack'],\n",
    "        'Age': [20, 21, 19, 18]}\n",
    "\n",
    "# Create DataFrame\n",
    "data = pd.DataFrame(data)\n",
    "\n",
    "print(data)"
   ]
  },
  {
   "cell_type": "code",
   "execution_count": null,
   "id": "60705372-16f9-4ec2-ad71-03f653a56fe2",
   "metadata": {},
   "outputs": [],
   "source": []
  },
  {
   "cell_type": "code",
   "execution_count": 57,
   "id": "3f4de865-7be0-4341-9588-653c67cd82eb",
   "metadata": {},
   "outputs": [],
   "source": [
    "def matching_imputer(df, target_col='earnings', k=3, distance='euclidean', strategy='mean'):\n",
    "    df = df.copy()\n",
    "\n",
    "    # Séparer les lignes connues / manquantes\n",
    "    missing = df[target_col].isna()\n",
    "    df_missing = df[missing]\n",
    "    df_known = df[~missing]\n",
    "\n",
    "    # Normaliser les features (hors target)\n",
    "    feature_cols = df.drop(columns=[target_col]).columns\n",
    "    scaled_features = pd.DataFrame(scale(df[feature_cols]), columns=feature_cols, index=df.index)\n",
    "\n",
    "    known_features = scaled_features.loc[~missing].to_numpy()\n",
    "    known_targets = df_known[target_col].to_numpy()\n",
    "    missing_features = scaled_features.loc[missing].to_numpy()\n",
    "\n",
    "    for i, row in enumerate(missing_features):\n",
    "        # Calculer distances manuellement\n",
    "        distances = np.sqrt(np.nansum((known_features - row) ** 2, axis=1))\n",
    "        neighbor_idxs = np.argsort(distances)[:k]\n",
    "        neighbor_earnings = known_targets[neighbor_idxs] # Je sélectionne les earnings correspondants aux proches voisins\n",
    "\n",
    "        if strategy == 'mean':\n",
    "            imputed_value = np.mean(neighbor_earnings)\n",
    "        elif strategy == 'median':\n",
    "            imputed_value = np.median(neighbor_earnings)\n",
    "        else:\n",
    "            raise ValueError(\"strategy must be 'mean' or 'median'\")\n",
    "\n",
    "        # Mettre à jour la valeur imputée\n",
    "        df.loc[df_missing.index[i], target_col] = imputed_value\n",
    "\n",
    "    return df"
   ]
  },
  {
   "cell_type": "code",
   "execution_count": null,
   "id": "1425e3ac-0e15-410e-8d60-a9067c32308a",
   "metadata": {},
   "outputs": [],
   "source": []
  },
  {
   "cell_type": "code",
   "execution_count": null,
   "id": "3bf495e5-4a4d-4be5-9ba4-0dd41a66b0d5",
   "metadata": {},
   "outputs": [],
   "source": []
  },
  {
   "cell_type": "code",
   "execution_count": null,
   "id": "cb0a672e-c8c8-4e7d-b32d-1751a2aac1bd",
   "metadata": {},
   "outputs": [],
   "source": []
  },
  {
   "cell_type": "code",
   "execution_count": null,
   "id": "937252ed-499d-4523-a5c3-633b136b8210",
   "metadata": {},
   "outputs": [],
   "source": []
  },
  {
   "cell_type": "markdown",
   "id": "9badf8bd",
   "metadata": {},
   "source": [
    "## Using Linear Regression to impute missing values (deterministic)\n",
    "\n",
    "Recall: the objective of linear regression is to model the relationship between a continuous variable $Y$ and a set of explicatives variables $X_1, \\cdots, X_d$. Linear model assumes a relationship of the following form \n",
    "$Y_i = \\theta_0 + \\theta_1X_1 + \\cdots + \\theta_dX_d$ and the objective is to estimate the $\\theta$s coefficients. \n",
    "\n",
    "One way of adressing the problem of missing data imputation is to cast the task as a linear regression problem. Here the target variable $Y$ is earnings and the $X$s are the other variables in the dataset. \n",
    "\n",
    "* Learn a linear regression model to predict earnings based on the other variables \n",
    "* Comment on the results: values of coefficients, R^2 etc. \n",
    "* Predict the earning values for all observations of the dataset\n",
    "* Imput the prediction where the earnings missing\n",
    "* Compare the final distribution with previous strategy\n",
    "* Include the strategy in your previous function"
   ]
  },
  {
   "cell_type": "code",
   "execution_count": 27,
   "id": "23ecfeec",
   "metadata": {},
   "outputs": [],
   "source": [
    "## Your answer"
   ]
  },
  {
   "cell_type": "markdown",
   "id": "2ec54b3e",
   "metadata": {},
   "source": [
    "## Multiple variables imputation \n",
    "\n",
    "Let's move on to the case where multiple variables present missing values. \n",
    "To process we will introduce missing values in the age variable. \n",
    "\n",
    "* Write a function to cause approximatively 30% of the values of a variable x to be missing. Design the mechanism to be at random but not completely at random: the probability of missing age should depend on some y variable. \n",
    "* Apply the function to the age variable with a dependence on the sex.\n",
    "* Explore the iterative imputer of scikit-learn."
   ]
  },
  {
   "cell_type": "code",
   "execution_count": 28,
   "id": "bf6130b7",
   "metadata": {},
   "outputs": [],
   "source": [
    "## Your answer"
   ]
  }
 ],
 "metadata": {
  "kernelspec": {
   "display_name": "Python (portofolio)",
   "language": "python",
   "name": "portofolio"
  },
  "language_info": {
   "codemirror_mode": {
    "name": "ipython",
    "version": 3
   },
   "file_extension": ".py",
   "mimetype": "text/x-python",
   "name": "python",
   "nbconvert_exporter": "python",
   "pygments_lexer": "ipython3",
   "version": "3.9.21"
  }
 },
 "nbformat": 4,
 "nbformat_minor": 5
}
