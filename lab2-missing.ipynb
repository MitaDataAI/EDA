{
 "cells": [
  {
   "cell_type": "markdown",
   "id": "66a00433",
   "metadata": {},
   "source": [
    "# Missing Data Imputation "
   ]
  },
  {
   "cell_type": "code",
   "execution_count": 1,
   "id": "52ea662e",
   "metadata": {},
   "outputs": [],
   "source": [
    "%matplotlib inline\n",
    "import matplotlib.pyplot as plt\n",
    "import seaborn as sns\n",
    "\n",
    "import numpy as np\n",
    "from sklearn.preprocessing import scale\n",
    "from sklearn.experimental import enable_iterative_imputer\n",
    "from sklearn.impute import SimpleImputer, IterativeImputer\n",
    "from sklearn.impute import KNNImputer\n",
    "from sklearn.linear_model import LinearRegression\n",
    "\n",
    "import pandas as pd\n",
    "from pathlib import Path\n",
    "\n",
    "from random import sample\n",
    "\n",
    "import scipy.stats as st"
   ]
  },
  {
   "cell_type": "markdown",
   "id": "e5e818dc",
   "metadata": {},
   "source": [
    "## Data loading\n",
    "\n",
    "The dataset that we will use is named `data-lab2.csv`.\n",
    "\n",
    "* Import the dataset using pandas\n",
    "* Describe statistically the different variables available \n",
    "* Print the total % of missing data over the data\n",
    "* Print the % of missing data per variable"
   ]
  },
  {
   "cell_type": "code",
   "execution_count": 2,
   "id": "7471b719-ac96-4c68-83a4-e1bfa1b88b8b",
   "metadata": {},
   "outputs": [],
   "source": [
    "data_path = Path(\"D:\\Portofolio Data science\\EDA\\data-lab2.csv\")"
   ]
  },
  {
   "cell_type": "code",
   "execution_count": 3,
   "id": "bfb4ad58",
   "metadata": {},
   "outputs": [],
   "source": [
    "df = pd.read_csv(data_path, index_col = 0 )"
   ]
  },
  {
   "cell_type": "code",
   "execution_count": 4,
   "id": "1f2ba6ff-5b9e-4a8c-a6f6-043cbb5e664b",
   "metadata": {},
   "outputs": [
    {
     "data": {
      "text/html": [
       "<div>\n",
       "<style scoped>\n",
       "    .dataframe tbody tr th:only-of-type {\n",
       "        vertical-align: middle;\n",
       "    }\n",
       "\n",
       "    .dataframe tbody tr th {\n",
       "        vertical-align: top;\n",
       "    }\n",
       "\n",
       "    .dataframe thead th {\n",
       "        text-align: right;\n",
       "    }\n",
       "</style>\n",
       "<table border=\"1\" class=\"dataframe\">\n",
       "  <thead>\n",
       "    <tr style=\"text-align: right;\">\n",
       "      <th></th>\n",
       "      <th>sex</th>\n",
       "      <th>race</th>\n",
       "      <th>educ_r</th>\n",
       "      <th>r_age</th>\n",
       "      <th>workmos</th>\n",
       "      <th>welfare</th>\n",
       "      <th>charity</th>\n",
       "      <th>ssi</th>\n",
       "      <th>earnings</th>\n",
       "      <th>police</th>\n",
       "    </tr>\n",
       "  </thead>\n",
       "  <tbody>\n",
       "    <tr>\n",
       "      <th>1</th>\n",
       "      <td>1</td>\n",
       "      <td>1.0</td>\n",
       "      <td>4.0</td>\n",
       "      <td>29.0</td>\n",
       "      <td>12</td>\n",
       "      <td>0</td>\n",
       "      <td>0</td>\n",
       "      <td>0</td>\n",
       "      <td>84.0</td>\n",
       "      <td>0.0</td>\n",
       "    </tr>\n",
       "    <tr>\n",
       "      <th>2</th>\n",
       "      <td>2</td>\n",
       "      <td>3.0</td>\n",
       "      <td>4.0</td>\n",
       "      <td>40.0</td>\n",
       "      <td>12</td>\n",
       "      <td>0</td>\n",
       "      <td>0</td>\n",
       "      <td>0</td>\n",
       "      <td>NaN</td>\n",
       "      <td>1.0</td>\n",
       "    </tr>\n",
       "    <tr>\n",
       "      <th>3</th>\n",
       "      <td>1</td>\n",
       "      <td>3.0</td>\n",
       "      <td>2.0</td>\n",
       "      <td>36.0</td>\n",
       "      <td>10</td>\n",
       "      <td>0</td>\n",
       "      <td>0</td>\n",
       "      <td>0</td>\n",
       "      <td>27.5</td>\n",
       "      <td>0.0</td>\n",
       "    </tr>\n",
       "    <tr>\n",
       "      <th>4</th>\n",
       "      <td>1</td>\n",
       "      <td>1.0</td>\n",
       "      <td>4.0</td>\n",
       "      <td>71.0</td>\n",
       "      <td>11</td>\n",
       "      <td>0</td>\n",
       "      <td>0</td>\n",
       "      <td>0</td>\n",
       "      <td>85.0</td>\n",
       "      <td>1.0</td>\n",
       "    </tr>\n",
       "    <tr>\n",
       "      <th>5</th>\n",
       "      <td>1</td>\n",
       "      <td>4.0</td>\n",
       "      <td>4.0</td>\n",
       "      <td>30.0</td>\n",
       "      <td>12</td>\n",
       "      <td>0</td>\n",
       "      <td>0</td>\n",
       "      <td>0</td>\n",
       "      <td>135.0</td>\n",
       "      <td>1.0</td>\n",
       "    </tr>\n",
       "  </tbody>\n",
       "</table>\n",
       "</div>"
      ],
      "text/plain": [
       "   sex  race  educ_r  r_age  workmos  welfare  charity  ssi  earnings  police\n",
       "1    1   1.0     4.0   29.0       12        0        0    0      84.0     0.0\n",
       "2    2   3.0     4.0   40.0       12        0        0    0       NaN     1.0\n",
       "3    1   3.0     2.0   36.0       10        0        0    0      27.5     0.0\n",
       "4    1   1.0     4.0   71.0       11        0        0    0      85.0     1.0\n",
       "5    1   4.0     4.0   30.0       12        0        0    0     135.0     1.0"
      ]
     },
     "execution_count": 4,
     "metadata": {},
     "output_type": "execute_result"
    }
   ],
   "source": [
    "df.head()"
   ]
  },
  {
   "cell_type": "code",
   "execution_count": 5,
   "id": "67fafc17",
   "metadata": {},
   "outputs": [
    {
     "data": {
      "text/html": [
       "<div>\n",
       "<style scoped>\n",
       "    .dataframe tbody tr th:only-of-type {\n",
       "        vertical-align: middle;\n",
       "    }\n",
       "\n",
       "    .dataframe tbody tr th {\n",
       "        vertical-align: top;\n",
       "    }\n",
       "\n",
       "    .dataframe thead th {\n",
       "        text-align: right;\n",
       "    }\n",
       "</style>\n",
       "<table border=\"1\" class=\"dataframe\">\n",
       "  <thead>\n",
       "    <tr style=\"text-align: right;\">\n",
       "      <th></th>\n",
       "      <th>sex</th>\n",
       "      <th>race</th>\n",
       "      <th>educ_r</th>\n",
       "      <th>r_age</th>\n",
       "      <th>workmos</th>\n",
       "      <th>welfare</th>\n",
       "      <th>charity</th>\n",
       "      <th>ssi</th>\n",
       "      <th>earnings</th>\n",
       "      <th>police</th>\n",
       "    </tr>\n",
       "  </thead>\n",
       "  <tbody>\n",
       "    <tr>\n",
       "      <th>count</th>\n",
       "      <td>1501.000000</td>\n",
       "      <td>1464.000000</td>\n",
       "      <td>1488.000000</td>\n",
       "      <td>1501.000000</td>\n",
       "      <td>1501.000000</td>\n",
       "      <td>1501.000000</td>\n",
       "      <td>1501.000000</td>\n",
       "      <td>1501.000000</td>\n",
       "      <td>1250.000000</td>\n",
       "      <td>1433.000000</td>\n",
       "    </tr>\n",
       "    <tr>\n",
       "      <th>mean</th>\n",
       "      <td>1.638241</td>\n",
       "      <td>2.161202</td>\n",
       "      <td>2.748656</td>\n",
       "      <td>41.324232</td>\n",
       "      <td>8.985343</td>\n",
       "      <td>104.702865</td>\n",
       "      <td>26.553631</td>\n",
       "      <td>208.332445</td>\n",
       "      <td>52.605431</td>\n",
       "      <td>0.658060</td>\n",
       "    </tr>\n",
       "    <tr>\n",
       "      <th>std</th>\n",
       "      <td>0.480670</td>\n",
       "      <td>0.983096</td>\n",
       "      <td>1.070481</td>\n",
       "      <td>14.842529</td>\n",
       "      <td>4.710391</td>\n",
       "      <td>715.051813</td>\n",
       "      <td>435.719940</td>\n",
       "      <td>1181.816203</td>\n",
       "      <td>124.674340</td>\n",
       "      <td>0.474525</td>\n",
       "    </tr>\n",
       "    <tr>\n",
       "      <th>min</th>\n",
       "      <td>1.000000</td>\n",
       "      <td>1.000000</td>\n",
       "      <td>1.000000</td>\n",
       "      <td>18.000000</td>\n",
       "      <td>0.000000</td>\n",
       "      <td>-9.000000</td>\n",
       "      <td>-9.000000</td>\n",
       "      <td>-9.000000</td>\n",
       "      <td>0.000000</td>\n",
       "      <td>0.000000</td>\n",
       "    </tr>\n",
       "    <tr>\n",
       "      <th>25%</th>\n",
       "      <td>1.000000</td>\n",
       "      <td>1.000000</td>\n",
       "      <td>2.000000</td>\n",
       "      <td>30.000000</td>\n",
       "      <td>7.000000</td>\n",
       "      <td>0.000000</td>\n",
       "      <td>0.000000</td>\n",
       "      <td>0.000000</td>\n",
       "      <td>5.000000</td>\n",
       "      <td>0.000000</td>\n",
       "    </tr>\n",
       "    <tr>\n",
       "      <th>50%</th>\n",
       "      <td>2.000000</td>\n",
       "      <td>2.000000</td>\n",
       "      <td>3.000000</td>\n",
       "      <td>39.000000</td>\n",
       "      <td>12.000000</td>\n",
       "      <td>0.000000</td>\n",
       "      <td>0.000000</td>\n",
       "      <td>0.000000</td>\n",
       "      <td>28.000000</td>\n",
       "      <td>1.000000</td>\n",
       "    </tr>\n",
       "    <tr>\n",
       "      <th>75%</th>\n",
       "      <td>2.000000</td>\n",
       "      <td>3.000000</td>\n",
       "      <td>4.000000</td>\n",
       "      <td>50.000000</td>\n",
       "      <td>12.000000</td>\n",
       "      <td>0.000000</td>\n",
       "      <td>0.000000</td>\n",
       "      <td>0.000000</td>\n",
       "      <td>65.000000</td>\n",
       "      <td>1.000000</td>\n",
       "    </tr>\n",
       "    <tr>\n",
       "      <th>max</th>\n",
       "      <td>2.000000</td>\n",
       "      <td>4.000000</td>\n",
       "      <td>4.000000</td>\n",
       "      <td>97.000000</td>\n",
       "      <td>12.000000</td>\n",
       "      <td>10800.000000</td>\n",
       "      <td>10800.000000</td>\n",
       "      <td>13500.000000</td>\n",
       "      <td>3250.000000</td>\n",
       "      <td>1.000000</td>\n",
       "    </tr>\n",
       "  </tbody>\n",
       "</table>\n",
       "</div>"
      ],
      "text/plain": [
       "               sex         race       educ_r        r_age      workmos  \\\n",
       "count  1501.000000  1464.000000  1488.000000  1501.000000  1501.000000   \n",
       "mean      1.638241     2.161202     2.748656    41.324232     8.985343   \n",
       "std       0.480670     0.983096     1.070481    14.842529     4.710391   \n",
       "min       1.000000     1.000000     1.000000    18.000000     0.000000   \n",
       "25%       1.000000     1.000000     2.000000    30.000000     7.000000   \n",
       "50%       2.000000     2.000000     3.000000    39.000000    12.000000   \n",
       "75%       2.000000     3.000000     4.000000    50.000000    12.000000   \n",
       "max       2.000000     4.000000     4.000000    97.000000    12.000000   \n",
       "\n",
       "            welfare       charity           ssi     earnings       police  \n",
       "count   1501.000000   1501.000000   1501.000000  1250.000000  1433.000000  \n",
       "mean     104.702865     26.553631    208.332445    52.605431     0.658060  \n",
       "std      715.051813    435.719940   1181.816203   124.674340     0.474525  \n",
       "min       -9.000000     -9.000000     -9.000000     0.000000     0.000000  \n",
       "25%        0.000000      0.000000      0.000000     5.000000     0.000000  \n",
       "50%        0.000000      0.000000      0.000000    28.000000     1.000000  \n",
       "75%        0.000000      0.000000      0.000000    65.000000     1.000000  \n",
       "max    10800.000000  10800.000000  13500.000000  3250.000000     1.000000  "
      ]
     },
     "execution_count": 5,
     "metadata": {},
     "output_type": "execute_result"
    }
   ],
   "source": [
    "df.describe()"
   ]
  },
  {
   "cell_type": "markdown",
   "id": "5a51985f-72c7-440b-bf38-387caca0454c",
   "metadata": {},
   "source": [
    "## Comment\n",
    "We have some variables (ssi, police, ...) normaly qualitative but python treat them as quantitative. \n",
    "It's not a problem untilo now. "
   ]
  },
  {
   "cell_type": "markdown",
   "id": "b627a8f2",
   "metadata": {},
   "source": [
    "## Simple imputation strategies \n",
    "\n",
    "Let us consider the case of imputing the **earnings** variable  in this dataset. \n",
    "\n",
    "* Plot the distribution of the earnings variables with a histogram\n",
    "* Describe what the function bellow is doing \n",
    "* Use the function to impute the missing variable earnings \n",
    "* Compare the distributions of the newly imputed variable and the previous one"
   ]
  },
  {
   "cell_type": "code",
   "execution_count": 6,
   "id": "27c79279-53bd-4184-968c-e7b0e9efc2e5",
   "metadata": {},
   "outputs": [],
   "source": [
    "earnings = df[\"earnings\"]"
   ]
  },
  {
   "cell_type": "code",
   "execution_count": 7,
   "id": "dbc4c773-7fca-40e7-b3da-9e31a2e9aff8",
   "metadata": {},
   "outputs": [
    {
     "data": {
      "image/png": "[encoded data removed]",
      "text/plain": [
       "<Figure size 640x480 with 1 Axes>"
      ]
     },
     "metadata": {},
     "output_type": "display_data"
    }
   ],
   "source": [
    "fig = plt.figure()\n",
    "ax = fig.add_subplot()\n",
    "plt.title (\"distribution of earnings\")\n",
    "plt.hist(earnings, bins = 100)\n",
    "plt.show()"
   ]
  },
  {
   "cell_type": "code",
   "execution_count": 8,
   "id": "0a8063e7",
   "metadata": {},
   "outputs": [],
   "source": [
    "# The next code will replace the NA values on a variable by a sample of random values\n",
    "def random_imp(a):\n",
    "    missing = a.isna()\n",
    "    obs = a[-missing]\n",
    "    imputed = np.array(a)\n",
    "    n_miss = np.sum(missing)\n",
    "    impute_values = sample(list(obs), n_miss)\n",
    "    imputed[missing]=impute_values\n",
    "    return imputed"
   ]
  },
  {
   "cell_type": "code",
   "execution_count": 9,
   "id": "b215be35-3ead-4a90-b855-9fa6943de371",
   "metadata": {},
   "outputs": [],
   "source": [
    "earnings_after_imputation = random_imp(earnings)"
   ]
  },
  {
   "cell_type": "code",
   "execution_count": 10,
   "id": "06013af5-54f4-4e16-a42b-4b5c6a9ea9a0",
   "metadata": {},
   "outputs": [],
   "source": [
    "earnings_after_imputation = pd.Series(earnings_after_imputation)"
   ]
  },
  {
   "cell_type": "code",
   "execution_count": 11,
   "id": "9a67b910-452a-48e4-8d62-dbfa819d83dd",
   "metadata": {},
   "outputs": [
    {
     "data": {
      "image/png": "[encoded data removed]",
      "text/plain": [
       "<Figure size 640x480 with 2 Axes>"
      ]
     },
     "metadata": {},
     "output_type": "display_data"
    }
   ],
   "source": [
    "# Comparison of distribution of old \"Earnings variable\" and the new\n",
    "fig = plt.figure()\n",
    "plt.suptitle(\"Comparison of distribution of old Earnings variable and the new\")\n",
    "ax1 = fig.add_subplot(1,2,1)\n",
    "plt.hist(earnings, bins = 100)\n",
    "plt.title(\"earnings with NA\")\n",
    "ax2 = fig.add_subplot(1,2,2)\n",
    "plt.hist(earnings_after_imputation, bins = 100)\n",
    "plt.title(\"earnings imputed by random\")\n",
    "plt.show()"
   ]
  },
  {
   "cell_type": "markdown",
   "id": "051cb0af",
   "metadata": {},
   "source": [
    "* What are the problems with this approach ? \n",
    "* Propose two simple alternatives and compare the obtained results \n",
    "* Create a function that encapsulate all three alternatives for imputing a variable. The choice of the strategy is a parameter of the function."
   ]
  },
  {
   "cell_type": "markdown",
   "id": "0107849b-18dd-4449-9952-5383d69690b6",
   "metadata": {},
   "source": [
    "The main problem is the imputation doesn't reflect the relationship between earnings and other characteristics of the person.\n",
    "It can alson change the distribution of variable. \n",
    "The two alternative way to impute Missing Values are : \n",
    "- Imputation by the median ;\n",
    "- Imputation with mean."
   ]
  },
  {
   "cell_type": "code",
   "execution_count": 12,
   "id": "a0fac497-dd49-4c51-91eb-3455345cc471",
   "metadata": {},
   "outputs": [],
   "source": [
    "# Method 1 : manual\n",
    "def imputation_variable (a, strategy): \n",
    "    missing = a.isna()\n",
    "    n_miss = np.sum(missing)\n",
    "    obs = a[~missing]\n",
    "    imputed = np.array(a)\n",
    "    if strategy == 'mean' : \n",
    "        imputed_values = np.mean(obs)\n",
    "        imputed[missing] = imputed_values\n",
    "    elif strategy == 'median' :\n",
    "        imputed_values = np.median(obs)\n",
    "        imputed[missing] = imputed_values\n",
    "    elif strategy == 'random' : \n",
    "        impute_values = sample(list(obs), n_miss)\n",
    "        imputed[missing]=impute_values\n",
    "    return imputed"
   ]
  },
  {
   "cell_type": "code",
   "execution_count": 13,
   "id": "ab8ea42d-28a3-4622-ac88-58a0f1e48905",
   "metadata": {},
   "outputs": [
    {
     "name": "stdout",
     "output_type": "stream",
     "text": [
      "[ 84.         52.6054312  27.5       ... 510.         26.4\n",
      "  82.       ]\n"
     ]
    }
   ],
   "source": [
    "earnings_after_imputation_mean = imputation_variable(earnings, \"mean\")\n",
    "print(earnings_after_imputation_mean)\n",
    "earnings_after_imputation_median = imputation_variable(earnings, \"median\")\n",
    "earnings_after_imputation_random = imputation_variable(earnings, \"random\")"
   ]
  },
  {
   "cell_type": "code",
   "execution_count": 14,
   "id": "3a1728e9-1453-4250-8ddc-de0e69638369",
   "metadata": {},
   "outputs": [
    {
     "name": "stdout",
     "output_type": "stream",
     "text": [
      "[0 1 2 3 4 5]\n",
      "[[0 1]\n",
      " [2 3]\n",
      " [4 5]] 2\n"
     ]
    }
   ],
   "source": [
    "a = np.arange(6)\n",
    "print(a)\n",
    "a = a.reshape(3,2)\n",
    "print(a, a.ndim)"
   ]
  },
  {
   "cell_type": "code",
   "execution_count": 15,
   "id": "d3e18825-6d22-4bc4-bffc-9cc1a449e1c7",
   "metadata": {},
   "outputs": [],
   "source": [
    "# Method 2 : using SimpleImputer\n",
    "def imputation_variable_simple (a, strategy) : \n",
    "    a = np.array(a).reshape(-1,1) # Numpy search the number of row\n",
    "    imp = SimpleImputer(missing_values = np.nan, strategy = strategy)\n",
    "    imputed = imp.fit_transform(a)\n",
    "    return imputed"
   ]
  },
  {
   "cell_type": "code",
   "execution_count": 16,
   "id": "c8171131-f551-4cd8-ad45-250aa3f500e3",
   "metadata": {},
   "outputs": [],
   "source": [
    "earnings_after_imputation_mean_simple = imputation_variable_simple(earnings, \"mean\")"
   ]
  },
  {
   "cell_type": "code",
   "execution_count": 17,
   "id": "c990a374-d540-44bf-be4c-6b93790b02f0",
   "metadata": {},
   "outputs": [
    {
     "data": {
      "image/png": "[encoded data removed]",
      "text/plain": [
       "<Figure size 640x480 with 3 Axes>"
      ]
     },
     "metadata": {},
     "output_type": "display_data"
    }
   ],
   "source": [
    "# Let's compare the three solutions\n",
    "fig = plt.figure()\n",
    "ax1 = fig.add_subplot(1,3,1)\n",
    "sns.histplot(earnings_after_imputation_random)\n",
    "ax2 = fig.add_subplot(1,3,2)\n",
    "sns.histplot(earnings_after_imputation_mean)\n",
    "ax3 = fig.add_subplot(1,3,3)\n",
    "sns.histplot(earnings_after_imputation_median)\n",
    "plt.show()"
   ]
  },
  {
   "cell_type": "markdown",
   "id": "a3392a21",
   "metadata": {},
   "source": [
    "## Trying some logical rules \n",
    "\n",
    "* Create a column in the data frame that indicated missingness in the earning variable \n",
    "* Check for the correlation between this new variable and the other one in the dataset \n",
    "* Can you propose a simple logical rule to impute some of the missing values based on the workmos variable?"
   ]
  },
  {
   "cell_type": "code",
   "execution_count": 18,
   "id": "f606c5e7",
   "metadata": {},
   "outputs": [],
   "source": [
    "# Creation of dummy variable\n",
    "df['earnings_dummy'] = np.nan"
   ]
  },
  {
   "cell_type": "code",
   "execution_count": 19,
   "id": "1ac0451a-3bc5-4eb1-9538-b55907afd319",
   "metadata": {},
   "outputs": [
    {
     "data": {
      "text/plain": [
       "1        84.0\n",
       "2         NaN\n",
       "3        27.5\n",
       "4        85.0\n",
       "5       135.0\n",
       "        ...  \n",
       "1497     21.6\n",
       "1498      NaN\n",
       "1499    510.0\n",
       "1500     26.4\n",
       "1501     82.0\n",
       "Name: earnings, Length: 1501, dtype: float64"
      ]
     },
     "execution_count": 19,
     "metadata": {},
     "output_type": "execute_result"
    }
   ],
   "source": [
    "df[\"earnings\"]"
   ]
  },
  {
   "cell_type": "code",
   "execution_count": 20,
   "id": "30cef7e4-1d3d-4a28-b9f0-1a0ed4e10d01",
   "metadata": {},
   "outputs": [
    {
     "data": {
      "text/plain": [
       "1       False\n",
       "2        True\n",
       "3       False\n",
       "4       False\n",
       "5       False\n",
       "        ...  \n",
       "1497    False\n",
       "1498     True\n",
       "1499    False\n",
       "1500    False\n",
       "1501    False\n",
       "Name: earnings, Length: 1501, dtype: bool"
      ]
     },
     "execution_count": 20,
     "metadata": {},
     "output_type": "execute_result"
    }
   ],
   "source": [
    "df[\"earnings\"].isna()"
   ]
  },
  {
   "cell_type": "code",
   "execution_count": 21,
   "id": "95387980-78d4-49ab-aa8b-d45086c2c363",
   "metadata": {},
   "outputs": [],
   "source": [
    "earnings_dummy = []\n",
    "for i in earnings.isna() : \n",
    "    if i == True : \n",
    "        earnings_dummy.append(1)\n",
    "    else :\n",
    "        earnings_dummy.append(0)"
   ]
  },
  {
   "cell_type": "code",
   "execution_count": 22,
   "id": "90b78653-0da8-4534-a9e1-a6d5ca6491f9",
   "metadata": {},
   "outputs": [],
   "source": [
    "# Or (tolist() to transform into list)\n",
    "earnings_dummy = earnings.isna().astype(int).tolist()"
   ]
  },
  {
   "cell_type": "code",
   "execution_count": 23,
   "id": "f7491beb-a58b-4b56-b308-2eebdd058efe",
   "metadata": {},
   "outputs": [
    {
     "data": {
      "text/plain": [
       "[0, 1, 0, 0, 0]"
      ]
     },
     "execution_count": 23,
     "metadata": {},
     "output_type": "execute_result"
    }
   ],
   "source": [
    "earnings_dummy[:5]"
   ]
  },
  {
   "cell_type": "code",
   "execution_count": 24,
   "id": "9c2db721-cf32-4882-80e1-8b1363eb5327",
   "metadata": {},
   "outputs": [],
   "source": [
    "df['earnings_dummy'] = earnings_dummy"
   ]
  },
  {
   "cell_type": "code",
   "execution_count": 25,
   "id": "b5ce3dcf-2be6-40d7-80e9-267ea0a33830",
   "metadata": {},
   "outputs": [
    {
     "data": {
      "text/html": [
       "<div>\n",
       "<style scoped>\n",
       "    .dataframe tbody tr th:only-of-type {\n",
       "        vertical-align: middle;\n",
       "    }\n",
       "\n",
       "    .dataframe tbody tr th {\n",
       "        vertical-align: top;\n",
       "    }\n",
       "\n",
       "    .dataframe thead th {\n",
       "        text-align: right;\n",
       "    }\n",
       "</style>\n",
       "<table border=\"1\" class=\"dataframe\">\n",
       "  <thead>\n",
       "    <tr style=\"text-align: right;\">\n",
       "      <th></th>\n",
       "      <th>sex</th>\n",
       "      <th>race</th>\n",
       "      <th>educ_r</th>\n",
       "      <th>r_age</th>\n",
       "      <th>workmos</th>\n",
       "      <th>welfare</th>\n",
       "      <th>charity</th>\n",
       "      <th>ssi</th>\n",
       "      <th>earnings</th>\n",
       "      <th>police</th>\n",
       "      <th>earnings_dummy</th>\n",
       "    </tr>\n",
       "  </thead>\n",
       "  <tbody>\n",
       "    <tr>\n",
       "      <th>1</th>\n",
       "      <td>1</td>\n",
       "      <td>1.0</td>\n",
       "      <td>4.0</td>\n",
       "      <td>29.0</td>\n",
       "      <td>12</td>\n",
       "      <td>0</td>\n",
       "      <td>0</td>\n",
       "      <td>0</td>\n",
       "      <td>84.0</td>\n",
       "      <td>0.0</td>\n",
       "      <td>0</td>\n",
       "    </tr>\n",
       "    <tr>\n",
       "      <th>2</th>\n",
       "      <td>2</td>\n",
       "      <td>3.0</td>\n",
       "      <td>4.0</td>\n",
       "      <td>40.0</td>\n",
       "      <td>12</td>\n",
       "      <td>0</td>\n",
       "      <td>0</td>\n",
       "      <td>0</td>\n",
       "      <td>NaN</td>\n",
       "      <td>1.0</td>\n",
       "      <td>1</td>\n",
       "    </tr>\n",
       "    <tr>\n",
       "      <th>3</th>\n",
       "      <td>1</td>\n",
       "      <td>3.0</td>\n",
       "      <td>2.0</td>\n",
       "      <td>36.0</td>\n",
       "      <td>10</td>\n",
       "      <td>0</td>\n",
       "      <td>0</td>\n",
       "      <td>0</td>\n",
       "      <td>27.5</td>\n",
       "      <td>0.0</td>\n",
       "      <td>0</td>\n",
       "    </tr>\n",
       "    <tr>\n",
       "      <th>4</th>\n",
       "      <td>1</td>\n",
       "      <td>1.0</td>\n",
       "      <td>4.0</td>\n",
       "      <td>71.0</td>\n",
       "      <td>11</td>\n",
       "      <td>0</td>\n",
       "      <td>0</td>\n",
       "      <td>0</td>\n",
       "      <td>85.0</td>\n",
       "      <td>1.0</td>\n",
       "      <td>0</td>\n",
       "    </tr>\n",
       "    <tr>\n",
       "      <th>5</th>\n",
       "      <td>1</td>\n",
       "      <td>4.0</td>\n",
       "      <td>4.0</td>\n",
       "      <td>30.0</td>\n",
       "      <td>12</td>\n",
       "      <td>0</td>\n",
       "      <td>0</td>\n",
       "      <td>0</td>\n",
       "      <td>135.0</td>\n",
       "      <td>1.0</td>\n",
       "      <td>0</td>\n",
       "    </tr>\n",
       "  </tbody>\n",
       "</table>\n",
       "</div>"
      ],
      "text/plain": [
       "   sex  race  educ_r  r_age  workmos  welfare  charity  ssi  earnings  police  \\\n",
       "1    1   1.0     4.0   29.0       12        0        0    0      84.0     0.0   \n",
       "2    2   3.0     4.0   40.0       12        0        0    0       NaN     1.0   \n",
       "3    1   3.0     2.0   36.0       10        0        0    0      27.5     0.0   \n",
       "4    1   1.0     4.0   71.0       11        0        0    0      85.0     1.0   \n",
       "5    1   4.0     4.0   30.0       12        0        0    0     135.0     1.0   \n",
       "\n",
       "   earnings_dummy  \n",
       "1               0  \n",
       "2               1  \n",
       "3               0  \n",
       "4               0  \n",
       "5               0  "
      ]
     },
     "execution_count": 25,
     "metadata": {},
     "output_type": "execute_result"
    }
   ],
   "source": [
    "df.head()"
   ]
  },
  {
   "cell_type": "code",
   "execution_count": 26,
   "id": "8d4bef4c-2036-4cae-8887-6c36ce1d88e8",
   "metadata": {},
   "outputs": [
    {
     "name": "stdout",
     "output_type": "stream",
     "text": [
      "<pandas.core.groupby.generic.SeriesGroupBy object at 0x0000018FF0C1FF70>\n"
     ]
    }
   ],
   "source": [
    "# Check the correlation between earnings_dummy and workmos\n",
    "grouped_r_age = df.groupby('earnings_dummy')['workmos']\n",
    "print(grouped_r_age)"
   ]
  },
  {
   "cell_type": "code",
   "execution_count": 27,
   "id": "0ab7ff32-6569-4d59-98df-88e5564e3b97",
   "metadata": {},
   "outputs": [],
   "source": [
    "group1 = grouped_r_age.get_group(1)\n",
    "group0 = grouped_r_age.get_group(0)"
   ]
  },
  {
   "cell_type": "code",
   "execution_count": 28,
   "id": "5d8ddd75-9aa2-430d-9eb0-21270525af75",
   "metadata": {},
   "outputs": [
    {
     "name": "stdout",
     "output_type": "stream",
     "text": [
      "F-statistic: 26.818433922966626\n",
      "p-value: 2.5383082781211145e-07\n"
     ]
    }
   ],
   "source": [
    "f_stat, p_val = st.f_oneway(group0, group1)\n",
    "print(\"F-statistic:\", f_stat)\n",
    "print(\"p-value:\", p_val)"
   ]
  },
  {
   "cell_type": "markdown",
   "id": "d8b2dec9-56ff-421a-aa22-366896515945",
   "metadata": {},
   "source": [
    "The mean of workmos for individuals with missing salary values is different from the mean of the other group. Therefore, it is possible to explain the missing values using workmos. This suggests that the missingness is of the type \"Missing At Random\" (MAR)."
   ]
  },
  {
   "cell_type": "markdown",
   "id": "24bb89ca",
   "metadata": {},
   "source": [
    "## Using Matching to impute missing values (deterministic)\n",
    "\n",
    "* Implement a function that\n",
    " * for observations with NaN retrieve the top-k closest neighbors based on some distance \n",
    " * impute the mean or the median earnings over the top-k closest neighbors\n",
    " \n",
    "Parameters: k (default=3), distance (default=euclidean), strategy (default=mean)\n",
    "\n",
    "* Impute the earnings variable and compare the results with previous imputation stragies"
   ]
  },
  {
   "cell_type": "code",
   "execution_count": 29,
   "id": "3f4de865-7be0-4341-9588-653c67cd82eb",
   "metadata": {},
   "outputs": [],
   "source": [
    "# Method 1 : manual\n",
    "def matching_imputer(df, target_col='earnings', k=3, distance='euclidean', strategy='mean'):\n",
    "    df = df.copy()\n",
    "\n",
    "    # Séparer les lignes connues / manquantes\n",
    "    missing = df[target_col].isna()\n",
    "    df_missing = df[missing]\n",
    "    df_known = df[~missing]\n",
    "\n",
    "    # Normaliser les features (hors target)\n",
    "    feature_cols = df.drop(columns=[target_col]).columns\n",
    "    scaled_features = pd.DataFrame(scale(df[feature_cols]), columns=feature_cols, index=df.index)\n",
    "\n",
    "    known_features = scaled_features.loc[~missing].to_numpy()\n",
    "    known_targets = df_known[target_col].to_numpy()\n",
    "    missing_features = scaled_features.loc[missing].to_numpy()\n",
    "\n",
    "    for i, row in enumerate(missing_features):\n",
    "        # Calculer distances manuellement\n",
    "        distances = np.sqrt(np.nansum((known_features - row) ** 2, axis=1))\n",
    "        neighbor_idxs = np.argsort(distances)[:k]\n",
    "        neighbor_earnings = known_targets[neighbor_idxs] # Je sélectionne les earnings correspondants aux proches voisins\n",
    "\n",
    "        if strategy == 'mean':\n",
    "            imputed_value = np.mean(neighbor_earnings)\n",
    "        elif strategy == 'median':\n",
    "            imputed_value = np.median(neighbor_earnings)\n",
    "        else:\n",
    "            raise ValueError(\"strategy must be 'mean' or 'median'\")\n",
    "\n",
    "        # Mettre à jour la valeur imputée\n",
    "        df.loc[df_missing.index[i], target_col] = imputed_value\n",
    "\n",
    "    return df"
   ]
  },
  {
   "cell_type": "code",
   "execution_count": 30,
   "id": "1425e3ac-0e15-410e-8d60-a9067c32308a",
   "metadata": {},
   "outputs": [],
   "source": [
    "# Method 2\n",
    "\n",
    "def matching_imputer_knn(df, target_col, k=3):\n",
    "    df = df.copy()\n",
    "\n",
    "    # Étape 1 : séparer features et target\n",
    "    features = df.drop(columns=[target_col])\n",
    "    target = df[[target_col]]\n",
    "\n",
    "    # Étape 2 : normaliser uniquement les features\n",
    "    scaled_features = pd.DataFrame(\n",
    "        scale(features),\n",
    "        columns=features.columns,\n",
    "        index=features.index\n",
    "    )\n",
    "\n",
    "    # Étape 3 : concaténer features normalisées + target non modifiée\n",
    "    imput_data = pd.concat([scaled_features, target], axis=1)\n",
    "\n",
    "    # Étape 4 : appliquer KNNImputer sur l'ensemble\n",
    "    imputer = KNNImputer(n_neighbors=k, weights=\"uniform\", metric=\"nan_euclidean\")\n",
    "    imputed_array = imputer.fit_transform(imput_data)\n",
    "\n",
    "    # Étape 5 : extraire uniquement la target imputée (colonne de droite)\n",
    "    imputed_target = imputed_array[:, -1]\n",
    "\n",
    "    # Étape 6 : remplacer la colonne d'origine dans df\n",
    "    df[target_col] = imputed_target\n",
    "\n",
    "    return df"
   ]
  },
  {
   "cell_type": "code",
   "execution_count": 31,
   "id": "16dcb07a-51c1-43e3-a699-810290e13812",
   "metadata": {},
   "outputs": [],
   "source": [
    "df_earning_imputed_KNN = df.copy()"
   ]
  },
  {
   "cell_type": "code",
   "execution_count": 32,
   "id": "fc6dc6f4-5fa5-403c-9034-e074a14f59b5",
   "metadata": {},
   "outputs": [],
   "source": [
    "df_earning_imputed_KNN = matching_imputer_knn(df_earning_imputed_KNN, \"earnings\")"
   ]
  },
  {
   "cell_type": "code",
   "execution_count": 33,
   "id": "b4139c80-f723-41a5-ab1b-2523cd33d78c",
   "metadata": {},
   "outputs": [
    {
     "data": {
      "text/html": [
       "<div>\n",
       "<style scoped>\n",
       "    .dataframe tbody tr th:only-of-type {\n",
       "        vertical-align: middle;\n",
       "    }\n",
       "\n",
       "    .dataframe tbody tr th {\n",
       "        vertical-align: top;\n",
       "    }\n",
       "\n",
       "    .dataframe thead th {\n",
       "        text-align: right;\n",
       "    }\n",
       "</style>\n",
       "<table border=\"1\" class=\"dataframe\">\n",
       "  <thead>\n",
       "    <tr style=\"text-align: right;\">\n",
       "      <th></th>\n",
       "      <th>sex</th>\n",
       "      <th>race</th>\n",
       "      <th>educ_r</th>\n",
       "      <th>r_age</th>\n",
       "      <th>workmos</th>\n",
       "      <th>welfare</th>\n",
       "      <th>charity</th>\n",
       "      <th>ssi</th>\n",
       "      <th>earnings</th>\n",
       "      <th>police</th>\n",
       "      <th>earnings_dummy</th>\n",
       "    </tr>\n",
       "  </thead>\n",
       "  <tbody>\n",
       "    <tr>\n",
       "      <th>1</th>\n",
       "      <td>1</td>\n",
       "      <td>1.0</td>\n",
       "      <td>4.0</td>\n",
       "      <td>29.0</td>\n",
       "      <td>12</td>\n",
       "      <td>0</td>\n",
       "      <td>0</td>\n",
       "      <td>0</td>\n",
       "      <td>84.000000</td>\n",
       "      <td>0.0</td>\n",
       "      <td>0</td>\n",
       "    </tr>\n",
       "    <tr>\n",
       "      <th>2</th>\n",
       "      <td>2</td>\n",
       "      <td>3.0</td>\n",
       "      <td>4.0</td>\n",
       "      <td>40.0</td>\n",
       "      <td>12</td>\n",
       "      <td>0</td>\n",
       "      <td>0</td>\n",
       "      <td>0</td>\n",
       "      <td>60.266667</td>\n",
       "      <td>1.0</td>\n",
       "      <td>1</td>\n",
       "    </tr>\n",
       "    <tr>\n",
       "      <th>3</th>\n",
       "      <td>1</td>\n",
       "      <td>3.0</td>\n",
       "      <td>2.0</td>\n",
       "      <td>36.0</td>\n",
       "      <td>10</td>\n",
       "      <td>0</td>\n",
       "      <td>0</td>\n",
       "      <td>0</td>\n",
       "      <td>27.500000</td>\n",
       "      <td>0.0</td>\n",
       "      <td>0</td>\n",
       "    </tr>\n",
       "    <tr>\n",
       "      <th>4</th>\n",
       "      <td>1</td>\n",
       "      <td>1.0</td>\n",
       "      <td>4.0</td>\n",
       "      <td>71.0</td>\n",
       "      <td>11</td>\n",
       "      <td>0</td>\n",
       "      <td>0</td>\n",
       "      <td>0</td>\n",
       "      <td>85.000000</td>\n",
       "      <td>1.0</td>\n",
       "      <td>0</td>\n",
       "    </tr>\n",
       "    <tr>\n",
       "      <th>5</th>\n",
       "      <td>1</td>\n",
       "      <td>4.0</td>\n",
       "      <td>4.0</td>\n",
       "      <td>30.0</td>\n",
       "      <td>12</td>\n",
       "      <td>0</td>\n",
       "      <td>0</td>\n",
       "      <td>0</td>\n",
       "      <td>135.000000</td>\n",
       "      <td>1.0</td>\n",
       "      <td>0</td>\n",
       "    </tr>\n",
       "    <tr>\n",
       "      <th>...</th>\n",
       "      <td>...</td>\n",
       "      <td>...</td>\n",
       "      <td>...</td>\n",
       "      <td>...</td>\n",
       "      <td>...</td>\n",
       "      <td>...</td>\n",
       "      <td>...</td>\n",
       "      <td>...</td>\n",
       "      <td>...</td>\n",
       "      <td>...</td>\n",
       "      <td>...</td>\n",
       "    </tr>\n",
       "    <tr>\n",
       "      <th>1497</th>\n",
       "      <td>1</td>\n",
       "      <td>2.0</td>\n",
       "      <td>2.0</td>\n",
       "      <td>49.0</td>\n",
       "      <td>12</td>\n",
       "      <td>0</td>\n",
       "      <td>0</td>\n",
       "      <td>0</td>\n",
       "      <td>21.600000</td>\n",
       "      <td>1.0</td>\n",
       "      <td>0</td>\n",
       "    </tr>\n",
       "    <tr>\n",
       "      <th>1498</th>\n",
       "      <td>2</td>\n",
       "      <td>1.0</td>\n",
       "      <td>1.0</td>\n",
       "      <td>32.0</td>\n",
       "      <td>12</td>\n",
       "      <td>0</td>\n",
       "      <td>0</td>\n",
       "      <td>0</td>\n",
       "      <td>28.200000</td>\n",
       "      <td>0.0</td>\n",
       "      <td>1</td>\n",
       "    </tr>\n",
       "    <tr>\n",
       "      <th>1499</th>\n",
       "      <td>2</td>\n",
       "      <td>1.0</td>\n",
       "      <td>4.0</td>\n",
       "      <td>48.0</td>\n",
       "      <td>12</td>\n",
       "      <td>0</td>\n",
       "      <td>0</td>\n",
       "      <td>0</td>\n",
       "      <td>510.000000</td>\n",
       "      <td>1.0</td>\n",
       "      <td>0</td>\n",
       "    </tr>\n",
       "    <tr>\n",
       "      <th>1500</th>\n",
       "      <td>2</td>\n",
       "      <td>3.0</td>\n",
       "      <td>1.0</td>\n",
       "      <td>33.0</td>\n",
       "      <td>12</td>\n",
       "      <td>0</td>\n",
       "      <td>0</td>\n",
       "      <td>0</td>\n",
       "      <td>26.400000</td>\n",
       "      <td>1.0</td>\n",
       "      <td>0</td>\n",
       "    </tr>\n",
       "    <tr>\n",
       "      <th>1501</th>\n",
       "      <td>2</td>\n",
       "      <td>3.0</td>\n",
       "      <td>4.0</td>\n",
       "      <td>31.0</td>\n",
       "      <td>12</td>\n",
       "      <td>0</td>\n",
       "      <td>0</td>\n",
       "      <td>0</td>\n",
       "      <td>82.000000</td>\n",
       "      <td>1.0</td>\n",
       "      <td>0</td>\n",
       "    </tr>\n",
       "  </tbody>\n",
       "</table>\n",
       "<p>1501 rows × 11 columns</p>\n",
       "</div>"
      ],
      "text/plain": [
       "      sex  race  educ_r  r_age  workmos  welfare  charity  ssi    earnings  \\\n",
       "1       1   1.0     4.0   29.0       12        0        0    0   84.000000   \n",
       "2       2   3.0     4.0   40.0       12        0        0    0   60.266667   \n",
       "3       1   3.0     2.0   36.0       10        0        0    0   27.500000   \n",
       "4       1   1.0     4.0   71.0       11        0        0    0   85.000000   \n",
       "5       1   4.0     4.0   30.0       12        0        0    0  135.000000   \n",
       "...   ...   ...     ...    ...      ...      ...      ...  ...         ...   \n",
       "1497    1   2.0     2.0   49.0       12        0        0    0   21.600000   \n",
       "1498    2   1.0     1.0   32.0       12        0        0    0   28.200000   \n",
       "1499    2   1.0     4.0   48.0       12        0        0    0  510.000000   \n",
       "1500    2   3.0     1.0   33.0       12        0        0    0   26.400000   \n",
       "1501    2   3.0     4.0   31.0       12        0        0    0   82.000000   \n",
       "\n",
       "      police  earnings_dummy  \n",
       "1        0.0               0  \n",
       "2        1.0               1  \n",
       "3        0.0               0  \n",
       "4        1.0               0  \n",
       "5        1.0               0  \n",
       "...      ...             ...  \n",
       "1497     1.0               0  \n",
       "1498     0.0               1  \n",
       "1499     1.0               0  \n",
       "1500     1.0               0  \n",
       "1501     1.0               0  \n",
       "\n",
       "[1501 rows x 11 columns]"
      ]
     },
     "execution_count": 33,
     "metadata": {},
     "output_type": "execute_result"
    }
   ],
   "source": [
    "df_earning_imputed_KNN"
   ]
  },
  {
   "cell_type": "code",
   "execution_count": 54,
   "id": "00a3a02b-ea34-4ef5-b997-4050f00415b4",
   "metadata": {},
   "outputs": [
    {
     "data": {
      "text/plain": [
       "np.int64(0)"
      ]
     },
     "execution_count": 54,
     "metadata": {},
     "output_type": "execute_result"
    }
   ],
   "source": [
    "df_earning_imputed_KNN[\"earnings\"].isna().sum()"
   ]
  },
  {
   "cell_type": "markdown",
   "id": "9badf8bd",
   "metadata": {},
   "source": [
    "## Using Linear Regression to impute missing values (deterministic)\n",
    "\n",
    "Recall: the objective of linear regression is to model the relationship between a continuous variable $Y$ and a set of explicatives variables $X_1, \\cdots, X_d$. Linear model assumes a relationship of the following form \n",
    "$Y_i = \\theta_0 + \\theta_1X_1 + \\cdots + \\theta_dX_d$ and the objective is to estimate the $\\theta$s coefficients. \n",
    "\n",
    "One way of adressing the problem of missing data imputation is to cast the task as a linear regression problem. Here the target variable $Y$ is earnings and the $X$s are the other variables in the dataset. \n",
    "\n",
    "* Learn a linear regression model to predict earnings based on the other variables \n",
    "* Comment on the results: values of coefficients, R^2 etc. \n",
    "* Predict the earning values for all observations of the dataset\n",
    "* Imput the prediction where the earnings missing\n",
    "* Compare the final distribution with previous strategy\n",
    "* Include the strategy in your previous function"
   ]
  },
  {
   "cell_type": "markdown",
   "id": "0f9038dd-9b58-4c88-b445-fd29ad2d1c9f",
   "metadata": {},
   "source": [
    "## Data Preparation"
   ]
  },
  {
   "cell_type": "code",
   "execution_count": 34,
   "id": "f12d982b-f8c1-4ca1-9f3f-f6ad61499ee0",
   "metadata": {},
   "outputs": [
    {
     "name": "stdout",
     "output_type": "stream",
     "text": [
      "      sex  race  educ_r  r_age  workmos  welfare  charity  ssi  earnings  \\\n",
      "1       1   1.0     4.0   29.0       12        0        0    0      84.0   \n",
      "3       1   3.0     2.0   36.0       10        0        0    0      27.5   \n",
      "4       1   1.0     4.0   71.0       11        0        0    0      85.0   \n",
      "5       1   4.0     4.0   30.0       12        0        0    0     135.0   \n",
      "7       2   1.0     4.0   32.0       12        0        0    0      92.0   \n",
      "...   ...   ...     ...    ...      ...      ...      ...  ...       ...   \n",
      "1495    2   1.0     2.0   44.0       10        0       -5    0      10.0   \n",
      "1497    1   2.0     2.0   49.0       12        0        0    0      21.6   \n",
      "1499    2   1.0     4.0   48.0       12        0        0    0     510.0   \n",
      "1500    2   3.0     1.0   33.0       12        0        0    0      26.4   \n",
      "1501    2   3.0     4.0   31.0       12        0        0    0      82.0   \n",
      "\n",
      "      police  earnings_dummy  \n",
      "1        0.0               0  \n",
      "3        0.0               0  \n",
      "4        1.0               0  \n",
      "5        1.0               0  \n",
      "7        1.0               0  \n",
      "...      ...             ...  \n",
      "1495     0.0               0  \n",
      "1497     1.0               0  \n",
      "1499     1.0               0  \n",
      "1500     1.0               0  \n",
      "1501     1.0               0  \n",
      "\n",
      "[1170 rows x 11 columns]\n"
     ]
    }
   ],
   "source": [
    "df_without_missing = df.dropna()\n",
    "print(df_without_missing)"
   ]
  },
  {
   "cell_type": "code",
   "execution_count": 35,
   "id": "23ecfeec",
   "metadata": {},
   "outputs": [],
   "source": [
    "## Your answer\n",
    "Y_without_missing = df_without_missing[\"earnings\"]\n",
    "X_without_missing = df_without_missing.drop(columns=[\"earnings\", \"earnings_dummy\"])"
   ]
  },
  {
   "cell_type": "code",
   "execution_count": 36,
   "id": "c54a403a-f6e5-431c-b3c5-ebc46048b1e6",
   "metadata": {},
   "outputs": [
    {
     "data": {
      "text/plain": [
       "1     84.0\n",
       "3     27.5\n",
       "4     85.0\n",
       "5    135.0\n",
       "7     92.0\n",
       "Name: earnings, dtype: float64"
      ]
     },
     "execution_count": 36,
     "metadata": {},
     "output_type": "execute_result"
    }
   ],
   "source": [
    "Y_without_missing.head()"
   ]
  },
  {
   "cell_type": "code",
   "execution_count": 37,
   "id": "332c1a1c-e2ea-4582-a017-16d8845f5d70",
   "metadata": {},
   "outputs": [
    {
     "data": {
      "text/html": [
       "<div>\n",
       "<style scoped>\n",
       "    .dataframe tbody tr th:only-of-type {\n",
       "        vertical-align: middle;\n",
       "    }\n",
       "\n",
       "    .dataframe tbody tr th {\n",
       "        vertical-align: top;\n",
       "    }\n",
       "\n",
       "    .dataframe thead th {\n",
       "        text-align: right;\n",
       "    }\n",
       "</style>\n",
       "<table border=\"1\" class=\"dataframe\">\n",
       "  <thead>\n",
       "    <tr style=\"text-align: right;\">\n",
       "      <th></th>\n",
       "      <th>sex</th>\n",
       "      <th>race</th>\n",
       "      <th>educ_r</th>\n",
       "      <th>r_age</th>\n",
       "      <th>workmos</th>\n",
       "      <th>welfare</th>\n",
       "      <th>charity</th>\n",
       "      <th>ssi</th>\n",
       "      <th>police</th>\n",
       "    </tr>\n",
       "  </thead>\n",
       "  <tbody>\n",
       "    <tr>\n",
       "      <th>1</th>\n",
       "      <td>1</td>\n",
       "      <td>1.0</td>\n",
       "      <td>4.0</td>\n",
       "      <td>29.0</td>\n",
       "      <td>12</td>\n",
       "      <td>0</td>\n",
       "      <td>0</td>\n",
       "      <td>0</td>\n",
       "      <td>0.0</td>\n",
       "    </tr>\n",
       "    <tr>\n",
       "      <th>3</th>\n",
       "      <td>1</td>\n",
       "      <td>3.0</td>\n",
       "      <td>2.0</td>\n",
       "      <td>36.0</td>\n",
       "      <td>10</td>\n",
       "      <td>0</td>\n",
       "      <td>0</td>\n",
       "      <td>0</td>\n",
       "      <td>0.0</td>\n",
       "    </tr>\n",
       "    <tr>\n",
       "      <th>4</th>\n",
       "      <td>1</td>\n",
       "      <td>1.0</td>\n",
       "      <td>4.0</td>\n",
       "      <td>71.0</td>\n",
       "      <td>11</td>\n",
       "      <td>0</td>\n",
       "      <td>0</td>\n",
       "      <td>0</td>\n",
       "      <td>1.0</td>\n",
       "    </tr>\n",
       "    <tr>\n",
       "      <th>5</th>\n",
       "      <td>1</td>\n",
       "      <td>4.0</td>\n",
       "      <td>4.0</td>\n",
       "      <td>30.0</td>\n",
       "      <td>12</td>\n",
       "      <td>0</td>\n",
       "      <td>0</td>\n",
       "      <td>0</td>\n",
       "      <td>1.0</td>\n",
       "    </tr>\n",
       "    <tr>\n",
       "      <th>7</th>\n",
       "      <td>2</td>\n",
       "      <td>1.0</td>\n",
       "      <td>4.0</td>\n",
       "      <td>32.0</td>\n",
       "      <td>12</td>\n",
       "      <td>0</td>\n",
       "      <td>0</td>\n",
       "      <td>0</td>\n",
       "      <td>1.0</td>\n",
       "    </tr>\n",
       "  </tbody>\n",
       "</table>\n",
       "</div>"
      ],
      "text/plain": [
       "   sex  race  educ_r  r_age  workmos  welfare  charity  ssi  police\n",
       "1    1   1.0     4.0   29.0       12        0        0    0     0.0\n",
       "3    1   3.0     2.0   36.0       10        0        0    0     0.0\n",
       "4    1   1.0     4.0   71.0       11        0        0    0     1.0\n",
       "5    1   4.0     4.0   30.0       12        0        0    0     1.0\n",
       "7    2   1.0     4.0   32.0       12        0        0    0     1.0"
      ]
     },
     "execution_count": 37,
     "metadata": {},
     "output_type": "execute_result"
    }
   ],
   "source": [
    "X_without_missing.head()"
   ]
  },
  {
   "cell_type": "markdown",
   "id": "bee8e72c-2c33-48e8-8b56-8b7f4389a3fe",
   "metadata": {},
   "source": [
    "## Linear regression"
   ]
  },
  {
   "cell_type": "code",
   "execution_count": 38,
   "id": "6a9e02ac-f98a-4773-8088-77b5bc5b1e30",
   "metadata": {},
   "outputs": [
    {
     "name": "stdout",
     "output_type": "stream",
     "text": [
      "R² is : 0.10785472801205831\n",
      "Coefficients : [ 1.35111843e+00 -8.86220514e+00  1.86289853e+01  5.09372100e-01\n",
      "  5.98806365e+00 -1.77318963e-03 -5.80060124e-03  4.02234852e-04\n",
      "  1.57239748e+01]\n",
      "Intercept : -64.69667433396022\n"
     ]
    }
   ],
   "source": [
    "reg = LinearRegression()\n",
    "reg.fit(X_without_missing,Y_without_missing)\n",
    "print(\"R² is :\", reg.score(X_without_missing, Y_without_missing))      \n",
    "print(\"Coefficients :\", reg.coef_)         \n",
    "print(\"Intercept :\", reg.intercept_)       "
   ]
  },
  {
   "cell_type": "markdown",
   "id": "c6ed4350-2adf-4ba2-9b19-c925ad3802b4",
   "metadata": {},
   "source": [
    "## Prediction"
   ]
  },
  {
   "cell_type": "code",
   "execution_count": 39,
   "id": "2991c08a-159f-4588-93db-7f7d6e191549",
   "metadata": {},
   "outputs": [],
   "source": [
    "df = df.drop(columns=\"earnings_dummy\")"
   ]
  },
  {
   "cell_type": "code",
   "execution_count": 40,
   "id": "7f8641a8-bc1a-4558-bfdc-4bec4f695fe2",
   "metadata": {},
   "outputs": [],
   "source": [
    "X = df.drop(columns=[\"earnings\"])"
   ]
  },
  {
   "cell_type": "code",
   "execution_count": 41,
   "id": "614dc4b6-1007-4075-850e-73bd21e8564b",
   "metadata": {},
   "outputs": [
    {
     "data": {
      "text/plain": [
       "sex         0\n",
       "race       37\n",
       "educ_r     13\n",
       "r_age       0\n",
       "workmos     0\n",
       "welfare     0\n",
       "charity     0\n",
       "ssi         0\n",
       "police     68\n",
       "dtype: int64"
      ]
     },
     "execution_count": 41,
     "metadata": {},
     "output_type": "execute_result"
    }
   ],
   "source": [
    "X.isna().sum()"
   ]
  },
  {
   "cell_type": "code",
   "execution_count": 42,
   "id": "77846780-e2b3-42e8-bab8-66456499c2d5",
   "metadata": {},
   "outputs": [],
   "source": [
    "# Let's use Matching to impute some features\n",
    "df = matching_imputer_knn(df, target_col=\"educ_r\", k=3)\n",
    "df = matching_imputer_knn(df, target_col=\"race\", k=3)\n",
    "df = matching_imputer_knn(df, target_col=\"police\", k=3)"
   ]
  },
  {
   "cell_type": "code",
   "execution_count": 43,
   "id": "8ddfe8e0-c8c6-431b-8804-7d96391cc66a",
   "metadata": {},
   "outputs": [
    {
     "data": {
      "text/plain": [
       "sex           0\n",
       "race          0\n",
       "educ_r        0\n",
       "r_age         0\n",
       "workmos       0\n",
       "welfare       0\n",
       "charity       0\n",
       "ssi           0\n",
       "earnings    251\n",
       "police        0\n",
       "dtype: int64"
      ]
     },
     "execution_count": 43,
     "metadata": {},
     "output_type": "execute_result"
    }
   ],
   "source": [
    "df.isna().sum()"
   ]
  },
  {
   "cell_type": "code",
   "execution_count": 44,
   "id": "15fb945d-0567-475c-9b30-033a4f4b390b",
   "metadata": {},
   "outputs": [],
   "source": [
    "X = df.drop(columns=[\"earnings\"])"
   ]
  },
  {
   "cell_type": "code",
   "execution_count": 45,
   "id": "acb856f1-68cc-41ae-93a4-65b38d689d9c",
   "metadata": {},
   "outputs": [
    {
     "name": "stdout",
     "output_type": "stream",
     "text": [
      "[ 88.93673478  93.89051082  25.54383132 ... 115.6898979   34.43795026\n",
      "  89.30616192]\n"
     ]
    }
   ],
   "source": [
    "Y_predict = reg.predict(X)\n",
    "print(Y_predict)"
   ]
  },
  {
   "cell_type": "markdown",
   "id": "1e35ffdf-8e92-465d-b0c0-6c26848c6fc1",
   "metadata": {},
   "source": [
    "## Imputation"
   ]
  },
  {
   "cell_type": "code",
   "execution_count": 46,
   "id": "158b2244-7fe8-4564-9c5d-ce89fadc0e11",
   "metadata": {},
   "outputs": [],
   "source": [
    "df[\"earnings_predict\"] = np.nan\n",
    "df[\"earnings_predict\"] = Y_predict"
   ]
  },
  {
   "cell_type": "code",
   "execution_count": 47,
   "id": "9980a334-9932-48bc-ad59-e5939f39f39d",
   "metadata": {},
   "outputs": [
    {
     "data": {
      "text/html": [
       "<div>\n",
       "<style scoped>\n",
       "    .dataframe tbody tr th:only-of-type {\n",
       "        vertical-align: middle;\n",
       "    }\n",
       "\n",
       "    .dataframe tbody tr th {\n",
       "        vertical-align: top;\n",
       "    }\n",
       "\n",
       "    .dataframe thead th {\n",
       "        text-align: right;\n",
       "    }\n",
       "</style>\n",
       "<table border=\"1\" class=\"dataframe\">\n",
       "  <thead>\n",
       "    <tr style=\"text-align: right;\">\n",
       "      <th></th>\n",
       "      <th>sex</th>\n",
       "      <th>race</th>\n",
       "      <th>educ_r</th>\n",
       "      <th>r_age</th>\n",
       "      <th>workmos</th>\n",
       "      <th>welfare</th>\n",
       "      <th>charity</th>\n",
       "      <th>ssi</th>\n",
       "      <th>earnings</th>\n",
       "      <th>police</th>\n",
       "      <th>earnings_predict</th>\n",
       "    </tr>\n",
       "  </thead>\n",
       "  <tbody>\n",
       "    <tr>\n",
       "      <th>1</th>\n",
       "      <td>1</td>\n",
       "      <td>1.0</td>\n",
       "      <td>4.0</td>\n",
       "      <td>29.0</td>\n",
       "      <td>12</td>\n",
       "      <td>0</td>\n",
       "      <td>0</td>\n",
       "      <td>0</td>\n",
       "      <td>84.0</td>\n",
       "      <td>0.0</td>\n",
       "      <td>88.936735</td>\n",
       "    </tr>\n",
       "    <tr>\n",
       "      <th>2</th>\n",
       "      <td>2</td>\n",
       "      <td>3.0</td>\n",
       "      <td>4.0</td>\n",
       "      <td>40.0</td>\n",
       "      <td>12</td>\n",
       "      <td>0</td>\n",
       "      <td>0</td>\n",
       "      <td>0</td>\n",
       "      <td>NaN</td>\n",
       "      <td>1.0</td>\n",
       "      <td>93.890511</td>\n",
       "    </tr>\n",
       "    <tr>\n",
       "      <th>3</th>\n",
       "      <td>1</td>\n",
       "      <td>3.0</td>\n",
       "      <td>2.0</td>\n",
       "      <td>36.0</td>\n",
       "      <td>10</td>\n",
       "      <td>0</td>\n",
       "      <td>0</td>\n",
       "      <td>0</td>\n",
       "      <td>27.5</td>\n",
       "      <td>0.0</td>\n",
       "      <td>25.543831</td>\n",
       "    </tr>\n",
       "    <tr>\n",
       "      <th>4</th>\n",
       "      <td>1</td>\n",
       "      <td>1.0</td>\n",
       "      <td>4.0</td>\n",
       "      <td>71.0</td>\n",
       "      <td>11</td>\n",
       "      <td>0</td>\n",
       "      <td>0</td>\n",
       "      <td>0</td>\n",
       "      <td>85.0</td>\n",
       "      <td>1.0</td>\n",
       "      <td>120.066274</td>\n",
       "    </tr>\n",
       "    <tr>\n",
       "      <th>5</th>\n",
       "      <td>1</td>\n",
       "      <td>4.0</td>\n",
       "      <td>4.0</td>\n",
       "      <td>30.0</td>\n",
       "      <td>12</td>\n",
       "      <td>0</td>\n",
       "      <td>0</td>\n",
       "      <td>0</td>\n",
       "      <td>135.0</td>\n",
       "      <td>1.0</td>\n",
       "      <td>78.583466</td>\n",
       "    </tr>\n",
       "  </tbody>\n",
       "</table>\n",
       "</div>"
      ],
      "text/plain": [
       "   sex  race  educ_r  r_age  workmos  welfare  charity  ssi  earnings  police  \\\n",
       "1    1   1.0     4.0   29.0       12        0        0    0      84.0     0.0   \n",
       "2    2   3.0     4.0   40.0       12        0        0    0       NaN     1.0   \n",
       "3    1   3.0     2.0   36.0       10        0        0    0      27.5     0.0   \n",
       "4    1   1.0     4.0   71.0       11        0        0    0      85.0     1.0   \n",
       "5    1   4.0     4.0   30.0       12        0        0    0     135.0     1.0   \n",
       "\n",
       "   earnings_predict  \n",
       "1         88.936735  \n",
       "2         93.890511  \n",
       "3         25.543831  \n",
       "4        120.066274  \n",
       "5         78.583466  "
      ]
     },
     "execution_count": 47,
     "metadata": {},
     "output_type": "execute_result"
    }
   ],
   "source": [
    "df.head()"
   ]
  },
  {
   "cell_type": "code",
   "execution_count": 48,
   "id": "b7230277-d675-4eb3-b838-d34b35abe84a",
   "metadata": {},
   "outputs": [],
   "source": [
    "df[\"earnings\"] = df[\"earnings\"].fillna(df[\"earnings_predict\"])"
   ]
  },
  {
   "cell_type": "code",
   "execution_count": 49,
   "id": "9c3b8ae5-dbb7-4b77-82ff-15b81d0ee08b",
   "metadata": {},
   "outputs": [
    {
     "data": {
      "text/html": [
       "<div>\n",
       "<style scoped>\n",
       "    .dataframe tbody tr th:only-of-type {\n",
       "        vertical-align: middle;\n",
       "    }\n",
       "\n",
       "    .dataframe tbody tr th {\n",
       "        vertical-align: top;\n",
       "    }\n",
       "\n",
       "    .dataframe thead th {\n",
       "        text-align: right;\n",
       "    }\n",
       "</style>\n",
       "<table border=\"1\" class=\"dataframe\">\n",
       "  <thead>\n",
       "    <tr style=\"text-align: right;\">\n",
       "      <th></th>\n",
       "      <th>sex</th>\n",
       "      <th>race</th>\n",
       "      <th>educ_r</th>\n",
       "      <th>r_age</th>\n",
       "      <th>workmos</th>\n",
       "      <th>welfare</th>\n",
       "      <th>charity</th>\n",
       "      <th>ssi</th>\n",
       "      <th>earnings</th>\n",
       "      <th>police</th>\n",
       "      <th>earnings_predict</th>\n",
       "    </tr>\n",
       "  </thead>\n",
       "  <tbody>\n",
       "    <tr>\n",
       "      <th>1</th>\n",
       "      <td>1</td>\n",
       "      <td>1.0</td>\n",
       "      <td>4.0</td>\n",
       "      <td>29.0</td>\n",
       "      <td>12</td>\n",
       "      <td>0</td>\n",
       "      <td>0</td>\n",
       "      <td>0</td>\n",
       "      <td>84.000000</td>\n",
       "      <td>0.0</td>\n",
       "      <td>88.936735</td>\n",
       "    </tr>\n",
       "    <tr>\n",
       "      <th>2</th>\n",
       "      <td>2</td>\n",
       "      <td>3.0</td>\n",
       "      <td>4.0</td>\n",
       "      <td>40.0</td>\n",
       "      <td>12</td>\n",
       "      <td>0</td>\n",
       "      <td>0</td>\n",
       "      <td>0</td>\n",
       "      <td>93.890511</td>\n",
       "      <td>1.0</td>\n",
       "      <td>93.890511</td>\n",
       "    </tr>\n",
       "    <tr>\n",
       "      <th>3</th>\n",
       "      <td>1</td>\n",
       "      <td>3.0</td>\n",
       "      <td>2.0</td>\n",
       "      <td>36.0</td>\n",
       "      <td>10</td>\n",
       "      <td>0</td>\n",
       "      <td>0</td>\n",
       "      <td>0</td>\n",
       "      <td>27.500000</td>\n",
       "      <td>0.0</td>\n",
       "      <td>25.543831</td>\n",
       "    </tr>\n",
       "    <tr>\n",
       "      <th>4</th>\n",
       "      <td>1</td>\n",
       "      <td>1.0</td>\n",
       "      <td>4.0</td>\n",
       "      <td>71.0</td>\n",
       "      <td>11</td>\n",
       "      <td>0</td>\n",
       "      <td>0</td>\n",
       "      <td>0</td>\n",
       "      <td>85.000000</td>\n",
       "      <td>1.0</td>\n",
       "      <td>120.066274</td>\n",
       "    </tr>\n",
       "    <tr>\n",
       "      <th>5</th>\n",
       "      <td>1</td>\n",
       "      <td>4.0</td>\n",
       "      <td>4.0</td>\n",
       "      <td>30.0</td>\n",
       "      <td>12</td>\n",
       "      <td>0</td>\n",
       "      <td>0</td>\n",
       "      <td>0</td>\n",
       "      <td>135.000000</td>\n",
       "      <td>1.0</td>\n",
       "      <td>78.583466</td>\n",
       "    </tr>\n",
       "  </tbody>\n",
       "</table>\n",
       "</div>"
      ],
      "text/plain": [
       "   sex  race  educ_r  r_age  workmos  welfare  charity  ssi    earnings  \\\n",
       "1    1   1.0     4.0   29.0       12        0        0    0   84.000000   \n",
       "2    2   3.0     4.0   40.0       12        0        0    0   93.890511   \n",
       "3    1   3.0     2.0   36.0       10        0        0    0   27.500000   \n",
       "4    1   1.0     4.0   71.0       11        0        0    0   85.000000   \n",
       "5    1   4.0     4.0   30.0       12        0        0    0  135.000000   \n",
       "\n",
       "   police  earnings_predict  \n",
       "1     0.0         88.936735  \n",
       "2     1.0         93.890511  \n",
       "3     0.0         25.543831  \n",
       "4     1.0        120.066274  \n",
       "5     1.0         78.583466  "
      ]
     },
     "execution_count": 49,
     "metadata": {},
     "output_type": "execute_result"
    }
   ],
   "source": [
    "df.head()"
   ]
  },
  {
   "cell_type": "code",
   "execution_count": 50,
   "id": "6b06521b-fc2d-443b-8f4c-56fdd88dd8cb",
   "metadata": {},
   "outputs": [
    {
     "data": {
      "text/plain": [
       "np.int64(0)"
      ]
     },
     "execution_count": 50,
     "metadata": {},
     "output_type": "execute_result"
    }
   ],
   "source": [
    "df[\"earnings\"].isna().sum()"
   ]
  },
  {
   "cell_type": "markdown",
   "id": "4091e61c-4672-42ef-bf05-6050a1ef8a02",
   "metadata": {},
   "source": [
    "## Comparison of distribution"
   ]
  },
  {
   "cell_type": "code",
   "execution_count": 68,
   "id": "c8f2b867-b542-4ef3-850b-99d5ebca92a2",
   "metadata": {},
   "outputs": [
    {
     "data": {
      "text/plain": [
       "(0.0, 200.0)"
      ]
     },
     "execution_count": 68,
     "metadata": {},
     "output_type": "execute_result"
    },
    {
     "data": {
      "image/png": "[encoded data removed]",
      "text/plain": [
       "<Figure size 640x480 with 2 Axes>"
      ]
     },
     "metadata": {},
     "output_type": "display_data"
    }
   ],
   "source": [
    "fig = plt.figure()\n",
    "ax1 = fig.add_subplot(1,2,1)\n",
    "sns.histplot(df_earning_imputed_KNN[\"earnings\"])\n",
    "plt.title(\"Imputation with matching\")\n",
    "plt.xlim(0,200)\n",
    "ax2 = fig.add_subplot(1,2,2)\n",
    "plt.title(\"Imputation with Linear Regression\")\n",
    "sns.histplot(df[\"earnings\"])\n",
    "plt.xlim(0,200)"
   ]
  },
  {
   "cell_type": "markdown",
   "id": "59b48af3-193b-4eea-8fe9-6e7f4fec7606",
   "metadata": {},
   "source": [
    "## Comment \n",
    "- The distribution is heavily right-skewed for matching.\n",
    "- A high concentration of earnings values is near 0, with frequency quickly dropping off as earnings increase.\n",
    "- This approach leads to a very large number of low-income values.\n",
    "  Matching imputation tends to replicate patterns from similar observed units and may reinforce existing distribution biases.\n",
    "  Linear regression imputation introduces a more continuous prediction based on covariates. It produce a broader distribution and potentially reducing clustering at the low end."
   ]
  },
  {
   "cell_type": "markdown",
   "id": "2ec54b3e",
   "metadata": {},
   "source": [
    "## Multiple variables imputation \n",
    "\n",
    "Let's move on to the case where multiple variables present missing values. \n",
    "To process we will introduce missing values in the age variable. \n",
    "\n",
    "* Write a function to cause approximatively 30% of the values of a variable x to be missing. Design the mechanism to be at random but not completely at random: the probability of missing age should depend on some y variable. \n",
    "* Apply the function to the age variable with a dependence on the sex.\n",
    "* Explore the iterative imputer of scikit-learn."
   ]
  },
  {
   "cell_type": "code",
   "execution_count": 51,
   "id": "bf6130b7",
   "metadata": {},
   "outputs": [],
   "source": [
    "## Your answer"
   ]
  }
 ],
 "metadata": {
  "kernelspec": {
   "display_name": "Python (portofolio)",
   "language": "python",
   "name": "portofolio"
  },
  "language_info": {
   "codemirror_mode": {
    "name": "ipython",
    "version": 3
   },
   "file_extension": ".py",
   "mimetype": "text/x-python",
   "name": "python",
   "nbconvert_exporter": "python",
   "pygments_lexer": "ipython3",
   "version": "3.9.21"
  }
 },
 "nbformat": 4,
 "nbformat_minor": 5
}
